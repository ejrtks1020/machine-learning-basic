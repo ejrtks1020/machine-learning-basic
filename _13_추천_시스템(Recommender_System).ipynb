{
  "nbformat": 4,
  "nbformat_minor": 0,
  "metadata": {
    "colab": {
      "name": "_13 추천 시스템(Recommender System).ipynb",
      "provenance": [],
      "collapsed_sections": [],
      "include_colab_link": true
    },
    "kernelspec": {
      "name": "python3",
      "display_name": "Python 3"
    }
  },
  "cells": [
    {
      "cell_type": "markdown",
      "metadata": {
        "id": "view-in-github",
        "colab_type": "text"
      },
      "source": [
        "<a href=\"https://colab.research.google.com/github/ejrtks1020/machine-learning-basic/blob/main/_13_%EC%B6%94%EC%B2%9C_%EC%8B%9C%EC%8A%A4%ED%85%9C(Recommender_System).ipynb\" target=\"_parent\"><img src=\"https://colab.research.google.com/assets/colab-badge.svg\" alt=\"Open In Colab\"/></a>"
      ]
    },
    {
      "cell_type": "markdown",
      "metadata": {
        "id": "oIAnNuuX2EOr"
      },
      "source": [
        "# 추천 시스템 (Recommender Systems)\n",
        "\n",
        "* 추천 시스템은 크게 두가지로 구분 가능\n",
        "  * 컨텐츠 기반 필터링 (content-based filtering)\n",
        "  * 협업 필터링 (collaborative filtering)\n",
        "* 두가지를 조합한 hybrid 방식도 가능\n",
        "* 컨텐츠 기반 필터링은 지금까지 사용자의 이전 행동과 명시적 피드백을 통해 사용자가 좋아하는 것과 유사한 항목을 추천\n",
        "* 협업 필터링은 사용자와 항목간의 유사성을 동시에 사용해 추천"
      ]
    },
    {
      "cell_type": "markdown",
      "metadata": {
        "id": "pKQvtsfX2bRf"
      },
      "source": [
        "## Surprise\n",
        "\n",
        "* 추천 시스템 개발을 위한 라이브러리\n",
        "* 다양한 모델과 데이터 제공\n",
        "* scikit-learn과 유사한 사용 방법"
      ]
    },
    {
      "cell_type": "code",
      "metadata": {
        "id": "AvuLuP8J16Eb",
        "colab": {
          "base_uri": "https://localhost:8080/"
        },
        "outputId": "4842e00b-b6fa-46da-f21b-f6f6c054b3ae"
      },
      "source": [
        "!pip install scikit-surprise"
      ],
      "execution_count": null,
      "outputs": [
        {
          "output_type": "stream",
          "text": [
            "Collecting scikit-surprise\n",
            "  Downloading scikit-surprise-1.1.1.tar.gz (11.8 MB)\n",
            "\u001b[K     |████████████████████████████████| 11.8 MB 19.0 MB/s \n",
            "\u001b[?25hRequirement already satisfied: joblib>=0.11 in /usr/local/lib/python3.7/dist-packages (from scikit-surprise) (1.0.1)\n",
            "Requirement already satisfied: numpy>=1.11.2 in /usr/local/lib/python3.7/dist-packages (from scikit-surprise) (1.19.5)\n",
            "Requirement already satisfied: scipy>=1.0.0 in /usr/local/lib/python3.7/dist-packages (from scikit-surprise) (1.4.1)\n",
            "Requirement already satisfied: six>=1.10.0 in /usr/local/lib/python3.7/dist-packages (from scikit-surprise) (1.15.0)\n",
            "Building wheels for collected packages: scikit-surprise\n",
            "  Building wheel for scikit-surprise (setup.py) ... \u001b[?25l\u001b[?25hdone\n",
            "  Created wheel for scikit-surprise: filename=scikit_surprise-1.1.1-cp37-cp37m-linux_x86_64.whl size=1619420 sha256=76c86115ce344bb4f5bbd306112fba26a475caaea4b75df4a0397d1918549888\n",
            "  Stored in directory: /root/.cache/pip/wheels/76/44/74/b498c42be47b2406bd27994e16c5188e337c657025ab400c1c\n",
            "Successfully built scikit-surprise\n",
            "Installing collected packages: scikit-surprise\n",
            "Successfully installed scikit-surprise-1.1.1\n"
          ],
          "name": "stdout"
        }
      ]
    },
    {
      "cell_type": "markdown",
      "metadata": {
        "id": "f8S2mbY13TPl"
      },
      "source": [
        "간단한 surprise 실습"
      ]
    },
    {
      "cell_type": "code",
      "metadata": {
        "id": "FXrDk0XH2vbx"
      },
      "source": [
        "from surprise import SVD\n",
        "from surprise import Dataset\n",
        "from surprise.model_selection import cross_validate"
      ],
      "execution_count": null,
      "outputs": []
    },
    {
      "cell_type": "code",
      "metadata": {
        "id": "M0SJB24k3ReQ",
        "colab": {
          "base_uri": "https://localhost:8080/"
        },
        "outputId": "b63f5b3c-a04e-48bd-c214-50f8237b5c8e"
      },
      "source": [
        "data = Dataset.load_builtin('ml-100k', prompt = False)\n",
        "data.raw_ratings[:10]"
      ],
      "execution_count": null,
      "outputs": [
        {
          "output_type": "stream",
          "text": [
            "Trying to download dataset from http://files.grouplens.org/datasets/movielens/ml-100k.zip...\n",
            "Done! Dataset ml-100k has been saved to /root/.surprise_data/ml-100k\n"
          ],
          "name": "stdout"
        },
        {
          "output_type": "execute_result",
          "data": {
            "text/plain": [
              "[('196', '242', 3.0, '881250949'),\n",
              " ('186', '302', 3.0, '891717742'),\n",
              " ('22', '377', 1.0, '878887116'),\n",
              " ('244', '51', 2.0, '880606923'),\n",
              " ('166', '346', 1.0, '886397596'),\n",
              " ('298', '474', 4.0, '884182806'),\n",
              " ('115', '265', 2.0, '881171488'),\n",
              " ('253', '465', 5.0, '891628467'),\n",
              " ('305', '451', 3.0, '886324817'),\n",
              " ('6', '86', 3.0, '883603013')]"
            ]
          },
          "metadata": {},
          "execution_count": 3
        }
      ]
    },
    {
      "cell_type": "markdown",
      "metadata": {
        "id": "SiSr5bB_IWdB"
      },
      "source": [
        "id : 196 사용자가 242 라는 item에대해 평점을 3점을 줌"
      ]
    },
    {
      "cell_type": "code",
      "metadata": {
        "id": "IGZjsosZ3jwy"
      },
      "source": [
        "model = SVD()"
      ],
      "execution_count": null,
      "outputs": []
    },
    {
      "cell_type": "code",
      "metadata": {
        "id": "nAF9VVHt9qz9",
        "colab": {
          "base_uri": "https://localhost:8080/"
        },
        "outputId": "2fc9ee67-faaf-47bb-ebbc-53ea4da2a8a4"
      },
      "source": [
        "cross_validate(model, data, measures= ['rmse', 'mae'], cv = 5, verbose = True)"
      ],
      "execution_count": null,
      "outputs": [
        {
          "output_type": "stream",
          "text": [
            "Evaluating RMSE, MAE of algorithm SVD on 5 split(s).\n",
            "\n",
            "                  Fold 1  Fold 2  Fold 3  Fold 4  Fold 5  Mean    Std     \n",
            "RMSE (testset)    0.9317  0.9334  0.9409  0.9326  0.9375  0.9352  0.0035  \n",
            "MAE (testset)     0.7350  0.7374  0.7396  0.7354  0.7386  0.7372  0.0018  \n",
            "Fit time          4.67    4.72    4.68    4.67    4.67    4.68    0.02    \n",
            "Test time         0.16    0.23    0.22    0.15    0.22    0.19    0.04    \n"
          ],
          "name": "stdout"
        },
        {
          "output_type": "execute_result",
          "data": {
            "text/plain": [
              "{'fit_time': (4.674195766448975,\n",
              "  4.716702699661255,\n",
              "  4.680781126022339,\n",
              "  4.665648698806763,\n",
              "  4.669947385787964),\n",
              " 'test_mae': array([0.735037  , 0.73740176, 0.73962931, 0.73537754, 0.73856501]),\n",
              " 'test_rmse': array([0.93172208, 0.93335432, 0.94089224, 0.93261389, 0.93753337]),\n",
              " 'test_time': (0.1562497615814209,\n",
              "  0.23165011405944824,\n",
              "  0.21817684173583984,\n",
              "  0.14690017700195312,\n",
              "  0.22143197059631348)}"
            ]
          },
          "metadata": {},
          "execution_count": 5
        }
      ]
    },
    {
      "cell_type": "markdown",
      "metadata": {
        "id": "tP5L65zvCRlv"
      },
      "source": [
        "## 컨텐츠 기반 필터링 (Content-based Filtering)\n",
        "\n",
        "* 컨텐츠 기반 필터링은 이전의 행동과 명시적 피드백을 통해 좋아하는 것과 유사한 항목을 추천\n",
        "  * ex) 내가 지금 까지 시청한 영화 목록과 다른 사용자의 시청 목록을 비교해 나와 비슷한 취향의 사용자가 시청한 영화를 추천\n",
        "* 유사도를 기반으로 추천\n",
        "* 컨텐츠 기반 필터링은 다음과 같은 장단점이 있다.\n",
        "  * 장점\n",
        "    * 많은 수의 사용자를 대상으로 쉽게 확장 가능\n",
        "    * 사용자가 관심을 갖지 않던 상품 추천 가능\n",
        "  * 단점\n",
        "    * 입력 특성을 직접 설계해야 하기 때문에 많은 도메인 지식이 필요\n",
        "    * 사용자의 기존 관심사항을 기반으로만 추천 가능"
      ]
    },
    {
      "cell_type": "code",
      "metadata": {
        "id": "M81hRKa9-9pK"
      },
      "source": [
        "import numpy as np\n",
        "from surprise import Dataset"
      ],
      "execution_count": null,
      "outputs": []
    },
    {
      "cell_type": "markdown",
      "metadata": {
        "id": "0NyTt1u8LLCP"
      },
      "source": [
        "* 이진 벡터의 내적을 통해 다른 사용자들과의 유사도 구하기\n",
        "* 나와 가장 높은 유사도를 가진 사용자의 시청 목록을 추천"
      ]
    },
    {
      "cell_type": "code",
      "metadata": {
        "id": "-Y3Y_rNWH-zT"
      },
      "source": [
        "data = Dataset.load_builtin('ml-100k', prompt = False)\n",
        "raw_data = np.array(data.raw_ratings, dtype= int)"
      ],
      "execution_count": null,
      "outputs": []
    },
    {
      "cell_type": "markdown",
      "metadata": {
        "id": "v7W0PttzJYxQ"
      },
      "source": [
        "0부터 데이터가 시작하도록 조절"
      ]
    },
    {
      "cell_type": "code",
      "metadata": {
        "id": "z60YDlPOJzSr"
      },
      "source": [
        "raw_data[:, 0] -= 1\n",
        "raw_data[:, 1] -= 1"
      ],
      "execution_count": null,
      "outputs": []
    },
    {
      "cell_type": "markdown",
      "metadata": {
        "id": "3sijfzqBJdgJ"
      },
      "source": [
        "인접행렬 크기"
      ]
    },
    {
      "cell_type": "code",
      "metadata": {
        "id": "4f20U_BFIbQA",
        "colab": {
          "base_uri": "https://localhost:8080/"
        },
        "outputId": "ef9f9120-a4cb-4e50-87ca-3b0223f08d54"
      },
      "source": [
        "n_users = np.max(raw_data[:,0])\n",
        "n_movies = np.max(raw_data[:,1])\n",
        "shape = (n_users +1, n_movies +1)\n",
        "shape"
      ],
      "execution_count": null,
      "outputs": [
        {
          "output_type": "execute_result",
          "data": {
            "text/plain": [
              "(943, 1682)"
            ]
          },
          "metadata": {},
          "execution_count": 9
        }
      ]
    },
    {
      "cell_type": "code",
      "metadata": {
        "id": "JT6HXk_8I4Zd",
        "colab": {
          "base_uri": "https://localhost:8080/"
        },
        "outputId": "197f27ec-2d0c-40fa-bb7f-747b83d65ecf"
      },
      "source": [
        "adj_matrix = np.ndarray(shape, dtype = int)\n",
        "for user_id, movie_id, rating, time in raw_data:\n",
        "  adj_matrix[user_id][movie_id] = 1.\n",
        "\n",
        "adj_matrix "
      ],
      "execution_count": null,
      "outputs": [
        {
          "output_type": "execute_result",
          "data": {
            "text/plain": [
              "array([[1, 1, 1, ..., 0, 0, 0],\n",
              "       [1, 0, 0, ..., 0, 0, 0],\n",
              "       [0, 0, 0, ..., 0, 0, 0],\n",
              "       ...,\n",
              "       [1, 0, 0, ..., 0, 0, 0],\n",
              "       [0, 0, 0, ..., 0, 0, 0],\n",
              "       [0, 1, 0, ..., 0, 0, 0]])"
            ]
          },
          "metadata": {},
          "execution_count": 10
        }
      ]
    },
    {
      "cell_type": "code",
      "metadata": {
        "id": "bVShJje-Jn0x",
        "colab": {
          "base_uri": "https://localhost:8080/"
        },
        "outputId": "51fef580-fc2c-40d3-92c8-70c4bb4a784f"
      },
      "source": [
        "my_id, my_vector = 0, adj_matrix[0]\n",
        "best_match, best_match_id, best_match_vector = -1, -1, []\n",
        "for user_id, user_vector in enumerate(adj_matrix):\n",
        "  if my_id != user_id:\n",
        "    similarity = np.dot(my_vector, user_vector)\n",
        "    if similarity > best_match:\n",
        "      best_match = similarity\n",
        "      best_match_id = user_id\n",
        "      best_match_vector = user_vector\n",
        "print('Best Match: {}, Best Match ID: {}'.format(best_match, best_match_id))"
      ],
      "execution_count": null,
      "outputs": [
        {
          "output_type": "stream",
          "text": [
            "Best Match: 183, Best Match ID: 275\n"
          ],
          "name": "stdout"
        }
      ]
    },
    {
      "cell_type": "code",
      "metadata": {
        "id": "mRr8UnD7MB7U",
        "colab": {
          "base_uri": "https://localhost:8080/"
        },
        "outputId": "932cf61c-1faf-4534-f7cd-af3609595908"
      },
      "source": [
        "recommend_list = []\n",
        "for i, log in enumerate(zip(my_vector, best_match_vector)):\n",
        "  log1, log2 = log\n",
        "  if log1 < 1. and log2 > 0.:\n",
        "    recommend_list.append(i)\n",
        "print(recommend_list)\n"
      ],
      "execution_count": null,
      "outputs": [
        {
          "output_type": "stream",
          "text": [
            "[272, 273, 275, 280, 281, 283, 287, 288, 289, 290, 292, 293, 297, 299, 300, 301, 302, 306, 312, 314, 315, 316, 317, 321, 322, 323, 324, 327, 330, 331, 332, 333, 339, 342, 345, 346, 353, 354, 355, 356, 357, 363, 364, 365, 366, 372, 374, 378, 379, 381, 382, 383, 384, 385, 386, 387, 390, 391, 392, 394, 395, 396, 398, 400, 401, 402, 403, 404, 405, 406, 407, 408, 409, 410, 412, 414, 416, 417, 418, 419, 420, 422, 424, 425, 426, 427, 428, 430, 431, 432, 435, 442, 446, 447, 448, 449, 450, 451, 452, 454, 455, 457, 460, 461, 462, 468, 469, 470, 471, 472, 473, 474, 478, 495, 500, 507, 517, 522, 525, 530, 539, 540, 543, 545, 546, 548, 549, 550, 551, 553, 557, 558, 560, 561, 562, 563, 565, 566, 567, 568, 570, 571, 574, 575, 576, 577, 580, 581, 582, 585, 587, 589, 590, 594, 596, 602, 623, 626, 627, 630, 633, 635, 639, 646, 648, 651, 652, 654, 657, 664, 668, 671, 677, 678, 681, 683, 684, 685, 690, 691, 692, 695, 696, 708, 709, 714, 718, 719, 720, 724, 726, 727, 731, 733, 734, 736, 738, 741, 742, 745, 746, 747, 749, 750, 754, 758, 762, 764, 767, 768, 769, 770, 771, 772, 773, 778, 779, 782, 785, 788, 789, 793, 795, 796, 799, 800, 801, 802, 805, 806, 808, 815, 819, 822, 824, 830, 839, 842, 843, 844, 852, 853, 870, 875, 878, 880, 889, 901, 914, 915, 918, 921, 927, 929, 930, 938, 940, 941, 942, 948, 950, 958, 968, 973, 974, 976, 992, 999, 1005, 1009, 1010, 1012, 1015, 1018, 1027, 1030, 1034, 1035, 1041, 1043, 1045, 1046, 1051, 1055, 1072, 1073, 1078, 1080, 1082, 1088, 1089, 1090, 1094, 1097, 1108, 1109, 1117, 1128, 1130, 1134, 1139, 1140, 1144, 1156, 1169, 1171, 1179, 1193, 1198, 1207, 1209, 1212, 1217, 1219, 1220, 1227, 1231, 1238, 1239, 1243, 1244, 1252, 1266, 1272, 1273, 1300, 1313, 1406, 1412, 1415, 1470, 1477, 1480, 1481, 1482]\n"
          ],
          "name": "stdout"
        }
      ]
    },
    {
      "cell_type": "markdown",
      "metadata": {
        "id": "zR7-LITWZQnJ"
      },
      "source": [
        "* 유클리드 거리를 사용해 추천\n",
        "$$euclidean = \\sqrt{\\sum_{d=1}^{D}(A_i - B_i)^2}$$\n",
        "* 거리가 가까울 수록(값이 작을 수록) 나와 유사한 사용자"
      ]
    },
    {
      "cell_type": "code",
      "metadata": {
        "id": "WhbLJGz3NuNA",
        "colab": {
          "base_uri": "https://localhost:8080/"
        },
        "outputId": "a3fde3ea-3a66-4f88-947f-682c5fa5f449"
      },
      "source": [
        "my_id, my_vector = 0, adj_matrix[0]\n",
        "best_match, best_match_id, best_match_vector = 9999, -1, []\n",
        "for user_id, user_vector in enumerate(adj_matrix):\n",
        "\n",
        "  if my_id != user_id:\n",
        "    euclidean_dist = np.sqrt(np.sum(np.square(my_vector - user_vector)))\n",
        "    if euclidean_dist < best_match:\n",
        "      best_match = euclidean_dist\n",
        "      best_match_id = user_id\n",
        "      best_match_vector = user_vector\n",
        "print('Best Match: {}, Best Match ID: {}'.format(best_match, best_match_id))"
      ],
      "execution_count": null,
      "outputs": [
        {
          "output_type": "stream",
          "text": [
            "Best Match: 14.832396974191326, Best Match ID: 737\n"
          ],
          "name": "stdout"
        }
      ]
    },
    {
      "cell_type": "code",
      "metadata": {
        "id": "xbS037xebA76",
        "colab": {
          "base_uri": "https://localhost:8080/"
        },
        "outputId": "2dde21b4-e472-4d30-c882-82f3382ce459"
      },
      "source": [
        "recommend_list = []\n",
        "for i, log in enumerate(zip(my_vector, best_match_vector)):\n",
        "  log1, log2 = log\n",
        "  if log1 < 1. and log2 > 0.:\n",
        "    recommend_list.append(i)\n",
        "print(recommend_list)"
      ],
      "execution_count": null,
      "outputs": [
        {
          "output_type": "stream",
          "text": [
            "[297, 312, 317, 342, 356, 366, 379, 384, 392, 402, 404, 407, 417, 422, 428, 433, 448, 454, 469, 473, 495, 510, 516, 526, 527, 549, 567, 602, 635, 649, 650, 654, 658, 661, 664, 696, 731, 746, 750, 754, 915, 918, 925, 929, 950, 968, 1015, 1046]\n"
          ],
          "name": "stdout"
        }
      ]
    },
    {
      "cell_type": "markdown",
      "metadata": {
        "id": "52c6nfonct7x"
      },
      "source": [
        "* 코사인 유사도를 사용해 추천\n",
        "\n",
        "\\begin{equation}\n",
        "cos \\theta = \\frac{A \\cdot B}{||A|| \\times ||B||}\n",
        "\\end{equation}\n",
        "* 두 벡터가 이루고 있는 각을 계산"
      ]
    },
    {
      "cell_type": "code",
      "metadata": {
        "id": "WEJMnmAYejJW"
      },
      "source": [
        "def compute_cos_similarity(v1, v2):\n",
        "  norm1 = np.sqrt(np.sum(np.square(v1)))\n",
        "  norm2 = np.sqrt(np.sum(np.square(v2)))\n",
        "  dot = np.dot(v1, v2)\n",
        "  return dot / (norm1 * norm2)"
      ],
      "execution_count": null,
      "outputs": []
    },
    {
      "cell_type": "code",
      "metadata": {
        "id": "eouFYlVZb3iT",
        "colab": {
          "base_uri": "https://localhost:8080/"
        },
        "outputId": "509bb8f8-f7c8-4c7d-b86a-c32126398ade"
      },
      "source": [
        "my_id, my_vector = 0, adj_matrix[0]\n",
        "best_match, best_match_id, best_match_vector =-1, -1, []\n",
        "for user_id, user_vector in enumerate(adj_matrix):\n",
        "  if my_id != user_id:\n",
        "    cos_simularity = compute_cos_similarity(my_vector, user_vector)\n",
        "    if cos_simularity > best_match:\n",
        "      best_match = cos_simularity\n",
        "      best_match_id = user_id\n",
        "      best_match_vector = user_vector\n",
        "print('Best Match: {}, Best Match ID: {}'.format(best_match, best_match_id))"
      ],
      "execution_count": null,
      "outputs": [
        {
          "output_type": "stream",
          "text": [
            "Best Match: 0.5278586163659506, Best Match ID: 915\n"
          ],
          "name": "stdout"
        }
      ]
    },
    {
      "cell_type": "code",
      "metadata": {
        "id": "HVhjBMure_4D",
        "colab": {
          "base_uri": "https://localhost:8080/"
        },
        "outputId": "afc7dc2f-7a3c-4bd4-bc70-d1ff4798803c"
      },
      "source": [
        "recommend_list = []\n",
        "for i, log in enumerate(zip(my_vector, best_match_vector)):\n",
        "  log1, log2 = log\n",
        "  if log1 < 1. and log2 > 0.: #다른 유저는 봤지만 나는 안본 영화\n",
        "    recommend_list.append(i)\n",
        "print(recommend_list)"
      ],
      "execution_count": null,
      "outputs": [
        {
          "output_type": "stream",
          "text": [
            "[272, 275, 279, 280, 283, 285, 289, 294, 297, 316, 317, 355, 365, 366, 368, 379, 380, 381, 384, 386, 392, 398, 401, 404, 416, 420, 422, 424, 426, 427, 430, 432, 450, 460, 461, 466, 469, 471, 473, 474, 475, 479, 482, 483, 497, 505, 508, 510, 511, 522, 526, 527, 529, 530, 534, 536, 540, 545, 548, 549, 556, 557, 558, 560, 565, 567, 568, 569, 577, 580, 581, 582, 592, 596, 630, 635, 639, 641, 649, 651, 654, 673, 677, 678, 683, 684, 692, 696, 701, 703, 707, 708, 709, 712, 714, 719, 720, 726, 731, 734, 736, 738, 740, 745, 747, 754, 755, 761, 762, 763, 766, 780, 789, 791, 805, 819, 823, 824, 830, 843, 862, 865, 918, 929, 930, 938, 942, 943, 947, 958, 959, 960, 970, 977, 1004, 1008, 1009, 1010, 1013, 1041, 1045, 1069, 1072, 1073, 1078, 1097, 1100, 1108, 1112, 1118, 1134, 1193, 1205, 1207, 1216, 1219, 1267, 1334, 1400, 1427, 1596, 1681]\n"
          ],
          "name": "stdout"
        }
      ]
    },
    {
      "cell_type": "markdown",
      "metadata": {
        "id": "0dbZPgC4gZYw"
      },
      "source": [
        "기존 방법에 명시적 피드백(사용자가 평가한 영화 점수)을 추가해 실험"
      ]
    },
    {
      "cell_type": "code",
      "metadata": {
        "id": "_5udkr1PfGAD",
        "colab": {
          "base_uri": "https://localhost:8080/"
        },
        "outputId": "5973a2a8-04cf-47c7-918c-33480b937d45"
      },
      "source": [
        "adj_matrix = np.ndarray(shape, dtype = int)\n",
        "for user_id, movie_id, rating, time in raw_data:\n",
        "  adj_matrix[user_id][movie_id] = rating\n",
        "\n",
        "adj_matrix"
      ],
      "execution_count": null,
      "outputs": [
        {
          "output_type": "execute_result",
          "data": {
            "text/plain": [
              "array([[5, 3, 4, ..., 0, 0, 0],\n",
              "       [4, 0, 0, ..., 0, 0, 0],\n",
              "       [0, 0, 0, ..., 0, 0, 0],\n",
              "       ...,\n",
              "       [5, 0, 0, ..., 0, 0, 0],\n",
              "       [0, 0, 0, ..., 0, 0, 0],\n",
              "       [0, 5, 0, ..., 0, 0, 0]])"
            ]
          },
          "metadata": {},
          "execution_count": 18
        }
      ]
    },
    {
      "cell_type": "code",
      "metadata": {
        "colab": {
          "base_uri": "https://localhost:8080/"
        },
        "id": "6b3D895aSOmY",
        "outputId": "2298afd4-d670-4260-8fc2-f099a329a4d3"
      },
      "source": [
        "my_id, my_vector = 0, adj_matrix[0]\n",
        "best_match, best_match_id, best_match_vector = 9999, -1, []\n",
        "for user_id, user_vector in enumerate(adj_matrix):\n",
        "\n",
        "  if my_id != user_id:\n",
        "    euclidean_dist = np.sqrt(np.sum(np.square(my_vector - user_vector)))\n",
        "    if euclidean_dist < best_match:\n",
        "      best_match = euclidean_dist\n",
        "      best_match_id = user_id\n",
        "      best_match_vector = user_vector\n",
        "print('Best Match: {}, Best Match ID: {}'.format(best_match, best_match_id))"
      ],
      "execution_count": null,
      "outputs": [
        {
          "output_type": "stream",
          "text": [
            "Best Match: 55.06359959174482, Best Match ID: 737\n"
          ],
          "name": "stdout"
        }
      ]
    },
    {
      "cell_type": "code",
      "metadata": {
        "id": "ApfZVTtGgs41",
        "colab": {
          "base_uri": "https://localhost:8080/"
        },
        "outputId": "365be779-0916-4aaf-e323-88ff43dbfb21"
      },
      "source": [
        "my_id, my_vector = 0, adj_matrix[0]\n",
        "best_match, best_match_id, best_match_vector =-1, -1, []\n",
        "for user_id, user_vector in enumerate(adj_matrix):\n",
        "  if my_id != user_id:\n",
        "    cos_simularity = compute_cos_similarity(my_vector, user_vector)\n",
        "    if cos_simularity > best_match:\n",
        "      best_match = cos_simularity\n",
        "      best_match_id = user_id\n",
        "      best_match_vector = user_vector\n",
        "print('Best Match: {}, Best Match ID: {}'.format(best_match, best_match_id))"
      ],
      "execution_count": null,
      "outputs": [
        {
          "output_type": "stream",
          "text": [
            "Best Match: 0.569065731527988, Best Match ID: 915\n"
          ],
          "name": "stdout"
        }
      ]
    },
    {
      "cell_type": "code",
      "metadata": {
        "id": "OYTI1nT0hKtz"
      },
      "source": [
        ""
      ],
      "execution_count": null,
      "outputs": []
    },
    {
      "cell_type": "markdown",
      "metadata": {
        "id": "HreRrslahd32"
      },
      "source": [
        "## 협업 필터링(Collaborative Filtering)\n",
        "\n",
        "* 사용자와 항목의 유사성을 동시에 고려해 추천\n",
        "* 기존에 내 관심사가 아닌 항목이라도 추천 가능\n",
        "* 자동으로 임베딩 학습 가능\n",
        "* 협업 필터링은 다음과 같은 장단점을 갖고 있다.\n",
        "  * 장점\n",
        "    * 자동으로 임베딩을 학습하기 때문에 도메인 지식이 필요 없다.\n",
        "    * 기존의 관심사가 아니더라도 추천 가능\n",
        "  * 단점\n",
        "    * 학습 과정에 나오지 않은 항목은 임베딩을 만들 수 없음\n",
        "    * 추가 특성을 사용하기 어려움"
      ]
    },
    {
      "cell_type": "code",
      "metadata": {
        "id": "BSj5Ex6yhPxq"
      },
      "source": [
        "from surprise import KNNBasic, SVD, SVDpp, NMF\n",
        "from surprise import Dataset\n",
        "from surprise.model_selection import cross_validate\n"
      ],
      "execution_count": null,
      "outputs": []
    },
    {
      "cell_type": "code",
      "metadata": {
        "id": "mWAiO62WkH2U"
      },
      "source": [
        "data = Dataset.load_builtin('ml-100k', prompt=False)"
      ],
      "execution_count": null,
      "outputs": []
    },
    {
      "cell_type": "markdown",
      "metadata": {
        "id": "LKP-UxZkkc8n"
      },
      "source": [
        "* KNN을 사용한 협업 필터링"
      ]
    },
    {
      "cell_type": "code",
      "metadata": {
        "id": "x9LlEDqvkayg",
        "colab": {
          "base_uri": "https://localhost:8080/"
        },
        "outputId": "23be4e9c-f24a-407e-b62e-5e4acae05efe"
      },
      "source": [
        " model = KNNBasic()\n",
        " cross_validate(model, data, measures = ['rmse', 'mae'], cv = 5, n_jobs = 4, verbose = True)\n",
        " "
      ],
      "execution_count": null,
      "outputs": [
        {
          "output_type": "stream",
          "text": [
            "Evaluating RMSE, MAE of algorithm KNNBasic on 5 split(s).\n",
            "\n",
            "                  Fold 1  Fold 2  Fold 3  Fold 4  Fold 5  Mean    Std     \n",
            "RMSE (testset)    0.9814  0.9774  0.9746  0.9727  0.9854  0.9783  0.0046  \n",
            "MAE (testset)     0.7745  0.7726  0.7690  0.7694  0.7776  0.7726  0.0032  \n",
            "Fit time          0.42    0.74    0.62    0.93    0.41    0.62    0.20    \n",
            "Test time         7.02    9.23    8.14    6.43    4.07    6.98    1.74    \n"
          ],
          "name": "stdout"
        },
        {
          "output_type": "execute_result",
          "data": {
            "text/plain": [
              "{'fit_time': (0.4216756820678711,\n",
              "  0.7370917797088623,\n",
              "  0.6194815635681152,\n",
              "  0.9322538375854492,\n",
              "  0.4127507209777832),\n",
              " 'test_mae': array([0.77448556, 0.77264219, 0.76902585, 0.76938509, 0.77764875]),\n",
              " 'test_rmse': array([0.98136466, 0.97740367, 0.97462296, 0.97267695, 0.98535746]),\n",
              " 'test_time': (7.022366046905518,\n",
              "  9.22951078414917,\n",
              "  8.137685060501099,\n",
              "  6.433651685714722,\n",
              "  4.072360992431641)}"
            ]
          },
          "metadata": {},
          "execution_count": 24
        }
      ]
    },
    {
      "cell_type": "markdown",
      "metadata": {
        "id": "QFEFPuSflHew"
      },
      "source": [
        "* SVD를 사용한 협업 필터링"
      ]
    },
    {
      "cell_type": "code",
      "metadata": {
        "id": "H6HJ5bKOlHIb",
        "colab": {
          "base_uri": "https://localhost:8080/"
        },
        "outputId": "92f3c212-48b2-400b-90ca-ef75a4814a9f"
      },
      "source": [
        "model = SVD()\n",
        "cross_validate(model, data, measures = ['rmse', 'mae'], cv = 5, n_jobs = 4, verbose = True)\n"
      ],
      "execution_count": null,
      "outputs": [
        {
          "output_type": "stream",
          "text": [
            "Evaluating RMSE, MAE of algorithm SVD on 5 split(s).\n",
            "\n",
            "                  Fold 1  Fold 2  Fold 3  Fold 4  Fold 5  Mean    Std     \n",
            "RMSE (testset)    0.9351  0.9391  0.9402  0.9273  0.9355  0.9355  0.0045  \n",
            "MAE (testset)     0.7343  0.7399  0.7402  0.7310  0.7409  0.7373  0.0039  \n",
            "Fit time          11.35   14.44   14.69   12.22   8.02    12.14   2.43    \n",
            "Test time         0.58    0.58    0.43    0.28    0.19    0.41    0.16    \n"
          ],
          "name": "stdout"
        },
        {
          "output_type": "execute_result",
          "data": {
            "text/plain": [
              "{'fit_time': (11.351507425308228,\n",
              "  14.439698696136475,\n",
              "  14.692129373550415,\n",
              "  12.219423532485962,\n",
              "  8.015851736068726),\n",
              " 'test_mae': array([0.73428858, 0.73990701, 0.74024502, 0.73102219, 0.7408967 ]),\n",
              " 'test_rmse': array([0.9351248 , 0.93909459, 0.94022504, 0.92733883, 0.93554335]),\n",
              " 'test_time': (0.5757460594177246,\n",
              "  0.5811576843261719,\n",
              "  0.4280698299407959,\n",
              "  0.27796196937561035,\n",
              "  0.19257640838623047)}"
            ]
          },
          "metadata": {},
          "execution_count": 25
        }
      ]
    },
    {
      "cell_type": "markdown",
      "metadata": {
        "id": "MqK8Xgeglkmj"
      },
      "source": [
        "* NMF를 사용한 협업 필터링"
      ]
    },
    {
      "cell_type": "code",
      "metadata": {
        "id": "zSwGKHEDkyue",
        "colab": {
          "base_uri": "https://localhost:8080/"
        },
        "outputId": "0c2bd32a-015c-4896-bf8b-9a4f849b943d"
      },
      "source": [
        "model = NMF()\n",
        "cross_validate(model, data, measures = ['rmse', 'mae'], cv = 5, n_jobs = 4, verbose = True)"
      ],
      "execution_count": null,
      "outputs": [
        {
          "output_type": "stream",
          "text": [
            "Evaluating RMSE, MAE of algorithm NMF on 5 split(s).\n",
            "\n",
            "                  Fold 1  Fold 2  Fold 3  Fold 4  Fold 5  Mean    Std     \n",
            "RMSE (testset)    0.9584  0.9619  0.9600  0.9674  0.9633  0.9622  0.0031  \n",
            "MAE (testset)     0.7540  0.7561  0.7532  0.7625  0.7588  0.7569  0.0034  \n",
            "Fit time          11.56   16.04   15.81   13.01   8.76    13.04   2.73    \n",
            "Test time         0.49    0.51    0.38    0.23    0.14    0.35    0.14    \n"
          ],
          "name": "stdout"
        },
        {
          "output_type": "execute_result",
          "data": {
            "text/plain": [
              "{'fit_time': (11.55679178237915,\n",
              "  16.04265832901001,\n",
              "  15.810329914093018,\n",
              "  13.009305000305176,\n",
              "  8.763279914855957),\n",
              " 'test_mae': array([0.75396569, 0.75609417, 0.75317263, 0.76247348, 0.75882886]),\n",
              " 'test_rmse': array([0.95841444, 0.96188407, 0.9599728 , 0.96740758, 0.96330052]),\n",
              " 'test_time': (0.4914820194244385,\n",
              "  0.5076742172241211,\n",
              "  0.3791999816894531,\n",
              "  0.23329734802246094,\n",
              "  0.1419084072113037)}"
            ]
          },
          "metadata": {},
          "execution_count": 26
        }
      ]
    },
    {
      "cell_type": "markdown",
      "metadata": {
        "id": "odXxXkX0mi_7"
      },
      "source": [
        "* SVD++를 사용한 협업 필터링"
      ]
    },
    {
      "cell_type": "code",
      "metadata": {
        "id": "Ck153w1Tlsxa",
        "colab": {
          "base_uri": "https://localhost:8080/"
        },
        "outputId": "377edb5f-cef0-4754-e85c-7f662bacd97a"
      },
      "source": [
        "model = SVDpp()\n",
        "cross_validate(model, data, measures = ['rmse', 'mae'], cv = 5, n_jobs = 4, verbose = True)"
      ],
      "execution_count": null,
      "outputs": [
        {
          "output_type": "stream",
          "text": [
            "Evaluating RMSE, MAE of algorithm SVDpp on 5 split(s).\n",
            "\n",
            "                  Fold 1  Fold 2  Fold 3  Fold 4  Fold 5  Mean    Std     \n",
            "RMSE (testset)    0.9191  0.9158  0.9164  0.9268  0.9221  0.9201  0.0041  \n",
            "MAE (testset)     0.7213  0.7179  0.7184  0.7277  0.7255  0.7222  0.0038  \n",
            "Fit time          624.85  634.46  619.51  633.58  167.52  535.98  184.32  \n",
            "Test time         12.46   9.56    12.23   5.96    3.22    8.68    3.60    \n"
          ],
          "name": "stdout"
        },
        {
          "output_type": "execute_result",
          "data": {
            "text/plain": [
              "{'fit_time': (624.8518922328949,\n",
              "  634.458086013794,\n",
              "  619.5109956264496,\n",
              "  633.5792768001556,\n",
              "  167.51546573638916),\n",
              " 'test_mae': array([0.72134423, 0.71794848, 0.71843208, 0.7277112 , 0.72547525]),\n",
              " 'test_rmse': array([0.91912878, 0.91583739, 0.91638444, 0.92682742, 0.92213951]),\n",
              " 'test_time': (12.456313133239746,\n",
              "  9.557472944259644,\n",
              "  12.229044914245605,\n",
              "  5.9612016677856445,\n",
              "  3.2181286811828613)}"
            ]
          },
          "metadata": {},
          "execution_count": 27
        }
      ]
    },
    {
      "cell_type": "markdown",
      "metadata": {
        "id": "hMNwOXpjqeWq"
      },
      "source": [
        "## 하이브리드(Hybrid)\n",
        "\n",
        "* 컨텐츠 기반 필터링과 협업 필터링을 조합한 방식\n",
        "* 많은 하이브리드 방식이 존재\n",
        "* 실습에서는 협업 필터링으로 임베딩을 학습하고 컨텐츠 기반 필터링으로 유사도 기반 추천을 수행하는 추천 엔진 개발"
      ]
    },
    {
      "cell_type": "code",
      "metadata": {
        "id": "9mDHmnwFmzwd"
      },
      "source": [
        "import numpy as np\n",
        "from sklearn.decomposition import randomized_svd, non_negative_factorization\n",
        "from surprise import Dataset"
      ],
      "execution_count": null,
      "outputs": []
    },
    {
      "cell_type": "code",
      "metadata": {
        "id": "MtEuyQGGMmor"
      },
      "source": [
        "data = Dataset.load_builtin('ml-100k',prompt = False)\n",
        "raw_data = np.array(data.raw_ratings, dtype = int)\n",
        "raw_data[:, 0] -= 1\n",
        "raw_data[:, 1] -= 1"
      ],
      "execution_count": null,
      "outputs": []
    },
    {
      "cell_type": "code",
      "metadata": {
        "id": "esDSrjm_NshD",
        "colab": {
          "base_uri": "https://localhost:8080/"
        },
        "outputId": "59368953-9b2b-4128-d0e5-497870d15361"
      },
      "source": [
        "n_users = np.max(raw_data[:,0])\n",
        "n_movies = np.max(raw_data[:, 1])\n",
        "shape = (n_users + 1, n_movies +1)\n",
        "shape"
      ],
      "execution_count": null,
      "outputs": [
        {
          "output_type": "execute_result",
          "data": {
            "text/plain": [
              "(943, 1682)"
            ]
          },
          "metadata": {},
          "execution_count": 32
        }
      ]
    },
    {
      "cell_type": "code",
      "metadata": {
        "colab": {
          "base_uri": "https://localhost:8080/"
        },
        "id": "Z4j9Ce02TaJ6",
        "outputId": "62173ed5-8d58-47f5-d0a9-c43abefc85b5"
      },
      "source": [
        "raw_data"
      ],
      "execution_count": null,
      "outputs": [
        {
          "output_type": "execute_result",
          "data": {
            "text/plain": [
              "array([[      195,       241,         3, 881250949],\n",
              "       [      185,       301,         3, 891717742],\n",
              "       [       21,       376,         1, 878887116],\n",
              "       ...,\n",
              "       [      275,      1089,         1, 874795795],\n",
              "       [       12,       224,         2, 882399156],\n",
              "       [       11,       202,         3, 879959583]])"
            ]
          },
          "metadata": {},
          "execution_count": 51
        }
      ]
    },
    {
      "cell_type": "code",
      "metadata": {
        "id": "v6lc4h2sNY_7"
      },
      "source": [
        "adj_matrix = np.ndarray(shape, dtype=int)\n",
        "for user_id, movie_id, rating, time in raw_data:\n",
        "  adj_matrix[user_id][movie_id] = rating"
      ],
      "execution_count": null,
      "outputs": []
    },
    {
      "cell_type": "code",
      "metadata": {
        "id": "bZnx294OTntk",
        "colab": {
          "base_uri": "https://localhost:8080/"
        },
        "outputId": "96274c2b-338b-4df4-b602-92972ca3e18e"
      },
      "source": [
        "adj_matrix"
      ],
      "execution_count": null,
      "outputs": [
        {
          "output_type": "execute_result",
          "data": {
            "text/plain": [
              "array([[5, 3, 4, ..., 0, 0, 0],\n",
              "       [4, 0, 0, ..., 0, 0, 0],\n",
              "       [0, 0, 0, ..., 0, 0, 0],\n",
              "       ...,\n",
              "       [5, 0, 0, ..., 0, 0, 0],\n",
              "       [0, 0, 0, ..., 0, 0, 0],\n",
              "       [0, 5, 0, ..., 0, 0, 0]])"
            ]
          },
          "metadata": {},
          "execution_count": 38
        }
      ]
    },
    {
      "cell_type": "code",
      "metadata": {
        "id": "mpw7bmE-SVon"
      },
      "source": [
        "U, S, V = randomized_svd(adj_matrix, n_components = 2) \n",
        "#U : 사용자 , V : 아이템(영화), S :트리값 벡터 SVD"
      ],
      "execution_count": null,
      "outputs": []
    },
    {
      "cell_type": "code",
      "metadata": {
        "colab": {
          "base_uri": "https://localhost:8080/"
        },
        "id": "1m0m2h7TSHez",
        "outputId": "0ee56edd-fd4a-4847-e540-3920fea76e34"
      },
      "source": [
        "print(U)\n",
        "print(V)\n",
        "print(S)"
      ],
      "execution_count": null,
      "outputs": [
        {
          "output_type": "stream",
          "text": [
            "[[ 0.06580431  0.00597507]\n",
            " [ 0.01402104 -0.04662601]\n",
            " [ 0.00565798 -0.02561846]\n",
            " ...\n",
            " [ 0.00744452 -0.02502129]\n",
            " [ 0.02403119  0.0080961 ]\n",
            " [ 0.04224209 -0.01092715]]\n",
            "[[ 9.59509371e-02  3.51795155e-02  1.99288117e-02 ...  3.03747116e-05\n",
            "   3.31055915e-04  3.16852950e-04]\n",
            " [-8.72398147e-02 -7.02507073e-03 -2.86182142e-02 ... -4.48134999e-04\n",
            "   1.05230265e-04  2.03150753e-04]]\n",
            "[640.63362257 244.83634567]\n"
          ],
          "name": "stdout"
        }
      ]
    },
    {
      "cell_type": "code",
      "metadata": {
        "id": "sdnXxd6lODFy"
      },
      "source": [
        "S = np.diag(S)#U : 사용자 , V : 아이템(영화), S :트리값 벡터 SVD"
      ],
      "execution_count": null,
      "outputs": []
    },
    {
      "cell_type": "code",
      "metadata": {
        "colab": {
          "base_uri": "https://localhost:8080/"
        },
        "id": "FtAtrtlTShoi",
        "outputId": "8d727099-bb0e-40df-ce11-3ba88feb2ea1"
      },
      "source": [
        "S"
      ],
      "execution_count": null,
      "outputs": [
        {
          "output_type": "execute_result",
          "data": {
            "text/plain": [
              "array([[640.63362257,   0.        ],\n",
              "       [  0.        , 244.83634567]])"
            ]
          },
          "metadata": {},
          "execution_count": 49
        }
      ]
    },
    {
      "cell_type": "code",
      "metadata": {
        "id": "zBvnhmuhOxDx",
        "colab": {
          "base_uri": "https://localhost:8080/"
        },
        "outputId": "8e5b305a-34fa-4ae5-c82e-c6fa1fa50525"
      },
      "source": [
        "print(U.shape)\n",
        "print(S.shape)\n",
        "print(V.shape)"
      ],
      "execution_count": null,
      "outputs": [
        {
          "output_type": "stream",
          "text": [
            "(943, 2)\n",
            "(2, 2)\n",
            "(2, 1682)\n"
          ],
          "name": "stdout"
        }
      ]
    },
    {
      "cell_type": "markdown",
      "metadata": {
        "id": "3pSBMfF7d74E"
      },
      "source": [
        "* 사용자 기반 추천\n",
        "* 나와 비슷한 취향을 가진 다른 사용자의 행동을 추천\n",
        "* 사용자 특징 벡터의 유사도 사용"
      ]
    },
    {
      "cell_type": "code",
      "metadata": {
        "id": "N6nYexy6cq9V",
        "colab": {
          "base_uri": "https://localhost:8080/"
        },
        "outputId": "1e234c6e-daa7-48a6-ed4b-f6fe24ac35ca"
      },
      "source": [
        "np.matmul(np.matmul(U,S) , V)"
      ],
      "execution_count": null,
      "outputs": [
        {
          "output_type": "execute_result",
          "data": {
            "text/plain": [
              "array([[ 3.91732663e+00,  1.47276644e+00,  7.98261988e-01, ...,\n",
              "         6.24907189e-04,  1.41100852e-02,  1.36545878e-02],\n",
              "       [ 1.85777226e+00,  3.96191175e-01,  5.05705740e-01, ...,\n",
              "         5.38862978e-03,  1.77237914e-03,  5.26968095e-04],\n",
              "       [ 8.94989517e-01,  1.71578497e-01,  2.51738682e-01, ...,\n",
              "         2.92094923e-03,  5.39937171e-04, -1.25733753e-04],\n",
              "       ...,\n",
              "       [ 9.92051955e-01,  2.10814957e-01,  2.70363365e-01, ...,\n",
              "         2.89019297e-03,  9.34221962e-04,  2.66612193e-04],\n",
              "       [ 1.30425401e+00,  5.27669941e-01,  2.50080165e-01, ...,\n",
              "        -4.20677765e-04,  5.30525683e-03,  5.28069948e-03],\n",
              "       [ 2.82999397e+00,  9.70812247e-01,  6.15871694e-01, ...,\n",
              "         2.02091492e-03,  8.67740813e-03,  8.03107892e-03]])"
            ]
          },
          "metadata": {},
          "execution_count": 50
        }
      ]
    },
    {
      "cell_type": "code",
      "metadata": {
        "id": "vCLxtkLdgM-s",
        "colab": {
          "base_uri": "https://localhost:8080/"
        },
        "outputId": "c64cc767-55a4-414c-f7ae-66a8fa40d3c9"
      },
      "source": [
        "my_id, my_vector = 0, U[0]\n",
        "best_match, best_match_id, best_match_vector =-1, -1, []\n",
        "for user_id, user_vector in enumerate(U):\n",
        "  if my_id != user_id:\n",
        "    cos_simularity = compute_cos_similarity(my_vector, user_vector)\n",
        "    if cos_simularity > best_match:\n",
        "      best_match = cos_simularity\n",
        "      best_match_id = user_id\n",
        "      best_match_vector = user_vector\n",
        "print('Best Match: {}, Best Match ID: {}'.format(best_match, best_match_id))"
      ],
      "execution_count": null,
      "outputs": [
        {
          "output_type": "stream",
          "text": [
            "Best Match: 0.9999942295956324, Best Match ID: 235\n"
          ],
          "name": "stdout"
        }
      ]
    },
    {
      "cell_type": "code",
      "metadata": {
        "id": "IZ49Abk7iBeU",
        "colab": {
          "base_uri": "https://localhost:8080/"
        },
        "outputId": "035f22f2-8fbc-4edc-a22d-67d710534e32"
      },
      "source": [
        "recommend_list = []\n",
        "for i, log in enumerate(zip(adj_matrix[my_id], adj_matrix[best_match_id])):\n",
        "  log1, log2 = log\n",
        "  if log1 < 1. and log2 > 0.: #다른 유저는 봤지만 나는 안본 영화\n",
        "    recommend_list.append(i)\n",
        "print(recommend_list)"
      ],
      "execution_count": null,
      "outputs": [
        {
          "output_type": "stream",
          "text": [
            "[272, 273, 274, 281, 285, 288, 293, 297, 303, 306, 312, 317, 327, 332, 369, 410, 418, 419, 422, 426, 428, 431, 434, 442, 461, 475, 477, 482, 495, 503, 504, 505, 506, 509, 519, 520, 522, 525, 531, 545, 548, 590, 594, 595, 613, 631, 654, 658, 660, 672, 684, 685, 691, 695, 698, 704, 716, 728, 734, 749, 755, 863, 865, 933, 1012, 1038, 1101, 1327, 1400]\n"
          ],
          "name": "stdout"
        }
      ]
    },
    {
      "cell_type": "markdown",
      "metadata": {
        "id": "0nSD2izbhJix"
      },
      "source": [
        "* 항목 기반 추천\n",
        "* 내가 본 항목과 비슷한 항목을 추천\n",
        "* 항목 특징 벡터의 유사도 사용"
      ]
    },
    {
      "cell_type": "code",
      "metadata": {
        "colab": {
          "base_uri": "https://localhost:8080/"
        },
        "id": "3MRlqjjJUt8v",
        "outputId": "087965c6-bc33-4d66-c04a-1463e1aef9b7"
      },
      "source": [
        "my_id, my_vector = 0, V.T[0]\n",
        "best_match, best_match_id, best_match_vector =-1, -1, []\n",
        "for user_id, user_vector in enumerate(V.T):\n",
        "  if my_id != user_id:\n",
        "    cos_simularity = compute_cos_similarity(my_vector, user_vector)\n",
        "    if cos_simularity > best_match:\n",
        "      best_match = cos_simularity\n",
        "      best_match_id = user_id\n",
        "      best_match_vector = user_vector\n",
        "print('Best Match: {}, Best Match ID: {}'.format(best_match, best_match_id))"
      ],
      "execution_count": null,
      "outputs": [
        {
          "output_type": "stream",
          "text": [
            "Best Match: 0.9999999951364145, Best Match ID: 1287\n"
          ],
          "name": "stdout"
        }
      ]
    },
    {
      "cell_type": "code",
      "metadata": {
        "colab": {
          "base_uri": "https://localhost:8080/"
        },
        "id": "0RFPozotUt51",
        "outputId": "29a0aca0-9c50-4b8e-c430-52400d0be428"
      },
      "source": [
        "recommend_list = []\n",
        "for i, user_vector in enumerate(adj_matrix):\n",
        "  if adj_matrix[i][my_id] > 0.9:\n",
        "    recommend_list.append(i)\n",
        "print(recommend_list)"
      ],
      "execution_count": null,
      "outputs": [
        {
          "output_type": "stream",
          "text": [
            "[0, 1, 4, 5, 9, 12, 14, 15, 16, 17, 19, 20, 22, 24, 25, 37, 40, 41, 42, 43, 44, 48, 53, 55, 56, 57, 58, 61, 62, 63, 64, 65, 66, 69, 71, 72, 74, 76, 78, 80, 81, 82, 83, 88, 91, 92, 93, 94, 95, 96, 98, 100, 101, 105, 107, 108, 116, 119, 120, 123, 124, 127, 129, 130, 133, 136, 137, 140, 143, 144, 147, 149, 150, 156, 157, 159, 161, 167, 173, 176, 177, 180, 181, 183, 188, 192, 193, 197, 198, 199, 200, 201, 202, 203, 208, 209, 212, 215, 221, 222, 229, 230, 231, 233, 234, 241, 242, 243, 245, 246, 247, 248, 249, 250, 251, 252, 253, 255, 261, 262, 264, 267, 270, 273, 274, 275, 276, 278, 279, 285, 286, 288, 289, 290, 291, 292, 293, 294, 295, 296, 297, 298, 300, 302, 304, 306, 307, 310, 311, 312, 313, 319, 321, 323, 324, 325, 326, 329, 330, 331, 335, 337, 338, 339, 342, 343, 344, 346, 347, 349, 356, 358, 359, 362, 364, 370, 373, 377, 378, 379, 380, 386, 387, 388, 389, 392, 393, 394, 395, 397, 398, 400, 401, 402, 405, 406, 410, 411, 415, 416, 418, 421, 423, 424, 428, 431, 433, 434, 437, 440, 444, 446, 449, 453, 454, 455, 456, 457, 458, 459, 462, 464, 466, 467, 469, 470, 471, 477, 478, 482, 483, 485, 486, 487, 489, 492, 493, 494, 496, 499, 502, 504, 507, 511, 513, 516, 517, 520, 522, 524, 525, 531, 532, 533, 534, 535, 536, 539, 540, 541, 544, 547, 548, 549, 551, 552, 553, 559, 560, 561, 566, 568, 575, 576, 578, 579, 581, 587, 591, 592, 596, 598, 601, 604, 605, 608, 609, 611, 612, 613, 617, 619, 620, 621, 623, 629, 631, 633, 634, 635, 636, 641, 642, 647, 648, 649, 652, 653, 654, 656, 657, 659, 660, 662, 663, 664, 668, 673, 675, 676, 677, 678, 679, 681, 683, 688, 689, 690, 691, 696, 697, 698, 700, 702, 704, 705, 707, 708, 709, 713, 714, 715, 720, 722, 725, 726, 729, 730, 732, 734, 737, 741, 743, 744, 745, 746, 747, 748, 750, 755, 756, 758, 760, 762, 763, 766, 767, 768, 769, 770, 772, 776, 778, 784, 785, 787, 788, 789, 791, 792, 793, 794, 795, 797, 799, 803, 804, 805, 806, 814, 816, 820, 821, 822, 825, 828, 829, 830, 834, 837, 838, 842, 846, 851, 853, 863, 864, 866, 867, 869, 871, 878, 879, 880, 881, 882, 884, 885, 886, 888, 889, 891, 892, 893, 894, 895, 896, 898, 900, 901, 902, 906, 909, 912, 915, 916, 917, 918, 920, 921, 922, 923, 926, 928, 929, 931, 932, 933, 934, 935, 937, 940]\n"
          ],
          "name": "stdout"
        }
      ]
    },
    {
      "cell_type": "markdown",
      "metadata": {
        "id": "7uAlUROxj2nA"
      },
      "source": [
        "* 비음수 행렬 분해를 사용한 하이브리드 추천"
      ]
    },
    {
      "cell_type": "code",
      "metadata": {
        "id": "Ou2UGuXMTY39",
        "colab": {
          "base_uri": "https://localhost:8080/"
        },
        "outputId": "45b00ccd-503c-4805-bbad-8779ff8b1a87"
      },
      "source": [
        "adj_matrix"
      ],
      "execution_count": null,
      "outputs": [
        {
          "output_type": "execute_result",
          "data": {
            "text/plain": [
              "array([[5, 3, 4, ..., 0, 0, 0],\n",
              "       [4, 0, 0, ..., 0, 0, 0],\n",
              "       [0, 0, 0, ..., 0, 0, 0],\n",
              "       ...,\n",
              "       [5, 0, 0, ..., 0, 0, 0],\n",
              "       [0, 0, 0, ..., 0, 0, 0],\n",
              "       [0, 5, 0, ..., 0, 0, 0]])"
            ]
          },
          "metadata": {},
          "execution_count": 76
        }
      ]
    },
    {
      "cell_type": "code",
      "metadata": {
        "id": "hqtcd6HmkOsA",
        "colab": {
          "base_uri": "https://localhost:8080/"
        },
        "outputId": "cb8023cf-23a1-4a44-d506-b300cce8ff59"
      },
      "source": [
        "A, B ,iter = non_negative_factorization(adj_matrix, n_components=2)"
      ],
      "execution_count": null,
      "outputs": [
        {
          "output_type": "stream",
          "text": [
            "/usr/local/lib/python3.7/dist-packages/sklearn/decomposition/_nmf.py:1035: FutureWarning: The default value of init will change from random to None in 0.23 to make it consistent with decomposition.NMF.\n",
            "  \"with decomposition.NMF.\", FutureWarning)\n"
          ],
          "name": "stderr"
        }
      ]
    },
    {
      "cell_type": "code",
      "metadata": {
        "colab": {
          "base_uri": "https://localhost:8080/"
        },
        "id": "GMSLL71RW4VK",
        "outputId": "5428e8b3-70bb-4e38-cd68-0c5bd8e5da4b"
      },
      "source": [
        "A, B, iter"
      ],
      "execution_count": null,
      "outputs": [
        {
          "output_type": "execute_result",
          "data": {
            "text/plain": [
              "(array([[1.18237652, 0.60747176],\n",
              "        [0.        , 0.79439006],\n",
              "        [0.        , 0.36970596],\n",
              "        ...,\n",
              "        [0.        , 0.39191842],\n",
              "        [0.41896635, 0.2688732 ],\n",
              "        [0.73811063, 0.42798489]]),\n",
              " array([[1.76920279e+00, 1.10262934e+00, 2.68726075e-01, ...,\n",
              "         0.00000000e+00, 1.22921604e-02, 1.21895880e-02],\n",
              "        [2.66544395e+00, 2.98039568e-01, 6.94383810e-01, ...,\n",
              "         6.00068209e-03, 3.10500324e-05, 0.00000000e+00]]),\n",
              " 64)"
            ]
          },
          "metadata": {},
          "execution_count": 72
        }
      ]
    },
    {
      "cell_type": "code",
      "metadata": {
        "colab": {
          "base_uri": "https://localhost:8080/"
        },
        "id": "jZXZU67sWJSE",
        "outputId": "d78c25cf-4f9e-4d9f-ed36-adc5f7666305"
      },
      "source": [
        "np.matmul(A,B)"
      ],
      "execution_count": null,
      "outputs": [
        {
          "output_type": "execute_result",
          "data": {
            "text/plain": [
              "array([[3.71104576e+00, 1.48477367e+00, 7.39553953e-01, ...,\n",
              "        3.64524488e-03, 1.45528239e-02, 1.44126827e-02],\n",
              "       [2.11740217e+00, 2.36759669e-01, 5.51611593e-01, ...,\n",
              "        4.76688218e-03, 2.46658370e-05, 0.00000000e+00],\n",
              "       [9.85430518e-01, 1.10187005e-01, 2.56717834e-01, ...,\n",
              "        2.21848794e-03, 1.14793821e-05, 0.00000000e+00],\n",
              "       ...,\n",
              "       [1.04463657e+00, 1.16807195e-01, 2.72141802e-01, ...,\n",
              "        2.35177782e-03, 1.21690795e-05, 0.00000000e+00],\n",
              "       [1.45790287e+00, 5.42099440e-01, 2.99288379e-01, ...,\n",
              "        1.61342260e-03, 5.15835007e-03, 5.10702716e-03],\n",
              "       [2.44663712e+00, 9.41418871e-01, 4.95535351e-01, ...,\n",
              "        2.56820126e-03, 9.08626324e-03, 8.99726450e-03]])"
            ]
          },
          "metadata": {},
          "execution_count": 75
        }
      ]
    },
    {
      "cell_type": "markdown",
      "metadata": {
        "id": "6DGX9EtEop4i"
      },
      "source": [
        "* 사용자 기반 추천"
      ]
    },
    {
      "cell_type": "code",
      "metadata": {
        "id": "dndXY3Gvm7zs",
        "colab": {
          "base_uri": "https://localhost:8080/"
        },
        "outputId": "9d3c28a4-f190-4666-d179-0ec154624ce4"
      },
      "source": [
        "my_id, my_vector = 0, U[0]\n",
        "best_match, best_match_id, best_match_vector =-1, -1, []\n",
        "for user_id, user_vector in enumerate(A):\n",
        "  if my_id != user_id:\n",
        "    cos_simularity = compute_cos_similarity(my_vector, user_vector)\n",
        "    if cos_simularity > best_match:\n",
        "      best_match = cos_simularity\n",
        "      best_match_id = user_id\n",
        "      best_match_vector = user_vector\n",
        "print('Best Match: {}, Best Match ID: {}'.format(best_match, best_match_id))"
      ],
      "execution_count": null,
      "outputs": [
        {
          "output_type": "stream",
          "text": [
            "Best Match: 0.9999999995632288, Best Match ID: 494\n"
          ],
          "name": "stdout"
        }
      ]
    },
    {
      "cell_type": "code",
      "metadata": {
        "id": "njszNHE_m9MK",
        "colab": {
          "base_uri": "https://localhost:8080/"
        },
        "outputId": "2b4f748a-e21b-4b0e-e57a-41088ab1a1c7"
      },
      "source": [
        "recommend_list = []\n",
        "for i, log in enumerate(zip(adj_matrix[my_id], adj_matrix[best_match_id])):\n",
        "  log1, log2 = log\n",
        "  if log1 < 1. and log2 > 0.:\n",
        "    recommend_list.append(i)\n",
        "print(recommend_list)"
      ],
      "execution_count": null,
      "outputs": [
        {
          "output_type": "stream",
          "text": [
            "[281, 287, 356, 377, 378, 379, 384, 385, 388, 390, 391, 392, 394, 401, 402, 403, 412, 415, 416, 417, 418, 420, 422, 430, 431, 432, 434, 440, 443, 446, 447, 448, 450, 451, 464, 469, 471, 477, 478, 490, 495, 497, 500, 503, 504, 506, 510, 520, 522, 549, 558, 565, 567, 572, 574, 575, 576, 577, 580, 581, 589, 615, 621, 628, 630, 632, 635, 636, 641, 649, 654, 657, 659, 661, 664, 670, 673, 678, 683, 704, 731, 738, 741, 767, 769, 789, 795, 796, 830, 842, 923, 943, 968, 1038, 1045, 1078, 1090, 1109, 1115, 1117, 1118, 1132, 1134, 1156, 1181, 1182, 1187, 1206, 1207, 1244, 1262, 1418, 1443, 1468, 1541]\n"
          ],
          "name": "stdout"
        }
      ]
    },
    {
      "cell_type": "markdown",
      "metadata": {
        "id": "F21eqO8dosUE"
      },
      "source": [
        "* 항목 기반 추천"
      ]
    },
    {
      "cell_type": "code",
      "metadata": {
        "id": "G8RZo0Mvom4X",
        "colab": {
          "base_uri": "https://localhost:8080/"
        },
        "outputId": "d6934424-5811-4b79-fcfb-b65af59cafb2"
      },
      "source": [
        "my_id, my_vector = 0, B.T[0]  # 기준 항목이 0번 이라고 가정\n",
        "best_match, best_match_id, best_match_vector = -1, -1, []\n",
        "\n",
        "for item_id, item_vector in enumerate(B.T):\n",
        "  if my_id != item_id:\n",
        "    cos_similarity = compute_cos_similarity(my_vector, item_vector)\n",
        "    if cos_similarity > best_match:\n",
        "      best_match = cos_similarity\n",
        "      best_match_id = item_id\n",
        "      best_match_vector = item_vector\n",
        "\n",
        "print('Best Match: {}, Best Match ID: {}'.format(best_match, best_match_id))"
      ],
      "execution_count": null,
      "outputs": [
        {
          "output_type": "stream",
          "text": [
            "Best Match: 0.9999997862195674, Best Match ID: 255\n"
          ],
          "name": "stdout"
        }
      ]
    },
    {
      "cell_type": "code",
      "metadata": {
        "id": "G_ua-2Lcox8i",
        "colab": {
          "base_uri": "https://localhost:8080/"
        },
        "outputId": "519cff37-10da-4330-fbb1-950cd15cb1d6"
      },
      "source": [
        "recommend_list = []\n",
        "for i, user_vector in enumerate(adj_matrix):\n",
        "  if adj_matrix[i][my_id] > 0.9:\n",
        "    recommend_list.append(i)\n",
        "print(recommend_list)"
      ],
      "execution_count": null,
      "outputs": [
        {
          "output_type": "stream",
          "text": [
            "[0, 1, 4, 5, 9, 12, 14, 15, 16, 17, 19, 20, 22, 24, 25, 37, 40, 41, 42, 43, 44, 48, 53, 55, 56, 57, 58, 61, 62, 63, 64, 65, 66, 69, 71, 72, 74, 76, 78, 80, 81, 82, 83, 88, 91, 92, 93, 94, 95, 96, 98, 100, 101, 105, 107, 108, 116, 119, 120, 123, 124, 127, 129, 130, 133, 136, 137, 140, 143, 144, 147, 149, 150, 156, 157, 159, 161, 167, 173, 176, 177, 180, 181, 183, 188, 192, 193, 197, 198, 199, 200, 201, 202, 203, 208, 209, 212, 215, 221, 222, 229, 230, 231, 233, 234, 241, 242, 243, 245, 246, 247, 248, 249, 250, 251, 252, 253, 255, 261, 262, 264, 267, 270, 273, 274, 275, 276, 278, 279, 285, 286, 288, 289, 290, 291, 292, 293, 294, 295, 296, 297, 298, 300, 302, 304, 306, 307, 310, 311, 312, 313, 319, 321, 323, 324, 325, 326, 329, 330, 331, 335, 337, 338, 339, 342, 343, 344, 346, 347, 349, 356, 358, 359, 362, 364, 370, 373, 377, 378, 379, 380, 386, 387, 388, 389, 392, 393, 394, 395, 397, 398, 400, 401, 402, 405, 406, 410, 411, 415, 416, 418, 421, 423, 424, 428, 431, 433, 434, 437, 440, 444, 446, 449, 453, 454, 455, 456, 457, 458, 459, 462, 464, 466, 467, 469, 470, 471, 477, 478, 482, 483, 485, 486, 487, 489, 492, 493, 494, 496, 499, 502, 504, 507, 511, 513, 516, 517, 520, 522, 524, 525, 531, 532, 533, 534, 535, 536, 539, 540, 541, 544, 547, 548, 549, 551, 552, 553, 559, 560, 561, 566, 568, 575, 576, 578, 579, 581, 587, 591, 592, 596, 598, 601, 604, 605, 608, 609, 611, 612, 613, 617, 619, 620, 621, 623, 629, 631, 633, 634, 635, 636, 641, 642, 647, 648, 649, 652, 653, 654, 656, 657, 659, 660, 662, 663, 664, 668, 673, 675, 676, 677, 678, 679, 681, 683, 688, 689, 690, 691, 696, 697, 698, 700, 702, 704, 705, 707, 708, 709, 713, 714, 715, 720, 722, 725, 726, 729, 730, 732, 734, 737, 741, 743, 744, 745, 746, 747, 748, 750, 755, 756, 758, 760, 762, 763, 766, 767, 768, 769, 770, 772, 776, 778, 784, 785, 787, 788, 789, 791, 792, 793, 794, 795, 797, 799, 803, 804, 805, 806, 814, 816, 820, 821, 822, 825, 828, 829, 830, 834, 837, 838, 842, 846, 851, 853, 863, 864, 866, 867, 869, 871, 878, 879, 880, 881, 882, 884, 885, 886, 888, 889, 891, 892, 893, 894, 895, 896, 898, 900, 901, 902, 906, 909, 912, 915, 916, 917, 918, 920, 921, 922, 923, 926, 928, 929, 931, 932, 933, 934, 935, 937, 940]\n"
          ],
          "name": "stdout"
        }
      ]
    },
    {
      "cell_type": "code",
      "metadata": {
        "id": "F3sxDl3pW1w4"
      },
      "source": [
        ""
      ],
      "execution_count": null,
      "outputs": []
    }
  ]
}