{
  "nbformat": 4,
  "nbformat_minor": 0,
  "metadata": {
    "colab": {
      "name": "_6 최근접 이웃(K-Nearest Neighbor).ipynb",
      "provenance": [],
      "collapsed_sections": [],
      "include_colab_link": true
    },
    "kernelspec": {
      "name": "python3",
      "display_name": "Python 3"
    }
  },
  "cells": [
    {
      "cell_type": "markdown",
      "metadata": {
        "id": "view-in-github",
        "colab_type": "text"
      },
      "source": [
        "<a href=\"https://colab.research.google.com/github/ejrtks1020/machine-learning-basic/blob/main/_6_%EC%B5%9C%EA%B7%BC%EC%A0%91_%EC%9D%B4%EC%9B%83(K_Nearest_Neighbor).ipynb\" target=\"_parent\"><img src=\"https://colab.research.google.com/assets/colab-badge.svg\" alt=\"Open In Colab\"/></a>"
      ]
    },
    {
      "cell_type": "markdown",
      "metadata": {
        "id": "reeeTTbVY28O"
      },
      "source": [
        "# 최근접 이웃(K-Nearest Neighbor)\n",
        "\n",
        "* 특별한 예측 모델 없이 가장 가까운 데이터 포인트를 기반으로 예측을 수행하는 방법\n",
        "* 분류와 회귀 모두 지원\n",
        "\n",
        "![k nearest neighbor](https://upload.wikimedia.org/wikipedia/commons/thumb/e/e7/KnnClassification.svg/220px-KnnClassification.svg.png)"
      ]
    },
    {
      "cell_type": "code",
      "metadata": {
        "id": "svnGpXfcXfW5"
      },
      "source": [
        "import pandas as pd\n",
        "import numpy as np\n",
        "import multiprocessing\n",
        "import matplotlib.pyplot as plt"
      ],
      "execution_count": null,
      "outputs": []
    },
    {
      "cell_type": "code",
      "metadata": {
        "id": "x2kel7ZODqtO"
      },
      "source": [
        "from sklearn.neighbors import KNeighborsClassifier, KNeighborsRegressor\n",
        "from sklearn.manifold import TSNE\n",
        "from sklearn.datasets import load_iris, load_breast_cancer, load_wine\n",
        "from sklearn.datasets import load_boston, fetch_california_housing\n",
        "from sklearn.model_selection import train_test_split, GridSearchCV, cross_validate\n",
        "from sklearn.preprocessing import StandardScaler\n",
        "from sklearn.pipeline import make_pipeline , Pipeline"
      ],
      "execution_count": null,
      "outputs": []
    },
    {
      "cell_type": "markdown",
      "metadata": {
        "id": "D8CFyHPobqYh"
      },
      "source": [
        "## K 최근접 이웃 분류\n",
        "\n",
        "* 입력 데이터 포인트와 가장 가까운 k개의 훈련 데이터 포인트가 출력\n",
        "* k개의 데이터 포인트 중 가장 많은 클래스가 예측 결과"
      ]
    },
    {
      "cell_type": "markdown",
      "metadata": {
        "id": "BprG81sWlegb"
      },
      "source": [
        "### 붓꽃 데이터"
      ]
    },
    {
      "cell_type": "code",
      "metadata": {
        "id": "10ODxzU3m9H2"
      },
      "source": [
        "iris = load_iris()"
      ],
      "execution_count": null,
      "outputs": []
    },
    {
      "cell_type": "code",
      "metadata": {
        "id": "hJCGT4wanoYb",
        "colab": {
          "base_uri": "https://localhost:8080/",
          "height": 417
        },
        "outputId": "0be05503-3288-4911-a7ef-e73fddc3598f"
      },
      "source": [
        "iris_df = pd.DataFrame(data = iris.data, columns = iris.feature_names)\n",
        "iris_df['Target'] = iris.target\n",
        "iris_df"
      ],
      "execution_count": null,
      "outputs": [
        {
          "output_type": "execute_result",
          "data": {
            "text/html": [
              "<div>\n",
              "<style scoped>\n",
              "    .dataframe tbody tr th:only-of-type {\n",
              "        vertical-align: middle;\n",
              "    }\n",
              "\n",
              "    .dataframe tbody tr th {\n",
              "        vertical-align: top;\n",
              "    }\n",
              "\n",
              "    .dataframe thead th {\n",
              "        text-align: right;\n",
              "    }\n",
              "</style>\n",
              "<table border=\"1\" class=\"dataframe\">\n",
              "  <thead>\n",
              "    <tr style=\"text-align: right;\">\n",
              "      <th></th>\n",
              "      <th>sepal length (cm)</th>\n",
              "      <th>sepal width (cm)</th>\n",
              "      <th>petal length (cm)</th>\n",
              "      <th>petal width (cm)</th>\n",
              "      <th>Target</th>\n",
              "    </tr>\n",
              "  </thead>\n",
              "  <tbody>\n",
              "    <tr>\n",
              "      <th>0</th>\n",
              "      <td>5.1</td>\n",
              "      <td>3.5</td>\n",
              "      <td>1.4</td>\n",
              "      <td>0.2</td>\n",
              "      <td>0</td>\n",
              "    </tr>\n",
              "    <tr>\n",
              "      <th>1</th>\n",
              "      <td>4.9</td>\n",
              "      <td>3.0</td>\n",
              "      <td>1.4</td>\n",
              "      <td>0.2</td>\n",
              "      <td>0</td>\n",
              "    </tr>\n",
              "    <tr>\n",
              "      <th>2</th>\n",
              "      <td>4.7</td>\n",
              "      <td>3.2</td>\n",
              "      <td>1.3</td>\n",
              "      <td>0.2</td>\n",
              "      <td>0</td>\n",
              "    </tr>\n",
              "    <tr>\n",
              "      <th>3</th>\n",
              "      <td>4.6</td>\n",
              "      <td>3.1</td>\n",
              "      <td>1.5</td>\n",
              "      <td>0.2</td>\n",
              "      <td>0</td>\n",
              "    </tr>\n",
              "    <tr>\n",
              "      <th>4</th>\n",
              "      <td>5.0</td>\n",
              "      <td>3.6</td>\n",
              "      <td>1.4</td>\n",
              "      <td>0.2</td>\n",
              "      <td>0</td>\n",
              "    </tr>\n",
              "    <tr>\n",
              "      <th>...</th>\n",
              "      <td>...</td>\n",
              "      <td>...</td>\n",
              "      <td>...</td>\n",
              "      <td>...</td>\n",
              "      <td>...</td>\n",
              "    </tr>\n",
              "    <tr>\n",
              "      <th>145</th>\n",
              "      <td>6.7</td>\n",
              "      <td>3.0</td>\n",
              "      <td>5.2</td>\n",
              "      <td>2.3</td>\n",
              "      <td>2</td>\n",
              "    </tr>\n",
              "    <tr>\n",
              "      <th>146</th>\n",
              "      <td>6.3</td>\n",
              "      <td>2.5</td>\n",
              "      <td>5.0</td>\n",
              "      <td>1.9</td>\n",
              "      <td>2</td>\n",
              "    </tr>\n",
              "    <tr>\n",
              "      <th>147</th>\n",
              "      <td>6.5</td>\n",
              "      <td>3.0</td>\n",
              "      <td>5.2</td>\n",
              "      <td>2.0</td>\n",
              "      <td>2</td>\n",
              "    </tr>\n",
              "    <tr>\n",
              "      <th>148</th>\n",
              "      <td>6.2</td>\n",
              "      <td>3.4</td>\n",
              "      <td>5.4</td>\n",
              "      <td>2.3</td>\n",
              "      <td>2</td>\n",
              "    </tr>\n",
              "    <tr>\n",
              "      <th>149</th>\n",
              "      <td>5.9</td>\n",
              "      <td>3.0</td>\n",
              "      <td>5.1</td>\n",
              "      <td>1.8</td>\n",
              "      <td>2</td>\n",
              "    </tr>\n",
              "  </tbody>\n",
              "</table>\n",
              "<p>150 rows × 5 columns</p>\n",
              "</div>"
            ],
            "text/plain": [
              "     sepal length (cm)  sepal width (cm)  ...  petal width (cm)  Target\n",
              "0                  5.1               3.5  ...               0.2       0\n",
              "1                  4.9               3.0  ...               0.2       0\n",
              "2                  4.7               3.2  ...               0.2       0\n",
              "3                  4.6               3.1  ...               0.2       0\n",
              "4                  5.0               3.6  ...               0.2       0\n",
              "..                 ...               ...  ...               ...     ...\n",
              "145                6.7               3.0  ...               2.3       2\n",
              "146                6.3               2.5  ...               1.9       2\n",
              "147                6.5               3.0  ...               2.0       2\n",
              "148                6.2               3.4  ...               2.3       2\n",
              "149                5.9               3.0  ...               1.8       2\n",
              "\n",
              "[150 rows x 5 columns]"
            ]
          },
          "metadata": {
            "tags": []
          },
          "execution_count": 4
        }
      ]
    },
    {
      "cell_type": "code",
      "metadata": {
        "id": "BAud-8VXo4wh"
      },
      "source": [
        "X,y = load_iris(return_X_y = True)\n",
        "X_train, X_test , y_train, y_test = train_test_split(X, y , test_size =0.2)\n"
      ],
      "execution_count": null,
      "outputs": []
    },
    {
      "cell_type": "code",
      "metadata": {
        "id": "rI00rdHNqnIb"
      },
      "source": [
        "scaler = StandardScaler()\n",
        "X_train_scaled = scaler.fit_transform(X_train)\n",
        "X_test_scaled = scaler.transform(X_test)"
      ],
      "execution_count": null,
      "outputs": []
    },
    {
      "cell_type": "code",
      "metadata": {
        "id": "j4uOlqY3p40w",
        "colab": {
          "base_uri": "https://localhost:8080/"
        },
        "outputId": "660cebb3-34a4-4073-de6c-1280db52f2cb"
      },
      "source": [
        "model = KNeighborsClassifier()\n",
        "model.fit(X_train, y_train)"
      ],
      "execution_count": null,
      "outputs": [
        {
          "output_type": "execute_result",
          "data": {
            "text/plain": [
              "KNeighborsClassifier(algorithm='auto', leaf_size=30, metric='minkowski',\n",
              "                     metric_params=None, n_jobs=None, n_neighbors=5, p=2,\n",
              "                     weights='uniform')"
            ]
          },
          "metadata": {
            "tags": []
          },
          "execution_count": 7
        }
      ]
    },
    {
      "cell_type": "code",
      "metadata": {
        "id": "YilSBzS7qEth",
        "colab": {
          "base_uri": "https://localhost:8080/"
        },
        "outputId": "155141de-2200-4166-cd79-bd6227dd4ce5"
      },
      "source": [
        "print('학습 데이터 점수: {}'.format(model.score(X_train, y_train)))\n",
        "print('평가 데이터 점수: {}'.format(model.score(X_test, y_test)))"
      ],
      "execution_count": null,
      "outputs": [
        {
          "output_type": "stream",
          "text": [
            "학습 데이터 점수: 0.975\n",
            "평가 데이터 점수: 0.9666666666666667\n"
          ],
          "name": "stdout"
        }
      ]
    },
    {
      "cell_type": "code",
      "metadata": {
        "id": "ed4b7JFlq9_z",
        "colab": {
          "base_uri": "https://localhost:8080/"
        },
        "outputId": "de779328-5164-459e-8277-22ee30116aff"
      },
      "source": [
        "model.fit(X_train_scaled, y_train)"
      ],
      "execution_count": null,
      "outputs": [
        {
          "output_type": "execute_result",
          "data": {
            "text/plain": [
              "KNeighborsClassifier(algorithm='auto', leaf_size=30, metric='minkowski',\n",
              "                     metric_params=None, n_jobs=None, n_neighbors=5, p=2,\n",
              "                     weights='uniform')"
            ]
          },
          "metadata": {
            "tags": []
          },
          "execution_count": 9
        }
      ]
    },
    {
      "cell_type": "code",
      "metadata": {
        "id": "qQwyWWaTrBCH",
        "colab": {
          "base_uri": "https://localhost:8080/"
        },
        "outputId": "23dbcf68-4f3c-441b-f6d2-2cf77a870275"
      },
      "source": [
        "print('학습 데이터 점수: {}'.format(model.score(X_train_scaled, y_train)))\n",
        "print('평가 데이터 점수: {}'.format(model.score(X_test_scaled, y_test)))"
      ],
      "execution_count": null,
      "outputs": [
        {
          "output_type": "stream",
          "text": [
            "학습 데이터 점수: 0.9583333333333334\n",
            "평가 데이터 점수: 0.9666666666666667\n"
          ],
          "name": "stdout"
        }
      ]
    },
    {
      "cell_type": "code",
      "metadata": {
        "id": "1Is-4l_Brd4v",
        "colab": {
          "base_uri": "https://localhost:8080/"
        },
        "outputId": "e85089e6-84d5-4319-d92e-2c824f3b70ee"
      },
      "source": [
        "cross_validate(\n",
        "    estimator = KNeighborsClassifier(),\n",
        "    X = X, y =y,\n",
        "    cv = 5,\n",
        "    n_jobs = multiprocessing.cpu_count(),\n",
        "    verbose = True\n",
        ")"
      ],
      "execution_count": null,
      "outputs": [
        {
          "output_type": "stream",
          "text": [
            "[Parallel(n_jobs=2)]: Using backend LokyBackend with 2 concurrent workers.\n",
            "[Parallel(n_jobs=2)]: Done   5 out of   5 | elapsed:    1.0s finished\n"
          ],
          "name": "stderr"
        },
        {
          "output_type": "execute_result",
          "data": {
            "text/plain": [
              "{'fit_time': array([0.00087881, 0.00097156, 0.00078797, 0.00069594, 0.00078559]),\n",
              " 'score_time': array([0.00288892, 0.00325251, 0.00255799, 0.00266123, 0.00200701]),\n",
              " 'test_score': array([0.96666667, 1.        , 0.93333333, 0.96666667, 1.        ])}"
            ]
          },
          "metadata": {
            "tags": []
          },
          "execution_count": 11
        }
      ]
    },
    {
      "cell_type": "code",
      "metadata": {
        "id": "Snxw6iGJsEHZ"
      },
      "source": [
        "param_grid = [{'n_neighbors': [3,5,7],\n",
        "             'weights' : ['uniform', 'distance'],\n",
        "             'algorithm': ['ball_tree', 'kd_tree', 'brute']}]"
      ],
      "execution_count": null,
      "outputs": []
    },
    {
      "cell_type": "code",
      "metadata": {
        "id": "lwEl2ykkr3z1"
      },
      "source": [
        "gs = GridSearchCV(estimator = KNeighborsClassifier(),\n",
        "                  param_grid = param_grid,\n",
        "                  n_jobs = multiprocessing.cpu_count(),\n",
        "                  verbose =True)"
      ],
      "execution_count": null,
      "outputs": []
    },
    {
      "cell_type": "code",
      "metadata": {
        "id": "7WWoTOJZtIOR",
        "colab": {
          "base_uri": "https://localhost:8080/"
        },
        "collapsed": true,
        "outputId": "fdbf8943-92df-42c9-8bac-8fe6e14e01e1"
      },
      "source": [
        "gs.fit(X,y)"
      ],
      "execution_count": null,
      "outputs": [
        {
          "output_type": "stream",
          "text": [
            "[Parallel(n_jobs=2)]: Using backend LokyBackend with 2 concurrent workers.\n"
          ],
          "name": "stderr"
        },
        {
          "output_type": "stream",
          "text": [
            "Fitting 5 folds for each of 18 candidates, totalling 90 fits\n"
          ],
          "name": "stdout"
        },
        {
          "output_type": "stream",
          "text": [
            "[Parallel(n_jobs=2)]: Done  90 out of  90 | elapsed:    0.3s finished\n"
          ],
          "name": "stderr"
        },
        {
          "output_type": "execute_result",
          "data": {
            "text/plain": [
              "GridSearchCV(cv=None, error_score=nan,\n",
              "             estimator=KNeighborsClassifier(algorithm='auto', leaf_size=30,\n",
              "                                            metric='minkowski',\n",
              "                                            metric_params=None, n_jobs=None,\n",
              "                                            n_neighbors=5, p=2,\n",
              "                                            weights='uniform'),\n",
              "             iid='deprecated', n_jobs=2,\n",
              "             param_grid=[{'algorithm': ['ball_tree', 'kd_tree', 'brute'],\n",
              "                          'n_neighbors': [3, 5, 7],\n",
              "                          'weights': ['uniform', 'distance']}],\n",
              "             pre_dispatch='2*n_jobs', refit=True, return_train_score=False,\n",
              "             scoring=None, verbose=True)"
            ]
          },
          "metadata": {
            "tags": []
          },
          "execution_count": 14
        }
      ]
    },
    {
      "cell_type": "code",
      "metadata": {
        "id": "Hwu1gXxTtOAu",
        "colab": {
          "base_uri": "https://localhost:8080/"
        },
        "outputId": "24f4e833-6b48-4c93-884c-fe459d583650"
      },
      "source": [
        "gs.best_estimator_"
      ],
      "execution_count": null,
      "outputs": [
        {
          "output_type": "execute_result",
          "data": {
            "text/plain": [
              "KNeighborsClassifier(algorithm='ball_tree', leaf_size=30, metric='minkowski',\n",
              "                     metric_params=None, n_jobs=None, n_neighbors=7, p=2,\n",
              "                     weights='uniform')"
            ]
          },
          "metadata": {
            "tags": []
          },
          "execution_count": 15
        }
      ]
    },
    {
      "cell_type": "code",
      "metadata": {
        "id": "iDCONxGZtR0Y",
        "colab": {
          "base_uri": "https://localhost:8080/"
        },
        "outputId": "58f96913-a880-4c46-ea8c-af8dc7adf34f"
      },
      "source": [
        "print('GridSearch best score: {}'.format(gs.best_score_))"
      ],
      "execution_count": null,
      "outputs": [
        {
          "output_type": "stream",
          "text": [
            "GridSearch best score: 0.9800000000000001\n"
          ],
          "name": "stdout"
        }
      ]
    },
    {
      "cell_type": "code",
      "metadata": {
        "id": "-LfDDNAiv57J"
      },
      "source": [
        "def make_meshgrid(x, y, h = .02):\n",
        "  x_min, x_max = x.min() - 1, x.max() +1\n",
        "  y_min, y_max = y.min() - 1, y.max() +1\n",
        "  xx ,yy = np.meshgrid(np.arange(x_min, x_max, h),\n",
        "                    np.arange(y_min, y_max, h))\n",
        "  return xx, yy\n"
      ],
      "execution_count": null,
      "outputs": []
    },
    {
      "cell_type": "code",
      "metadata": {
        "id": "c0hBhsA5t9gm"
      },
      "source": [
        "def plot_contours(clf, xx, yy, **params):\n",
        "  Z = clf.predict(np.c_[xx.ravel(), yy.ravel()])\n",
        "  Z = Z.reshape(xx.shape)\n",
        "  out =plt.contourf(xx,yy,Z, **params)\n",
        "  return out"
      ],
      "execution_count": null,
      "outputs": []
    },
    {
      "cell_type": "code",
      "metadata": {
        "id": "MKvBwrWpu1Pj"
      },
      "source": [
        "tsne =TSNE(n_components = 2)\n",
        "X_comp = tsne.fit_transform(X)"
      ],
      "execution_count": null,
      "outputs": []
    },
    {
      "cell_type": "code",
      "metadata": {
        "id": "KlahPPU3ve5o",
        "colab": {
          "base_uri": "https://localhost:8080/",
          "height": 417
        },
        "outputId": "590b382b-4ab9-4e14-8710-2fc7268ebb2d"
      },
      "source": [
        "iris_comp_df = pd.DataFrame(data = X_comp)\n",
        "iris_comp_df['Target'] =y\n",
        "iris_comp_df"
      ],
      "execution_count": null,
      "outputs": [
        {
          "output_type": "execute_result",
          "data": {
            "text/html": [
              "<div>\n",
              "<style scoped>\n",
              "    .dataframe tbody tr th:only-of-type {\n",
              "        vertical-align: middle;\n",
              "    }\n",
              "\n",
              "    .dataframe tbody tr th {\n",
              "        vertical-align: top;\n",
              "    }\n",
              "\n",
              "    .dataframe thead th {\n",
              "        text-align: right;\n",
              "    }\n",
              "</style>\n",
              "<table border=\"1\" class=\"dataframe\">\n",
              "  <thead>\n",
              "    <tr style=\"text-align: right;\">\n",
              "      <th></th>\n",
              "      <th>0</th>\n",
              "      <th>1</th>\n",
              "      <th>Target</th>\n",
              "    </tr>\n",
              "  </thead>\n",
              "  <tbody>\n",
              "    <tr>\n",
              "      <th>0</th>\n",
              "      <td>-14.904930</td>\n",
              "      <td>12.841451</td>\n",
              "      <td>0</td>\n",
              "    </tr>\n",
              "    <tr>\n",
              "      <th>1</th>\n",
              "      <td>-13.864346</td>\n",
              "      <td>15.265934</td>\n",
              "      <td>0</td>\n",
              "    </tr>\n",
              "    <tr>\n",
              "      <th>2</th>\n",
              "      <td>-12.981138</td>\n",
              "      <td>14.576421</td>\n",
              "      <td>0</td>\n",
              "    </tr>\n",
              "    <tr>\n",
              "      <th>3</th>\n",
              "      <td>-12.943132</td>\n",
              "      <td>15.012852</td>\n",
              "      <td>0</td>\n",
              "    </tr>\n",
              "    <tr>\n",
              "      <th>4</th>\n",
              "      <td>-14.852401</td>\n",
              "      <td>12.840405</td>\n",
              "      <td>0</td>\n",
              "    </tr>\n",
              "    <tr>\n",
              "      <th>...</th>\n",
              "      <td>...</td>\n",
              "      <td>...</td>\n",
              "      <td>...</td>\n",
              "    </tr>\n",
              "    <tr>\n",
              "      <th>145</th>\n",
              "      <td>10.803360</td>\n",
              "      <td>-11.451474</td>\n",
              "      <td>2</td>\n",
              "    </tr>\n",
              "    <tr>\n",
              "      <th>146</th>\n",
              "      <td>8.492213</td>\n",
              "      <td>-9.509760</td>\n",
              "      <td>2</td>\n",
              "    </tr>\n",
              "    <tr>\n",
              "      <th>147</th>\n",
              "      <td>10.137155</td>\n",
              "      <td>-10.868814</td>\n",
              "      <td>2</td>\n",
              "    </tr>\n",
              "    <tr>\n",
              "      <th>148</th>\n",
              "      <td>11.049276</td>\n",
              "      <td>-12.314090</td>\n",
              "      <td>2</td>\n",
              "    </tr>\n",
              "    <tr>\n",
              "      <th>149</th>\n",
              "      <td>7.807494</td>\n",
              "      <td>-8.393147</td>\n",
              "      <td>2</td>\n",
              "    </tr>\n",
              "  </tbody>\n",
              "</table>\n",
              "<p>150 rows × 3 columns</p>\n",
              "</div>"
            ],
            "text/plain": [
              "             0          1  Target\n",
              "0   -14.904930  12.841451       0\n",
              "1   -13.864346  15.265934       0\n",
              "2   -12.981138  14.576421       0\n",
              "3   -12.943132  15.012852       0\n",
              "4   -14.852401  12.840405       0\n",
              "..         ...        ...     ...\n",
              "145  10.803360 -11.451474       2\n",
              "146   8.492213  -9.509760       2\n",
              "147  10.137155 -10.868814       2\n",
              "148  11.049276 -12.314090       2\n",
              "149   7.807494  -8.393147       2\n",
              "\n",
              "[150 rows x 3 columns]"
            ]
          },
          "metadata": {
            "tags": []
          },
          "execution_count": 20
        }
      ]
    },
    {
      "cell_type": "code",
      "metadata": {
        "id": "eezclwChwRj3",
        "colab": {
          "base_uri": "https://localhost:8080/",
          "height": 265
        },
        "outputId": "83b274d4-2bc4-4611-c716-27669eaa9a2d"
      },
      "source": [
        "plt.scatter(X_comp[:, 0], X_comp[:, 1], c= y, cmap = plt.cm.coolwarm, s= 20 , edgecolor = 'k' );"
      ],
      "execution_count": null,
      "outputs": [
        {
          "output_type": "display_data",
          "data": {
            "image/png": "[encoded data removed]",
            "text/plain": [
              "<Figure size 432x288 with 1 Axes>"
            ]
          },
          "metadata": {
            "tags": [],
            "needs_background": "light"
          }
        }
      ]
    },
    {
      "cell_type": "code",
      "metadata": {
        "id": "97WK8W7xwbcD"
      },
      "source": [
        "model = KNeighborsClassifier()\n",
        "model.fit(X_comp, y)\n",
        "predict = model.predict(X_comp)"
      ],
      "execution_count": null,
      "outputs": []
    },
    {
      "cell_type": "code",
      "metadata": {
        "colab": {
          "base_uri": "https://localhost:8080/",
          "height": 265
        },
        "id": "_D3Rwb72pIb5",
        "outputId": "3c72fe3f-706d-4a2d-ec8d-9a5709db60d9"
      },
      "source": [
        "xx, yy = make_meshgrid(X_comp[:, 0], X_comp[:, 1])\n",
        "plot_contours(model, xx, yy, cmap = plt.cm.coolwarm, alpha = 0.8)\n",
        "plt.scatter(X_comp[:, 0], X_comp[:, 1], c= y, cmap = plt.cm.coolwarm, s= 20 , edgecolor = 'k' );"
      ],
      "execution_count": null,
      "outputs": [
        {
          "output_type": "display_data",
          "data": {
            "image/png": "[encoded data removed]",
            "text/plain": [
              "<Figure size 432x288 with 1 Axes>"
            ]
          },
          "metadata": {
            "tags": [],
            "needs_background": "light"
          }
        }
      ]
    },
    {
      "cell_type": "code",
      "metadata": {
        "id": "VEiDwlHupIRY"
      },
      "source": [
        ""
      ],
      "execution_count": null,
      "outputs": []
    },
    {
      "cell_type": "code",
      "metadata": {
        "id": "oPVAMVEJpIOf"
      },
      "source": [
        ""
      ],
      "execution_count": null,
      "outputs": []
    },
    {
      "cell_type": "markdown",
      "metadata": {
        "id": "kO4Tw_xdxrxK"
      },
      "source": [
        "### 유방암 데이터"
      ]
    },
    {
      "cell_type": "code",
      "metadata": {
        "id": "m6evoryU1lyM"
      },
      "source": [
        "cancer = load_breast_cancer()"
      ],
      "execution_count": null,
      "outputs": []
    },
    {
      "cell_type": "code",
      "metadata": {
        "id": "v2KjbEk12Ek5"
      },
      "source": [
        "cancer_df = pd.DataFrame(data = cancer.data , columns = cancer.feature_names)\n",
        "cancer_df['Target']=  cancer.target"
      ],
      "execution_count": null,
      "outputs": []
    },
    {
      "cell_type": "code",
      "metadata": {
        "id": "PQvMjAQs1mnW",
        "colab": {
          "base_uri": "https://localhost:8080/",
          "height": 470
        },
        "outputId": "3c13f7f7-af91-4983-fd8d-c8f507d518a4"
      },
      "source": [
        "cancer_df   "
      ],
      "execution_count": null,
      "outputs": [
        {
          "output_type": "execute_result",
          "data": {
            "text/html": [
              "<div>\n",
              "<style scoped>\n",
              "    .dataframe tbody tr th:only-of-type {\n",
              "        vertical-align: middle;\n",
              "    }\n",
              "\n",
              "    .dataframe tbody tr th {\n",
              "        vertical-align: top;\n",
              "    }\n",
              "\n",
              "    .dataframe thead th {\n",
              "        text-align: right;\n",
              "    }\n",
              "</style>\n",
              "<table border=\"1\" class=\"dataframe\">\n",
              "  <thead>\n",
              "    <tr style=\"text-align: right;\">\n",
              "      <th></th>\n",
              "      <th>mean radius</th>\n",
              "      <th>mean texture</th>\n",
              "      <th>mean perimeter</th>\n",
              "      <th>mean area</th>\n",
              "      <th>mean smoothness</th>\n",
              "      <th>mean compactness</th>\n",
              "      <th>mean concavity</th>\n",
              "      <th>mean concave points</th>\n",
              "      <th>mean symmetry</th>\n",
              "      <th>mean fractal dimension</th>\n",
              "      <th>radius error</th>\n",
              "      <th>texture error</th>\n",
              "      <th>perimeter error</th>\n",
              "      <th>area error</th>\n",
              "      <th>smoothness error</th>\n",
              "      <th>compactness error</th>\n",
              "      <th>concavity error</th>\n",
              "      <th>concave points error</th>\n",
              "      <th>symmetry error</th>\n",
              "      <th>fractal dimension error</th>\n",
              "      <th>worst radius</th>\n",
              "      <th>worst texture</th>\n",
              "      <th>worst perimeter</th>\n",
              "      <th>worst area</th>\n",
              "      <th>worst smoothness</th>\n",
              "      <th>worst compactness</th>\n",
              "      <th>worst concavity</th>\n",
              "      <th>worst concave points</th>\n",
              "      <th>worst symmetry</th>\n",
              "      <th>worst fractal dimension</th>\n",
              "      <th>Target</th>\n",
              "    </tr>\n",
              "  </thead>\n",
              "  <tbody>\n",
              "    <tr>\n",
              "      <th>0</th>\n",
              "      <td>17.99</td>\n",
              "      <td>10.38</td>\n",
              "      <td>122.80</td>\n",
              "      <td>1001.0</td>\n",
              "      <td>0.11840</td>\n",
              "      <td>0.27760</td>\n",
              "      <td>0.30010</td>\n",
              "      <td>0.14710</td>\n",
              "      <td>0.2419</td>\n",
              "      <td>0.07871</td>\n",
              "      <td>1.0950</td>\n",
              "      <td>0.9053</td>\n",
              "      <td>8.589</td>\n",
              "      <td>153.40</td>\n",
              "      <td>0.006399</td>\n",
              "      <td>0.04904</td>\n",
              "      <td>0.05373</td>\n",
              "      <td>0.01587</td>\n",
              "      <td>0.03003</td>\n",
              "      <td>0.006193</td>\n",
              "      <td>25.380</td>\n",
              "      <td>17.33</td>\n",
              "      <td>184.60</td>\n",
              "      <td>2019.0</td>\n",
              "      <td>0.16220</td>\n",
              "      <td>0.66560</td>\n",
              "      <td>0.7119</td>\n",
              "      <td>0.2654</td>\n",
              "      <td>0.4601</td>\n",
              "      <td>0.11890</td>\n",
              "      <td>0</td>\n",
              "    </tr>\n",
              "    <tr>\n",
              "      <th>1</th>\n",
              "      <td>20.57</td>\n",
              "      <td>17.77</td>\n",
              "      <td>132.90</td>\n",
              "      <td>1326.0</td>\n",
              "      <td>0.08474</td>\n",
              "      <td>0.07864</td>\n",
              "      <td>0.08690</td>\n",
              "      <td>0.07017</td>\n",
              "      <td>0.1812</td>\n",
              "      <td>0.05667</td>\n",
              "      <td>0.5435</td>\n",
              "      <td>0.7339</td>\n",
              "      <td>3.398</td>\n",
              "      <td>74.08</td>\n",
              "      <td>0.005225</td>\n",
              "      <td>0.01308</td>\n",
              "      <td>0.01860</td>\n",
              "      <td>0.01340</td>\n",
              "      <td>0.01389</td>\n",
              "      <td>0.003532</td>\n",
              "      <td>24.990</td>\n",
              "      <td>23.41</td>\n",
              "      <td>158.80</td>\n",
              "      <td>1956.0</td>\n",
              "      <td>0.12380</td>\n",
              "      <td>0.18660</td>\n",
              "      <td>0.2416</td>\n",
              "      <td>0.1860</td>\n",
              "      <td>0.2750</td>\n",
              "      <td>0.08902</td>\n",
              "      <td>0</td>\n",
              "    </tr>\n",
              "    <tr>\n",
              "      <th>2</th>\n",
              "      <td>19.69</td>\n",
              "      <td>21.25</td>\n",
              "      <td>130.00</td>\n",
              "      <td>1203.0</td>\n",
              "      <td>0.10960</td>\n",
              "      <td>0.15990</td>\n",
              "      <td>0.19740</td>\n",
              "      <td>0.12790</td>\n",
              "      <td>0.2069</td>\n",
              "      <td>0.05999</td>\n",
              "      <td>0.7456</td>\n",
              "      <td>0.7869</td>\n",
              "      <td>4.585</td>\n",
              "      <td>94.03</td>\n",
              "      <td>0.006150</td>\n",
              "      <td>0.04006</td>\n",
              "      <td>0.03832</td>\n",
              "      <td>0.02058</td>\n",
              "      <td>0.02250</td>\n",
              "      <td>0.004571</td>\n",
              "      <td>23.570</td>\n",
              "      <td>25.53</td>\n",
              "      <td>152.50</td>\n",
              "      <td>1709.0</td>\n",
              "      <td>0.14440</td>\n",
              "      <td>0.42450</td>\n",
              "      <td>0.4504</td>\n",
              "      <td>0.2430</td>\n",
              "      <td>0.3613</td>\n",
              "      <td>0.08758</td>\n",
              "      <td>0</td>\n",
              "    </tr>\n",
              "    <tr>\n",
              "      <th>3</th>\n",
              "      <td>11.42</td>\n",
              "      <td>20.38</td>\n",
              "      <td>77.58</td>\n",
              "      <td>386.1</td>\n",
              "      <td>0.14250</td>\n",
              "      <td>0.28390</td>\n",
              "      <td>0.24140</td>\n",
              "      <td>0.10520</td>\n",
              "      <td>0.2597</td>\n",
              "      <td>0.09744</td>\n",
              "      <td>0.4956</td>\n",
              "      <td>1.1560</td>\n",
              "      <td>3.445</td>\n",
              "      <td>27.23</td>\n",
              "      <td>0.009110</td>\n",
              "      <td>0.07458</td>\n",
              "      <td>0.05661</td>\n",
              "      <td>0.01867</td>\n",
              "      <td>0.05963</td>\n",
              "      <td>0.009208</td>\n",
              "      <td>14.910</td>\n",
              "      <td>26.50</td>\n",
              "      <td>98.87</td>\n",
              "      <td>567.7</td>\n",
              "      <td>0.20980</td>\n",
              "      <td>0.86630</td>\n",
              "      <td>0.6869</td>\n",
              "      <td>0.2575</td>\n",
              "      <td>0.6638</td>\n",
              "      <td>0.17300</td>\n",
              "      <td>0</td>\n",
              "    </tr>\n",
              "    <tr>\n",
              "      <th>4</th>\n",
              "      <td>20.29</td>\n",
              "      <td>14.34</td>\n",
              "      <td>135.10</td>\n",
              "      <td>1297.0</td>\n",
              "      <td>0.10030</td>\n",
              "      <td>0.13280</td>\n",
              "      <td>0.19800</td>\n",
              "      <td>0.10430</td>\n",
              "      <td>0.1809</td>\n",
              "      <td>0.05883</td>\n",
              "      <td>0.7572</td>\n",
              "      <td>0.7813</td>\n",
              "      <td>5.438</td>\n",
              "      <td>94.44</td>\n",
              "      <td>0.011490</td>\n",
              "      <td>0.02461</td>\n",
              "      <td>0.05688</td>\n",
              "      <td>0.01885</td>\n",
              "      <td>0.01756</td>\n",
              "      <td>0.005115</td>\n",
              "      <td>22.540</td>\n",
              "      <td>16.67</td>\n",
              "      <td>152.20</td>\n",
              "      <td>1575.0</td>\n",
              "      <td>0.13740</td>\n",
              "      <td>0.20500</td>\n",
              "      <td>0.4000</td>\n",
              "      <td>0.1625</td>\n",
              "      <td>0.2364</td>\n",
              "      <td>0.07678</td>\n",
              "      <td>0</td>\n",
              "    </tr>\n",
              "    <tr>\n",
              "      <th>...</th>\n",
              "      <td>...</td>\n",
              "      <td>...</td>\n",
              "      <td>...</td>\n",
              "      <td>...</td>\n",
              "      <td>...</td>\n",
              "      <td>...</td>\n",
              "      <td>...</td>\n",
              "      <td>...</td>\n",
              "      <td>...</td>\n",
              "      <td>...</td>\n",
              "      <td>...</td>\n",
              "      <td>...</td>\n",
              "      <td>...</td>\n",
              "      <td>...</td>\n",
              "      <td>...</td>\n",
              "      <td>...</td>\n",
              "      <td>...</td>\n",
              "      <td>...</td>\n",
              "      <td>...</td>\n",
              "      <td>...</td>\n",
              "      <td>...</td>\n",
              "      <td>...</td>\n",
              "      <td>...</td>\n",
              "      <td>...</td>\n",
              "      <td>...</td>\n",
              "      <td>...</td>\n",
              "      <td>...</td>\n",
              "      <td>...</td>\n",
              "      <td>...</td>\n",
              "      <td>...</td>\n",
              "      <td>...</td>\n",
              "    </tr>\n",
              "    <tr>\n",
              "      <th>564</th>\n",
              "      <td>21.56</td>\n",
              "      <td>22.39</td>\n",
              "      <td>142.00</td>\n",
              "      <td>1479.0</td>\n",
              "      <td>0.11100</td>\n",
              "      <td>0.11590</td>\n",
              "      <td>0.24390</td>\n",
              "      <td>0.13890</td>\n",
              "      <td>0.1726</td>\n",
              "      <td>0.05623</td>\n",
              "      <td>1.1760</td>\n",
              "      <td>1.2560</td>\n",
              "      <td>7.673</td>\n",
              "      <td>158.70</td>\n",
              "      <td>0.010300</td>\n",
              "      <td>0.02891</td>\n",
              "      <td>0.05198</td>\n",
              "      <td>0.02454</td>\n",
              "      <td>0.01114</td>\n",
              "      <td>0.004239</td>\n",
              "      <td>25.450</td>\n",
              "      <td>26.40</td>\n",
              "      <td>166.10</td>\n",
              "      <td>2027.0</td>\n",
              "      <td>0.14100</td>\n",
              "      <td>0.21130</td>\n",
              "      <td>0.4107</td>\n",
              "      <td>0.2216</td>\n",
              "      <td>0.2060</td>\n",
              "      <td>0.07115</td>\n",
              "      <td>0</td>\n",
              "    </tr>\n",
              "    <tr>\n",
              "      <th>565</th>\n",
              "      <td>20.13</td>\n",
              "      <td>28.25</td>\n",
              "      <td>131.20</td>\n",
              "      <td>1261.0</td>\n",
              "      <td>0.09780</td>\n",
              "      <td>0.10340</td>\n",
              "      <td>0.14400</td>\n",
              "      <td>0.09791</td>\n",
              "      <td>0.1752</td>\n",
              "      <td>0.05533</td>\n",
              "      <td>0.7655</td>\n",
              "      <td>2.4630</td>\n",
              "      <td>5.203</td>\n",
              "      <td>99.04</td>\n",
              "      <td>0.005769</td>\n",
              "      <td>0.02423</td>\n",
              "      <td>0.03950</td>\n",
              "      <td>0.01678</td>\n",
              "      <td>0.01898</td>\n",
              "      <td>0.002498</td>\n",
              "      <td>23.690</td>\n",
              "      <td>38.25</td>\n",
              "      <td>155.00</td>\n",
              "      <td>1731.0</td>\n",
              "      <td>0.11660</td>\n",
              "      <td>0.19220</td>\n",
              "      <td>0.3215</td>\n",
              "      <td>0.1628</td>\n",
              "      <td>0.2572</td>\n",
              "      <td>0.06637</td>\n",
              "      <td>0</td>\n",
              "    </tr>\n",
              "    <tr>\n",
              "      <th>566</th>\n",
              "      <td>16.60</td>\n",
              "      <td>28.08</td>\n",
              "      <td>108.30</td>\n",
              "      <td>858.1</td>\n",
              "      <td>0.08455</td>\n",
              "      <td>0.10230</td>\n",
              "      <td>0.09251</td>\n",
              "      <td>0.05302</td>\n",
              "      <td>0.1590</td>\n",
              "      <td>0.05648</td>\n",
              "      <td>0.4564</td>\n",
              "      <td>1.0750</td>\n",
              "      <td>3.425</td>\n",
              "      <td>48.55</td>\n",
              "      <td>0.005903</td>\n",
              "      <td>0.03731</td>\n",
              "      <td>0.04730</td>\n",
              "      <td>0.01557</td>\n",
              "      <td>0.01318</td>\n",
              "      <td>0.003892</td>\n",
              "      <td>18.980</td>\n",
              "      <td>34.12</td>\n",
              "      <td>126.70</td>\n",
              "      <td>1124.0</td>\n",
              "      <td>0.11390</td>\n",
              "      <td>0.30940</td>\n",
              "      <td>0.3403</td>\n",
              "      <td>0.1418</td>\n",
              "      <td>0.2218</td>\n",
              "      <td>0.07820</td>\n",
              "      <td>0</td>\n",
              "    </tr>\n",
              "    <tr>\n",
              "      <th>567</th>\n",
              "      <td>20.60</td>\n",
              "      <td>29.33</td>\n",
              "      <td>140.10</td>\n",
              "      <td>1265.0</td>\n",
              "      <td>0.11780</td>\n",
              "      <td>0.27700</td>\n",
              "      <td>0.35140</td>\n",
              "      <td>0.15200</td>\n",
              "      <td>0.2397</td>\n",
              "      <td>0.07016</td>\n",
              "      <td>0.7260</td>\n",
              "      <td>1.5950</td>\n",
              "      <td>5.772</td>\n",
              "      <td>86.22</td>\n",
              "      <td>0.006522</td>\n",
              "      <td>0.06158</td>\n",
              "      <td>0.07117</td>\n",
              "      <td>0.01664</td>\n",
              "      <td>0.02324</td>\n",
              "      <td>0.006185</td>\n",
              "      <td>25.740</td>\n",
              "      <td>39.42</td>\n",
              "      <td>184.60</td>\n",
              "      <td>1821.0</td>\n",
              "      <td>0.16500</td>\n",
              "      <td>0.86810</td>\n",
              "      <td>0.9387</td>\n",
              "      <td>0.2650</td>\n",
              "      <td>0.4087</td>\n",
              "      <td>0.12400</td>\n",
              "      <td>0</td>\n",
              "    </tr>\n",
              "    <tr>\n",
              "      <th>568</th>\n",
              "      <td>7.76</td>\n",
              "      <td>24.54</td>\n",
              "      <td>47.92</td>\n",
              "      <td>181.0</td>\n",
              "      <td>0.05263</td>\n",
              "      <td>0.04362</td>\n",
              "      <td>0.00000</td>\n",
              "      <td>0.00000</td>\n",
              "      <td>0.1587</td>\n",
              "      <td>0.05884</td>\n",
              "      <td>0.3857</td>\n",
              "      <td>1.4280</td>\n",
              "      <td>2.548</td>\n",
              "      <td>19.15</td>\n",
              "      <td>0.007189</td>\n",
              "      <td>0.00466</td>\n",
              "      <td>0.00000</td>\n",
              "      <td>0.00000</td>\n",
              "      <td>0.02676</td>\n",
              "      <td>0.002783</td>\n",
              "      <td>9.456</td>\n",
              "      <td>30.37</td>\n",
              "      <td>59.16</td>\n",
              "      <td>268.6</td>\n",
              "      <td>0.08996</td>\n",
              "      <td>0.06444</td>\n",
              "      <td>0.0000</td>\n",
              "      <td>0.0000</td>\n",
              "      <td>0.2871</td>\n",
              "      <td>0.07039</td>\n",
              "      <td>1</td>\n",
              "    </tr>\n",
              "  </tbody>\n",
              "</table>\n",
              "<p>569 rows × 31 columns</p>\n",
              "</div>"
            ],
            "text/plain": [
              "     mean radius  mean texture  ...  worst fractal dimension  Target\n",
              "0          17.99         10.38  ...                  0.11890       0\n",
              "1          20.57         17.77  ...                  0.08902       0\n",
              "2          19.69         21.25  ...                  0.08758       0\n",
              "3          11.42         20.38  ...                  0.17300       0\n",
              "4          20.29         14.34  ...                  0.07678       0\n",
              "..           ...           ...  ...                      ...     ...\n",
              "564        21.56         22.39  ...                  0.07115       0\n",
              "565        20.13         28.25  ...                  0.06637       0\n",
              "566        16.60         28.08  ...                  0.07820       0\n",
              "567        20.60         29.33  ...                  0.12400       0\n",
              "568         7.76         24.54  ...                  0.07039       1\n",
              "\n",
              "[569 rows x 31 columns]"
            ]
          },
          "metadata": {
            "tags": []
          },
          "execution_count": 26
        }
      ]
    },
    {
      "cell_type": "code",
      "metadata": {
        "id": "yNm_0maP2llw"
      },
      "source": [
        "X, y = cancer.data , cancer.target"
      ],
      "execution_count": null,
      "outputs": []
    },
    {
      "cell_type": "code",
      "metadata": {
        "id": "sqJYpuiU218G"
      },
      "source": [
        "X_train, X_test, y_train, y_test = train_test_split(X,y , test_size = 0.2)"
      ],
      "execution_count": null,
      "outputs": []
    },
    {
      "cell_type": "code",
      "metadata": {
        "id": "KdqErM1h1nMP",
        "colab": {
          "base_uri": "https://localhost:8080/",
          "height": 470
        },
        "outputId": "098cddfe-9362-43b4-f1c5-05d25b5cb2b2"
      },
      "source": [
        "cancer_train_df = pd.DataFrame(data = X_train, columns = cancer.feature_names)\n",
        "cancer_train_df['target']  = y_train\n",
        "cancer_train_df"
      ],
      "execution_count": null,
      "outputs": [
        {
          "output_type": "execute_result",
          "data": {
            "text/html": [
              "<div>\n",
              "<style scoped>\n",
              "    .dataframe tbody tr th:only-of-type {\n",
              "        vertical-align: middle;\n",
              "    }\n",
              "\n",
              "    .dataframe tbody tr th {\n",
              "        vertical-align: top;\n",
              "    }\n",
              "\n",
              "    .dataframe thead th {\n",
              "        text-align: right;\n",
              "    }\n",
              "</style>\n",
              "<table border=\"1\" class=\"dataframe\">\n",
              "  <thead>\n",
              "    <tr style=\"text-align: right;\">\n",
              "      <th></th>\n",
              "      <th>mean radius</th>\n",
              "      <th>mean texture</th>\n",
              "      <th>mean perimeter</th>\n",
              "      <th>mean area</th>\n",
              "      <th>mean smoothness</th>\n",
              "      <th>mean compactness</th>\n",
              "      <th>mean concavity</th>\n",
              "      <th>mean concave points</th>\n",
              "      <th>mean symmetry</th>\n",
              "      <th>mean fractal dimension</th>\n",
              "      <th>radius error</th>\n",
              "      <th>texture error</th>\n",
              "      <th>perimeter error</th>\n",
              "      <th>area error</th>\n",
              "      <th>smoothness error</th>\n",
              "      <th>compactness error</th>\n",
              "      <th>concavity error</th>\n",
              "      <th>concave points error</th>\n",
              "      <th>symmetry error</th>\n",
              "      <th>fractal dimension error</th>\n",
              "      <th>worst radius</th>\n",
              "      <th>worst texture</th>\n",
              "      <th>worst perimeter</th>\n",
              "      <th>worst area</th>\n",
              "      <th>worst smoothness</th>\n",
              "      <th>worst compactness</th>\n",
              "      <th>worst concavity</th>\n",
              "      <th>worst concave points</th>\n",
              "      <th>worst symmetry</th>\n",
              "      <th>worst fractal dimension</th>\n",
              "      <th>target</th>\n",
              "    </tr>\n",
              "  </thead>\n",
              "  <tbody>\n",
              "    <tr>\n",
              "      <th>0</th>\n",
              "      <td>9.738</td>\n",
              "      <td>11.97</td>\n",
              "      <td>61.24</td>\n",
              "      <td>288.5</td>\n",
              "      <td>0.09250</td>\n",
              "      <td>0.04102</td>\n",
              "      <td>0.00000</td>\n",
              "      <td>0.000000</td>\n",
              "      <td>0.1903</td>\n",
              "      <td>0.06422</td>\n",
              "      <td>0.1988</td>\n",
              "      <td>0.4960</td>\n",
              "      <td>1.218</td>\n",
              "      <td>12.260</td>\n",
              "      <td>0.006040</td>\n",
              "      <td>0.005656</td>\n",
              "      <td>0.00000</td>\n",
              "      <td>0.000000</td>\n",
              "      <td>0.02277</td>\n",
              "      <td>0.003220</td>\n",
              "      <td>10.620</td>\n",
              "      <td>14.10</td>\n",
              "      <td>66.53</td>\n",
              "      <td>342.9</td>\n",
              "      <td>0.1234</td>\n",
              "      <td>0.07204</td>\n",
              "      <td>0.0000</td>\n",
              "      <td>0.00000</td>\n",
              "      <td>0.3105</td>\n",
              "      <td>0.08151</td>\n",
              "      <td>1</td>\n",
              "    </tr>\n",
              "    <tr>\n",
              "      <th>1</th>\n",
              "      <td>12.540</td>\n",
              "      <td>16.32</td>\n",
              "      <td>81.25</td>\n",
              "      <td>476.3</td>\n",
              "      <td>0.11580</td>\n",
              "      <td>0.10850</td>\n",
              "      <td>0.05928</td>\n",
              "      <td>0.032790</td>\n",
              "      <td>0.1943</td>\n",
              "      <td>0.06612</td>\n",
              "      <td>0.2577</td>\n",
              "      <td>1.0950</td>\n",
              "      <td>1.566</td>\n",
              "      <td>18.490</td>\n",
              "      <td>0.009702</td>\n",
              "      <td>0.015670</td>\n",
              "      <td>0.02575</td>\n",
              "      <td>0.011610</td>\n",
              "      <td>0.02801</td>\n",
              "      <td>0.002480</td>\n",
              "      <td>13.570</td>\n",
              "      <td>21.40</td>\n",
              "      <td>86.67</td>\n",
              "      <td>552.0</td>\n",
              "      <td>0.1580</td>\n",
              "      <td>0.17510</td>\n",
              "      <td>0.1889</td>\n",
              "      <td>0.08411</td>\n",
              "      <td>0.3155</td>\n",
              "      <td>0.07538</td>\n",
              "      <td>1</td>\n",
              "    </tr>\n",
              "    <tr>\n",
              "      <th>2</th>\n",
              "      <td>8.618</td>\n",
              "      <td>11.79</td>\n",
              "      <td>54.34</td>\n",
              "      <td>224.5</td>\n",
              "      <td>0.09752</td>\n",
              "      <td>0.05272</td>\n",
              "      <td>0.02061</td>\n",
              "      <td>0.007799</td>\n",
              "      <td>0.1683</td>\n",
              "      <td>0.07187</td>\n",
              "      <td>0.1559</td>\n",
              "      <td>0.5796</td>\n",
              "      <td>1.046</td>\n",
              "      <td>8.322</td>\n",
              "      <td>0.010110</td>\n",
              "      <td>0.010550</td>\n",
              "      <td>0.01981</td>\n",
              "      <td>0.005742</td>\n",
              "      <td>0.02090</td>\n",
              "      <td>0.002788</td>\n",
              "      <td>9.507</td>\n",
              "      <td>15.40</td>\n",
              "      <td>59.90</td>\n",
              "      <td>274.9</td>\n",
              "      <td>0.1733</td>\n",
              "      <td>0.12390</td>\n",
              "      <td>0.1168</td>\n",
              "      <td>0.04419</td>\n",
              "      <td>0.3220</td>\n",
              "      <td>0.09026</td>\n",
              "      <td>1</td>\n",
              "    </tr>\n",
              "    <tr>\n",
              "      <th>3</th>\n",
              "      <td>18.250</td>\n",
              "      <td>19.98</td>\n",
              "      <td>119.60</td>\n",
              "      <td>1040.0</td>\n",
              "      <td>0.09463</td>\n",
              "      <td>0.10900</td>\n",
              "      <td>0.11270</td>\n",
              "      <td>0.074000</td>\n",
              "      <td>0.1794</td>\n",
              "      <td>0.05742</td>\n",
              "      <td>0.4467</td>\n",
              "      <td>0.7732</td>\n",
              "      <td>3.180</td>\n",
              "      <td>53.910</td>\n",
              "      <td>0.004314</td>\n",
              "      <td>0.013820</td>\n",
              "      <td>0.02254</td>\n",
              "      <td>0.010390</td>\n",
              "      <td>0.01369</td>\n",
              "      <td>0.002179</td>\n",
              "      <td>22.880</td>\n",
              "      <td>27.66</td>\n",
              "      <td>153.20</td>\n",
              "      <td>1606.0</td>\n",
              "      <td>0.1442</td>\n",
              "      <td>0.25760</td>\n",
              "      <td>0.3784</td>\n",
              "      <td>0.19320</td>\n",
              "      <td>0.3063</td>\n",
              "      <td>0.08368</td>\n",
              "      <td>0</td>\n",
              "    </tr>\n",
              "    <tr>\n",
              "      <th>4</th>\n",
              "      <td>8.671</td>\n",
              "      <td>14.45</td>\n",
              "      <td>54.42</td>\n",
              "      <td>227.2</td>\n",
              "      <td>0.09138</td>\n",
              "      <td>0.04276</td>\n",
              "      <td>0.00000</td>\n",
              "      <td>0.000000</td>\n",
              "      <td>0.1722</td>\n",
              "      <td>0.06724</td>\n",
              "      <td>0.2204</td>\n",
              "      <td>0.7873</td>\n",
              "      <td>1.435</td>\n",
              "      <td>11.360</td>\n",
              "      <td>0.009172</td>\n",
              "      <td>0.008007</td>\n",
              "      <td>0.00000</td>\n",
              "      <td>0.000000</td>\n",
              "      <td>0.02711</td>\n",
              "      <td>0.003399</td>\n",
              "      <td>9.262</td>\n",
              "      <td>17.04</td>\n",
              "      <td>58.36</td>\n",
              "      <td>259.2</td>\n",
              "      <td>0.1162</td>\n",
              "      <td>0.07057</td>\n",
              "      <td>0.0000</td>\n",
              "      <td>0.00000</td>\n",
              "      <td>0.2592</td>\n",
              "      <td>0.07848</td>\n",
              "      <td>1</td>\n",
              "    </tr>\n",
              "    <tr>\n",
              "      <th>...</th>\n",
              "      <td>...</td>\n",
              "      <td>...</td>\n",
              "      <td>...</td>\n",
              "      <td>...</td>\n",
              "      <td>...</td>\n",
              "      <td>...</td>\n",
              "      <td>...</td>\n",
              "      <td>...</td>\n",
              "      <td>...</td>\n",
              "      <td>...</td>\n",
              "      <td>...</td>\n",
              "      <td>...</td>\n",
              "      <td>...</td>\n",
              "      <td>...</td>\n",
              "      <td>...</td>\n",
              "      <td>...</td>\n",
              "      <td>...</td>\n",
              "      <td>...</td>\n",
              "      <td>...</td>\n",
              "      <td>...</td>\n",
              "      <td>...</td>\n",
              "      <td>...</td>\n",
              "      <td>...</td>\n",
              "      <td>...</td>\n",
              "      <td>...</td>\n",
              "      <td>...</td>\n",
              "      <td>...</td>\n",
              "      <td>...</td>\n",
              "      <td>...</td>\n",
              "      <td>...</td>\n",
              "      <td>...</td>\n",
              "    </tr>\n",
              "    <tr>\n",
              "      <th>450</th>\n",
              "      <td>12.910</td>\n",
              "      <td>16.33</td>\n",
              "      <td>82.53</td>\n",
              "      <td>516.4</td>\n",
              "      <td>0.07941</td>\n",
              "      <td>0.05366</td>\n",
              "      <td>0.03873</td>\n",
              "      <td>0.023770</td>\n",
              "      <td>0.1829</td>\n",
              "      <td>0.05667</td>\n",
              "      <td>0.1942</td>\n",
              "      <td>0.9086</td>\n",
              "      <td>1.493</td>\n",
              "      <td>15.750</td>\n",
              "      <td>0.005298</td>\n",
              "      <td>0.015870</td>\n",
              "      <td>0.02321</td>\n",
              "      <td>0.008420</td>\n",
              "      <td>0.01853</td>\n",
              "      <td>0.002152</td>\n",
              "      <td>13.880</td>\n",
              "      <td>22.00</td>\n",
              "      <td>90.81</td>\n",
              "      <td>600.6</td>\n",
              "      <td>0.1097</td>\n",
              "      <td>0.15060</td>\n",
              "      <td>0.1764</td>\n",
              "      <td>0.08235</td>\n",
              "      <td>0.3024</td>\n",
              "      <td>0.06949</td>\n",
              "      <td>1</td>\n",
              "    </tr>\n",
              "    <tr>\n",
              "      <th>451</th>\n",
              "      <td>17.190</td>\n",
              "      <td>22.07</td>\n",
              "      <td>111.60</td>\n",
              "      <td>928.3</td>\n",
              "      <td>0.09726</td>\n",
              "      <td>0.08995</td>\n",
              "      <td>0.09061</td>\n",
              "      <td>0.065270</td>\n",
              "      <td>0.1867</td>\n",
              "      <td>0.05580</td>\n",
              "      <td>0.4203</td>\n",
              "      <td>0.7383</td>\n",
              "      <td>2.819</td>\n",
              "      <td>45.420</td>\n",
              "      <td>0.004493</td>\n",
              "      <td>0.012060</td>\n",
              "      <td>0.02048</td>\n",
              "      <td>0.009875</td>\n",
              "      <td>0.01144</td>\n",
              "      <td>0.001575</td>\n",
              "      <td>21.580</td>\n",
              "      <td>29.33</td>\n",
              "      <td>140.50</td>\n",
              "      <td>1436.0</td>\n",
              "      <td>0.1558</td>\n",
              "      <td>0.25670</td>\n",
              "      <td>0.3889</td>\n",
              "      <td>0.19840</td>\n",
              "      <td>0.3216</td>\n",
              "      <td>0.07570</td>\n",
              "      <td>0</td>\n",
              "    </tr>\n",
              "    <tr>\n",
              "      <th>452</th>\n",
              "      <td>11.710</td>\n",
              "      <td>17.19</td>\n",
              "      <td>74.68</td>\n",
              "      <td>420.3</td>\n",
              "      <td>0.09774</td>\n",
              "      <td>0.06141</td>\n",
              "      <td>0.03809</td>\n",
              "      <td>0.032390</td>\n",
              "      <td>0.1516</td>\n",
              "      <td>0.06095</td>\n",
              "      <td>0.2451</td>\n",
              "      <td>0.7655</td>\n",
              "      <td>1.742</td>\n",
              "      <td>17.860</td>\n",
              "      <td>0.006905</td>\n",
              "      <td>0.008704</td>\n",
              "      <td>0.01978</td>\n",
              "      <td>0.011850</td>\n",
              "      <td>0.01897</td>\n",
              "      <td>0.001671</td>\n",
              "      <td>13.010</td>\n",
              "      <td>21.39</td>\n",
              "      <td>84.42</td>\n",
              "      <td>521.5</td>\n",
              "      <td>0.1323</td>\n",
              "      <td>0.10400</td>\n",
              "      <td>0.1521</td>\n",
              "      <td>0.10990</td>\n",
              "      <td>0.2572</td>\n",
              "      <td>0.07097</td>\n",
              "      <td>1</td>\n",
              "    </tr>\n",
              "    <tr>\n",
              "      <th>453</th>\n",
              "      <td>17.270</td>\n",
              "      <td>25.42</td>\n",
              "      <td>112.40</td>\n",
              "      <td>928.8</td>\n",
              "      <td>0.08331</td>\n",
              "      <td>0.11090</td>\n",
              "      <td>0.12040</td>\n",
              "      <td>0.057360</td>\n",
              "      <td>0.1467</td>\n",
              "      <td>0.05407</td>\n",
              "      <td>0.5100</td>\n",
              "      <td>1.6790</td>\n",
              "      <td>3.283</td>\n",
              "      <td>58.380</td>\n",
              "      <td>0.008109</td>\n",
              "      <td>0.043080</td>\n",
              "      <td>0.04942</td>\n",
              "      <td>0.017420</td>\n",
              "      <td>0.01594</td>\n",
              "      <td>0.003739</td>\n",
              "      <td>20.380</td>\n",
              "      <td>35.46</td>\n",
              "      <td>132.80</td>\n",
              "      <td>1284.0</td>\n",
              "      <td>0.1436</td>\n",
              "      <td>0.41220</td>\n",
              "      <td>0.5036</td>\n",
              "      <td>0.17390</td>\n",
              "      <td>0.2500</td>\n",
              "      <td>0.07944</td>\n",
              "      <td>0</td>\n",
              "    </tr>\n",
              "    <tr>\n",
              "      <th>454</th>\n",
              "      <td>11.290</td>\n",
              "      <td>13.04</td>\n",
              "      <td>72.23</td>\n",
              "      <td>388.0</td>\n",
              "      <td>0.09834</td>\n",
              "      <td>0.07608</td>\n",
              "      <td>0.03265</td>\n",
              "      <td>0.027550</td>\n",
              "      <td>0.1769</td>\n",
              "      <td>0.06270</td>\n",
              "      <td>0.1904</td>\n",
              "      <td>0.5293</td>\n",
              "      <td>1.164</td>\n",
              "      <td>13.170</td>\n",
              "      <td>0.006472</td>\n",
              "      <td>0.011220</td>\n",
              "      <td>0.01282</td>\n",
              "      <td>0.008849</td>\n",
              "      <td>0.01692</td>\n",
              "      <td>0.002817</td>\n",
              "      <td>12.320</td>\n",
              "      <td>16.18</td>\n",
              "      <td>78.27</td>\n",
              "      <td>457.5</td>\n",
              "      <td>0.1358</td>\n",
              "      <td>0.15070</td>\n",
              "      <td>0.1275</td>\n",
              "      <td>0.08750</td>\n",
              "      <td>0.2733</td>\n",
              "      <td>0.08022</td>\n",
              "      <td>1</td>\n",
              "    </tr>\n",
              "  </tbody>\n",
              "</table>\n",
              "<p>455 rows × 31 columns</p>\n",
              "</div>"
            ],
            "text/plain": [
              "     mean radius  mean texture  ...  worst fractal dimension  target\n",
              "0          9.738         11.97  ...                  0.08151       1\n",
              "1         12.540         16.32  ...                  0.07538       1\n",
              "2          8.618         11.79  ...                  0.09026       1\n",
              "3         18.250         19.98  ...                  0.08368       0\n",
              "4          8.671         14.45  ...                  0.07848       1\n",
              "..           ...           ...  ...                      ...     ...\n",
              "450       12.910         16.33  ...                  0.06949       1\n",
              "451       17.190         22.07  ...                  0.07570       0\n",
              "452       11.710         17.19  ...                  0.07097       1\n",
              "453       17.270         25.42  ...                  0.07944       0\n",
              "454       11.290         13.04  ...                  0.08022       1\n",
              "\n",
              "[455 rows x 31 columns]"
            ]
          },
          "metadata": {
            "tags": []
          },
          "execution_count": 29
        }
      ]
    },
    {
      "cell_type": "code",
      "metadata": {
        "id": "tcIuzg0-1owj",
        "colab": {
          "base_uri": "https://localhost:8080/",
          "height": 470
        },
        "outputId": "6b5c3173-9df8-47fb-9224-1852aab5701a"
      },
      "source": [
        "cancer_test_df = pd.DataFrame(data = X_test, columns = cancer.feature_names)\n",
        "cancer_test_df['target']  = y_test\n",
        "cancer_test_df"
      ],
      "execution_count": null,
      "outputs": [
        {
          "output_type": "execute_result",
          "data": {
            "text/html": [
              "<div>\n",
              "<style scoped>\n",
              "    .dataframe tbody tr th:only-of-type {\n",
              "        vertical-align: middle;\n",
              "    }\n",
              "\n",
              "    .dataframe tbody tr th {\n",
              "        vertical-align: top;\n",
              "    }\n",
              "\n",
              "    .dataframe thead th {\n",
              "        text-align: right;\n",
              "    }\n",
              "</style>\n",
              "<table border=\"1\" class=\"dataframe\">\n",
              "  <thead>\n",
              "    <tr style=\"text-align: right;\">\n",
              "      <th></th>\n",
              "      <th>mean radius</th>\n",
              "      <th>mean texture</th>\n",
              "      <th>mean perimeter</th>\n",
              "      <th>mean area</th>\n",
              "      <th>mean smoothness</th>\n",
              "      <th>mean compactness</th>\n",
              "      <th>mean concavity</th>\n",
              "      <th>mean concave points</th>\n",
              "      <th>mean symmetry</th>\n",
              "      <th>mean fractal dimension</th>\n",
              "      <th>radius error</th>\n",
              "      <th>texture error</th>\n",
              "      <th>perimeter error</th>\n",
              "      <th>area error</th>\n",
              "      <th>smoothness error</th>\n",
              "      <th>compactness error</th>\n",
              "      <th>concavity error</th>\n",
              "      <th>concave points error</th>\n",
              "      <th>symmetry error</th>\n",
              "      <th>fractal dimension error</th>\n",
              "      <th>worst radius</th>\n",
              "      <th>worst texture</th>\n",
              "      <th>worst perimeter</th>\n",
              "      <th>worst area</th>\n",
              "      <th>worst smoothness</th>\n",
              "      <th>worst compactness</th>\n",
              "      <th>worst concavity</th>\n",
              "      <th>worst concave points</th>\n",
              "      <th>worst symmetry</th>\n",
              "      <th>worst fractal dimension</th>\n",
              "      <th>target</th>\n",
              "    </tr>\n",
              "  </thead>\n",
              "  <tbody>\n",
              "    <tr>\n",
              "      <th>0</th>\n",
              "      <td>10.94</td>\n",
              "      <td>18.59</td>\n",
              "      <td>70.39</td>\n",
              "      <td>370.0</td>\n",
              "      <td>0.10040</td>\n",
              "      <td>0.07460</td>\n",
              "      <td>0.049440</td>\n",
              "      <td>0.02932</td>\n",
              "      <td>0.1486</td>\n",
              "      <td>0.06615</td>\n",
              "      <td>0.3796</td>\n",
              "      <td>1.7430</td>\n",
              "      <td>3.018</td>\n",
              "      <td>25.78</td>\n",
              "      <td>0.009519</td>\n",
              "      <td>0.021340</td>\n",
              "      <td>0.019900</td>\n",
              "      <td>0.011550</td>\n",
              "      <td>0.020790</td>\n",
              "      <td>0.002701</td>\n",
              "      <td>12.40</td>\n",
              "      <td>25.58</td>\n",
              "      <td>82.76</td>\n",
              "      <td>472.4</td>\n",
              "      <td>0.13630</td>\n",
              "      <td>0.16440</td>\n",
              "      <td>0.14120</td>\n",
              "      <td>0.07887</td>\n",
              "      <td>0.2251</td>\n",
              "      <td>0.07732</td>\n",
              "      <td>1</td>\n",
              "    </tr>\n",
              "    <tr>\n",
              "      <th>1</th>\n",
              "      <td>13.90</td>\n",
              "      <td>16.62</td>\n",
              "      <td>88.97</td>\n",
              "      <td>599.4</td>\n",
              "      <td>0.06828</td>\n",
              "      <td>0.05319</td>\n",
              "      <td>0.022240</td>\n",
              "      <td>0.01339</td>\n",
              "      <td>0.1813</td>\n",
              "      <td>0.05536</td>\n",
              "      <td>0.1555</td>\n",
              "      <td>0.5762</td>\n",
              "      <td>1.392</td>\n",
              "      <td>14.03</td>\n",
              "      <td>0.003308</td>\n",
              "      <td>0.013150</td>\n",
              "      <td>0.009904</td>\n",
              "      <td>0.004832</td>\n",
              "      <td>0.013160</td>\n",
              "      <td>0.002095</td>\n",
              "      <td>15.14</td>\n",
              "      <td>21.80</td>\n",
              "      <td>101.20</td>\n",
              "      <td>718.9</td>\n",
              "      <td>0.09384</td>\n",
              "      <td>0.20060</td>\n",
              "      <td>0.13840</td>\n",
              "      <td>0.06222</td>\n",
              "      <td>0.2679</td>\n",
              "      <td>0.07698</td>\n",
              "      <td>1</td>\n",
              "    </tr>\n",
              "    <tr>\n",
              "      <th>2</th>\n",
              "      <td>19.40</td>\n",
              "      <td>18.18</td>\n",
              "      <td>127.20</td>\n",
              "      <td>1145.0</td>\n",
              "      <td>0.10370</td>\n",
              "      <td>0.14420</td>\n",
              "      <td>0.162600</td>\n",
              "      <td>0.09464</td>\n",
              "      <td>0.1893</td>\n",
              "      <td>0.05892</td>\n",
              "      <td>0.4709</td>\n",
              "      <td>0.9951</td>\n",
              "      <td>2.903</td>\n",
              "      <td>53.16</td>\n",
              "      <td>0.005654</td>\n",
              "      <td>0.021990</td>\n",
              "      <td>0.030590</td>\n",
              "      <td>0.014990</td>\n",
              "      <td>0.016230</td>\n",
              "      <td>0.001965</td>\n",
              "      <td>23.79</td>\n",
              "      <td>28.65</td>\n",
              "      <td>152.40</td>\n",
              "      <td>1628.0</td>\n",
              "      <td>0.15180</td>\n",
              "      <td>0.37490</td>\n",
              "      <td>0.43160</td>\n",
              "      <td>0.22520</td>\n",
              "      <td>0.3590</td>\n",
              "      <td>0.07787</td>\n",
              "      <td>0</td>\n",
              "    </tr>\n",
              "    <tr>\n",
              "      <th>3</th>\n",
              "      <td>15.27</td>\n",
              "      <td>12.91</td>\n",
              "      <td>98.17</td>\n",
              "      <td>725.5</td>\n",
              "      <td>0.08182</td>\n",
              "      <td>0.06230</td>\n",
              "      <td>0.058920</td>\n",
              "      <td>0.03157</td>\n",
              "      <td>0.1359</td>\n",
              "      <td>0.05526</td>\n",
              "      <td>0.2134</td>\n",
              "      <td>0.3628</td>\n",
              "      <td>1.525</td>\n",
              "      <td>20.00</td>\n",
              "      <td>0.004291</td>\n",
              "      <td>0.012360</td>\n",
              "      <td>0.018410</td>\n",
              "      <td>0.007373</td>\n",
              "      <td>0.009539</td>\n",
              "      <td>0.001656</td>\n",
              "      <td>17.38</td>\n",
              "      <td>15.92</td>\n",
              "      <td>113.70</td>\n",
              "      <td>932.7</td>\n",
              "      <td>0.12220</td>\n",
              "      <td>0.21860</td>\n",
              "      <td>0.29620</td>\n",
              "      <td>0.10350</td>\n",
              "      <td>0.2320</td>\n",
              "      <td>0.07474</td>\n",
              "      <td>1</td>\n",
              "    </tr>\n",
              "    <tr>\n",
              "      <th>4</th>\n",
              "      <td>16.50</td>\n",
              "      <td>18.29</td>\n",
              "      <td>106.60</td>\n",
              "      <td>838.1</td>\n",
              "      <td>0.09686</td>\n",
              "      <td>0.08468</td>\n",
              "      <td>0.058620</td>\n",
              "      <td>0.04835</td>\n",
              "      <td>0.1495</td>\n",
              "      <td>0.05593</td>\n",
              "      <td>0.3389</td>\n",
              "      <td>1.4390</td>\n",
              "      <td>2.344</td>\n",
              "      <td>33.58</td>\n",
              "      <td>0.007257</td>\n",
              "      <td>0.018050</td>\n",
              "      <td>0.018320</td>\n",
              "      <td>0.010330</td>\n",
              "      <td>0.016940</td>\n",
              "      <td>0.002001</td>\n",
              "      <td>18.13</td>\n",
              "      <td>25.45</td>\n",
              "      <td>117.20</td>\n",
              "      <td>1009.0</td>\n",
              "      <td>0.13380</td>\n",
              "      <td>0.16790</td>\n",
              "      <td>0.16630</td>\n",
              "      <td>0.09123</td>\n",
              "      <td>0.2394</td>\n",
              "      <td>0.06469</td>\n",
              "      <td>1</td>\n",
              "    </tr>\n",
              "    <tr>\n",
              "      <th>...</th>\n",
              "      <td>...</td>\n",
              "      <td>...</td>\n",
              "      <td>...</td>\n",
              "      <td>...</td>\n",
              "      <td>...</td>\n",
              "      <td>...</td>\n",
              "      <td>...</td>\n",
              "      <td>...</td>\n",
              "      <td>...</td>\n",
              "      <td>...</td>\n",
              "      <td>...</td>\n",
              "      <td>...</td>\n",
              "      <td>...</td>\n",
              "      <td>...</td>\n",
              "      <td>...</td>\n",
              "      <td>...</td>\n",
              "      <td>...</td>\n",
              "      <td>...</td>\n",
              "      <td>...</td>\n",
              "      <td>...</td>\n",
              "      <td>...</td>\n",
              "      <td>...</td>\n",
              "      <td>...</td>\n",
              "      <td>...</td>\n",
              "      <td>...</td>\n",
              "      <td>...</td>\n",
              "      <td>...</td>\n",
              "      <td>...</td>\n",
              "      <td>...</td>\n",
              "      <td>...</td>\n",
              "      <td>...</td>\n",
              "    </tr>\n",
              "    <tr>\n",
              "      <th>109</th>\n",
              "      <td>12.81</td>\n",
              "      <td>13.06</td>\n",
              "      <td>81.29</td>\n",
              "      <td>508.8</td>\n",
              "      <td>0.08739</td>\n",
              "      <td>0.03774</td>\n",
              "      <td>0.009193</td>\n",
              "      <td>0.01330</td>\n",
              "      <td>0.1466</td>\n",
              "      <td>0.06133</td>\n",
              "      <td>0.2889</td>\n",
              "      <td>0.9899</td>\n",
              "      <td>1.778</td>\n",
              "      <td>21.79</td>\n",
              "      <td>0.008534</td>\n",
              "      <td>0.006364</td>\n",
              "      <td>0.006180</td>\n",
              "      <td>0.007408</td>\n",
              "      <td>0.010650</td>\n",
              "      <td>0.003351</td>\n",
              "      <td>13.63</td>\n",
              "      <td>16.15</td>\n",
              "      <td>86.70</td>\n",
              "      <td>570.7</td>\n",
              "      <td>0.11620</td>\n",
              "      <td>0.05445</td>\n",
              "      <td>0.02758</td>\n",
              "      <td>0.03990</td>\n",
              "      <td>0.1783</td>\n",
              "      <td>0.07319</td>\n",
              "      <td>1</td>\n",
              "    </tr>\n",
              "    <tr>\n",
              "      <th>110</th>\n",
              "      <td>17.54</td>\n",
              "      <td>19.32</td>\n",
              "      <td>115.10</td>\n",
              "      <td>951.6</td>\n",
              "      <td>0.08968</td>\n",
              "      <td>0.11980</td>\n",
              "      <td>0.103600</td>\n",
              "      <td>0.07488</td>\n",
              "      <td>0.1506</td>\n",
              "      <td>0.05491</td>\n",
              "      <td>0.3971</td>\n",
              "      <td>0.8282</td>\n",
              "      <td>3.088</td>\n",
              "      <td>40.73</td>\n",
              "      <td>0.006090</td>\n",
              "      <td>0.025690</td>\n",
              "      <td>0.027130</td>\n",
              "      <td>0.013450</td>\n",
              "      <td>0.015940</td>\n",
              "      <td>0.002658</td>\n",
              "      <td>20.42</td>\n",
              "      <td>25.84</td>\n",
              "      <td>139.50</td>\n",
              "      <td>1239.0</td>\n",
              "      <td>0.13810</td>\n",
              "      <td>0.34200</td>\n",
              "      <td>0.35080</td>\n",
              "      <td>0.19390</td>\n",
              "      <td>0.2928</td>\n",
              "      <td>0.07867</td>\n",
              "      <td>0</td>\n",
              "    </tr>\n",
              "    <tr>\n",
              "      <th>111</th>\n",
              "      <td>11.85</td>\n",
              "      <td>17.46</td>\n",
              "      <td>75.54</td>\n",
              "      <td>432.7</td>\n",
              "      <td>0.08372</td>\n",
              "      <td>0.05642</td>\n",
              "      <td>0.026880</td>\n",
              "      <td>0.02280</td>\n",
              "      <td>0.1875</td>\n",
              "      <td>0.05715</td>\n",
              "      <td>0.2070</td>\n",
              "      <td>1.2380</td>\n",
              "      <td>1.234</td>\n",
              "      <td>13.88</td>\n",
              "      <td>0.007595</td>\n",
              "      <td>0.015000</td>\n",
              "      <td>0.014120</td>\n",
              "      <td>0.008578</td>\n",
              "      <td>0.017920</td>\n",
              "      <td>0.001784</td>\n",
              "      <td>13.06</td>\n",
              "      <td>25.75</td>\n",
              "      <td>84.35</td>\n",
              "      <td>517.8</td>\n",
              "      <td>0.13690</td>\n",
              "      <td>0.17580</td>\n",
              "      <td>0.13160</td>\n",
              "      <td>0.09140</td>\n",
              "      <td>0.3101</td>\n",
              "      <td>0.07007</td>\n",
              "      <td>1</td>\n",
              "    </tr>\n",
              "    <tr>\n",
              "      <th>112</th>\n",
              "      <td>12.78</td>\n",
              "      <td>16.49</td>\n",
              "      <td>81.37</td>\n",
              "      <td>502.5</td>\n",
              "      <td>0.09831</td>\n",
              "      <td>0.05234</td>\n",
              "      <td>0.036530</td>\n",
              "      <td>0.02864</td>\n",
              "      <td>0.1590</td>\n",
              "      <td>0.05653</td>\n",
              "      <td>0.2368</td>\n",
              "      <td>0.8732</td>\n",
              "      <td>1.471</td>\n",
              "      <td>18.33</td>\n",
              "      <td>0.007962</td>\n",
              "      <td>0.005612</td>\n",
              "      <td>0.015850</td>\n",
              "      <td>0.008662</td>\n",
              "      <td>0.022540</td>\n",
              "      <td>0.001906</td>\n",
              "      <td>13.46</td>\n",
              "      <td>19.76</td>\n",
              "      <td>85.67</td>\n",
              "      <td>554.9</td>\n",
              "      <td>0.12960</td>\n",
              "      <td>0.07061</td>\n",
              "      <td>0.10390</td>\n",
              "      <td>0.05882</td>\n",
              "      <td>0.2383</td>\n",
              "      <td>0.06410</td>\n",
              "      <td>1</td>\n",
              "    </tr>\n",
              "    <tr>\n",
              "      <th>113</th>\n",
              "      <td>13.17</td>\n",
              "      <td>18.66</td>\n",
              "      <td>85.98</td>\n",
              "      <td>534.6</td>\n",
              "      <td>0.11580</td>\n",
              "      <td>0.12310</td>\n",
              "      <td>0.122600</td>\n",
              "      <td>0.07340</td>\n",
              "      <td>0.2128</td>\n",
              "      <td>0.06777</td>\n",
              "      <td>0.2871</td>\n",
              "      <td>0.8937</td>\n",
              "      <td>1.897</td>\n",
              "      <td>24.25</td>\n",
              "      <td>0.006532</td>\n",
              "      <td>0.023360</td>\n",
              "      <td>0.029050</td>\n",
              "      <td>0.012150</td>\n",
              "      <td>0.017430</td>\n",
              "      <td>0.003643</td>\n",
              "      <td>15.67</td>\n",
              "      <td>27.95</td>\n",
              "      <td>102.80</td>\n",
              "      <td>759.4</td>\n",
              "      <td>0.17860</td>\n",
              "      <td>0.41660</td>\n",
              "      <td>0.50060</td>\n",
              "      <td>0.20880</td>\n",
              "      <td>0.3900</td>\n",
              "      <td>0.11790</td>\n",
              "      <td>0</td>\n",
              "    </tr>\n",
              "  </tbody>\n",
              "</table>\n",
              "<p>114 rows × 31 columns</p>\n",
              "</div>"
            ],
            "text/plain": [
              "     mean radius  mean texture  ...  worst fractal dimension  target\n",
              "0          10.94         18.59  ...                  0.07732       1\n",
              "1          13.90         16.62  ...                  0.07698       1\n",
              "2          19.40         18.18  ...                  0.07787       0\n",
              "3          15.27         12.91  ...                  0.07474       1\n",
              "4          16.50         18.29  ...                  0.06469       1\n",
              "..           ...           ...  ...                      ...     ...\n",
              "109        12.81         13.06  ...                  0.07319       1\n",
              "110        17.54         19.32  ...                  0.07867       0\n",
              "111        11.85         17.46  ...                  0.07007       1\n",
              "112        12.78         16.49  ...                  0.06410       1\n",
              "113        13.17         18.66  ...                  0.11790       0\n",
              "\n",
              "[114 rows x 31 columns]"
            ]
          },
          "metadata": {
            "tags": []
          },
          "execution_count": 30
        }
      ]
    },
    {
      "cell_type": "code",
      "metadata": {
        "id": "i17Z0oOK3t8b"
      },
      "source": [
        "scaler = StandardScaler()\n",
        "X_train_scaled = scaler.fit_transform(X_train)\n",
        "X_test_scaled = scaler.transform(X_test)"
      ],
      "execution_count": null,
      "outputs": []
    },
    {
      "cell_type": "code",
      "metadata": {
        "id": "VlLOXgFZ3wVR",
        "colab": {
          "base_uri": "https://localhost:8080/"
        },
        "outputId": "7d244b38-d8e3-4833-9e0d-0b6b57ea2925"
      },
      "source": [
        "model = KNeighborsClassifier()\n",
        "model.fit(X_train, y_train)"
      ],
      "execution_count": null,
      "outputs": [
        {
          "output_type": "execute_result",
          "data": {
            "text/plain": [
              "KNeighborsClassifier(algorithm='auto', leaf_size=30, metric='minkowski',\n",
              "                     metric_params=None, n_jobs=None, n_neighbors=5, p=2,\n",
              "                     weights='uniform')"
            ]
          },
          "metadata": {
            "tags": []
          },
          "execution_count": 32
        }
      ]
    },
    {
      "cell_type": "code",
      "metadata": {
        "id": "fsbDqEkH3zNN",
        "colab": {
          "base_uri": "https://localhost:8080/"
        },
        "outputId": "01352cbc-8e7d-4ff4-dccb-09e1ebeb60b2"
      },
      "source": [
        "print('학습 데이터 점수: {}'.format(model.score(X_train,y_train)))\n",
        "print('평가 데이터 점수: {}'.format(model.score(X_test,y_test)))"
      ],
      "execution_count": null,
      "outputs": [
        {
          "output_type": "stream",
          "text": [
            "학습 데이터 점수: 0.9406593406593406\n",
            "평가 데이터 점수: 0.9298245614035088\n"
          ],
          "name": "stdout"
        }
      ]
    },
    {
      "cell_type": "code",
      "metadata": {
        "id": "yAt5yeNX4NVn",
        "colab": {
          "base_uri": "https://localhost:8080/"
        },
        "outputId": "d3d13b09-6aa3-495d-ca95-6e7d37855de4"
      },
      "source": [
        "model.fit(X_train_scaled, y_train)"
      ],
      "execution_count": null,
      "outputs": [
        {
          "output_type": "execute_result",
          "data": {
            "text/plain": [
              "KNeighborsClassifier(algorithm='auto', leaf_size=30, metric='minkowski',\n",
              "                     metric_params=None, n_jobs=None, n_neighbors=5, p=2,\n",
              "                     weights='uniform')"
            ]
          },
          "metadata": {
            "tags": []
          },
          "execution_count": 34
        }
      ]
    },
    {
      "cell_type": "code",
      "metadata": {
        "id": "_Q18DbEd1oTt",
        "colab": {
          "base_uri": "https://localhost:8080/"
        },
        "outputId": "61e5eb05-60c3-4f07-bdd2-3b9f6cc71f4f"
      },
      "source": [
        "print('학습 데이터 점수: {}'.format(model.score(X_train_scaled,y_train)))\n",
        "print('평가 데이터 점수: {}'.format(model.score(X_test_scaled,y_test)))"
      ],
      "execution_count": null,
      "outputs": [
        {
          "output_type": "stream",
          "text": [
            "학습 데이터 점수: 0.9758241758241758\n",
            "평가 데이터 점수: 0.9912280701754386\n"
          ],
          "name": "stdout"
        }
      ]
    },
    {
      "cell_type": "code",
      "metadata": {
        "id": "C37R-DHZt4iM"
      },
      "source": [
        "estimator = make_pipeline(\n",
        "    StandardScaler(),\n",
        "    KNeighborsClassifier()\n",
        ")"
      ],
      "execution_count": null,
      "outputs": []
    },
    {
      "cell_type": "code",
      "metadata": {
        "id": "t_9qDhbP53Yp",
        "colab": {
          "base_uri": "https://localhost:8080/"
        },
        "outputId": "00b29f39-fca5-430d-f68e-a8a563a9e168"
      },
      "source": [
        "cross_validate(\n",
        "    estimator = estimator,\n",
        "    X= X, y= y,\n",
        "    cv = 5,\n",
        "    n_jobs = multiprocessing.cpu_count(),\n",
        "    verbose= True\n",
        ")"
      ],
      "execution_count": null,
      "outputs": [
        {
          "output_type": "stream",
          "text": [
            "[Parallel(n_jobs=2)]: Using backend LokyBackend with 2 concurrent workers.\n",
            "[Parallel(n_jobs=2)]: Done   5 out of   5 | elapsed:    0.1s finished\n"
          ],
          "name": "stderr"
        },
        {
          "output_type": "execute_result",
          "data": {
            "text/plain": [
              "{'fit_time': array([0.00654101, 0.0034554 , 0.00324035, 0.00331926, 0.00297379]),\n",
              " 'score_time': array([0.0105176 , 0.01406717, 0.0121057 , 0.01373792, 0.01272202]),\n",
              " 'test_score': array([0.96491228, 0.95614035, 0.98245614, 0.95614035, 0.96460177])}"
            ]
          },
          "metadata": {
            "tags": []
          },
          "execution_count": 37
        }
      ]
    },
    {
      "cell_type": "code",
      "metadata": {
        "id": "eih3ashG1n_U"
      },
      "source": [
        "pipe = Pipeline(\n",
        "    [('scaler', StandardScaler()),\n",
        "     ('model', KNeighborsClassifier())]\n",
        ")"
      ],
      "execution_count": null,
      "outputs": []
    },
    {
      "cell_type": "code",
      "metadata": {
        "id": "hEviq7q8u3oc"
      },
      "source": [
        "pipe2 = make_pipeline(\n",
        "    StandardScaler(),\n",
        "    KNeighborsClassifier()\n",
        ")"
      ],
      "execution_count": null,
      "outputs": []
    },
    {
      "cell_type": "code",
      "metadata": {
        "id": "yEvpmI4t5ayE"
      },
      "source": [
        "param_grid = [{'model__n_neighbors': [3,5,7],\n",
        "               'model__weights': ['uniform', 'distance'],\n",
        "               'model__algorithm': ['ball_tree', 'kd_tree',' brute']}]"
      ],
      "execution_count": null,
      "outputs": []
    },
    {
      "cell_type": "code",
      "metadata": {
        "id": "o6Hh3mT45eLw"
      },
      "source": [
        "gs = GridSearchCV(\n",
        "    estimator = pipe,\n",
        "    param_grid = param_grid,\n",
        "    n_jobs = multiprocessing.cpu_count(),\n",
        "    verbose = True\n",
        ")"
      ],
      "execution_count": null,
      "outputs": []
    },
    {
      "cell_type": "code",
      "metadata": {
        "id": "wNuYBM4G5gUT",
        "colab": {
          "base_uri": "https://localhost:8080/"
        },
        "outputId": "0a151ede-c762-4966-fb18-53d2a5efc957"
      },
      "source": [
        "gs.fit(X,y)"
      ],
      "execution_count": null,
      "outputs": [
        {
          "output_type": "stream",
          "text": [
            "Fitting 5 folds for each of 18 candidates, totalling 90 fits\n"
          ],
          "name": "stdout"
        },
        {
          "output_type": "stream",
          "text": [
            "[Parallel(n_jobs=2)]: Using backend LokyBackend with 2 concurrent workers.\n",
            "[Parallel(n_jobs=2)]: Done  90 out of  90 | elapsed:    0.6s finished\n"
          ],
          "name": "stderr"
        },
        {
          "output_type": "execute_result",
          "data": {
            "text/plain": [
              "GridSearchCV(cv=None, error_score=nan,\n",
              "             estimator=Pipeline(memory=None,\n",
              "                                steps=[('scaler',\n",
              "                                        StandardScaler(copy=True,\n",
              "                                                       with_mean=True,\n",
              "                                                       with_std=True)),\n",
              "                                       ('model',\n",
              "                                        KNeighborsClassifier(algorithm='auto',\n",
              "                                                             leaf_size=30,\n",
              "                                                             metric='minkowski',\n",
              "                                                             metric_params=None,\n",
              "                                                             n_jobs=None,\n",
              "                                                             n_neighbors=5, p=2,\n",
              "                                                             weights='uniform'))],\n",
              "                                verbose=False),\n",
              "             iid='deprecated', n_jobs=2,\n",
              "             param_grid=[{'model__algorithm': ['ball_tree', 'kd_tree',\n",
              "                                               ' brute'],\n",
              "                          'model__n_neighbors': [3, 5, 7],\n",
              "                          'model__weights': ['uniform', 'distance']}],\n",
              "             pre_dispatch='2*n_jobs', refit=True, return_train_score=False,\n",
              "             scoring=None, verbose=True)"
            ]
          },
          "metadata": {
            "tags": []
          },
          "execution_count": 42
        }
      ]
    },
    {
      "cell_type": "code",
      "metadata": {
        "id": "OTh_pcWK5jb7",
        "colab": {
          "base_uri": "https://localhost:8080/"
        },
        "outputId": "c19322d9-e2a7-48d0-f644-8805ebf683c9"
      },
      "source": [
        "print('GridSearchCV best score: {}'.format(gs.best_score_))"
      ],
      "execution_count": null,
      "outputs": [
        {
          "output_type": "stream",
          "text": [
            "GridSearchCV best score: 0.9701288619779538\n"
          ],
          "name": "stdout"
        }
      ]
    },
    {
      "cell_type": "code",
      "metadata": {
        "id": "FNcgeKFZ1nrd"
      },
      "source": [
        "tsne = TSNE(n_components=2)\n",
        "X_comp = tsne.fit_transform(X)"
      ],
      "execution_count": null,
      "outputs": []
    },
    {
      "cell_type": "code",
      "metadata": {
        "id": "iQoPlWdh6UpR"
      },
      "source": [
        "cancer_comp_df = pd.DataFrame(data = X_comp)\n",
        "cancer_comp_df['target'] = y"
      ],
      "execution_count": null,
      "outputs": []
    },
    {
      "cell_type": "code",
      "metadata": {
        "id": "A3MhD6Jc6X3Q",
        "colab": {
          "base_uri": "https://localhost:8080/",
          "height": 417
        },
        "outputId": "d2b860e2-206f-4eb3-9b4c-8f109e91f0ae"
      },
      "source": [
        "cancer_comp_df"
      ],
      "execution_count": null,
      "outputs": [
        {
          "output_type": "execute_result",
          "data": {
            "text/html": [
              "<div>\n",
              "<style scoped>\n",
              "    .dataframe tbody tr th:only-of-type {\n",
              "        vertical-align: middle;\n",
              "    }\n",
              "\n",
              "    .dataframe tbody tr th {\n",
              "        vertical-align: top;\n",
              "    }\n",
              "\n",
              "    .dataframe thead th {\n",
              "        text-align: right;\n",
              "    }\n",
              "</style>\n",
              "<table border=\"1\" class=\"dataframe\">\n",
              "  <thead>\n",
              "    <tr style=\"text-align: right;\">\n",
              "      <th></th>\n",
              "      <th>0</th>\n",
              "      <th>1</th>\n",
              "      <th>target</th>\n",
              "    </tr>\n",
              "  </thead>\n",
              "  <tbody>\n",
              "    <tr>\n",
              "      <th>0</th>\n",
              "      <td>-33.195515</td>\n",
              "      <td>-22.801258</td>\n",
              "      <td>0</td>\n",
              "    </tr>\n",
              "    <tr>\n",
              "      <th>1</th>\n",
              "      <td>-30.857653</td>\n",
              "      <td>-21.327475</td>\n",
              "      <td>0</td>\n",
              "    </tr>\n",
              "    <tr>\n",
              "      <th>2</th>\n",
              "      <td>-30.897354</td>\n",
              "      <td>-16.541481</td>\n",
              "      <td>0</td>\n",
              "    </tr>\n",
              "    <tr>\n",
              "      <th>3</th>\n",
              "      <td>23.787672</td>\n",
              "      <td>-7.841697</td>\n",
              "      <td>0</td>\n",
              "    </tr>\n",
              "    <tr>\n",
              "      <th>4</th>\n",
              "      <td>-32.727135</td>\n",
              "      <td>-15.087922</td>\n",
              "      <td>0</td>\n",
              "    </tr>\n",
              "    <tr>\n",
              "      <th>...</th>\n",
              "      <td>...</td>\n",
              "      <td>...</td>\n",
              "      <td>...</td>\n",
              "    </tr>\n",
              "    <tr>\n",
              "      <th>564</th>\n",
              "      <td>-29.644602</td>\n",
              "      <td>-22.451839</td>\n",
              "      <td>0</td>\n",
              "    </tr>\n",
              "    <tr>\n",
              "      <th>565</th>\n",
              "      <td>-31.587837</td>\n",
              "      <td>-17.418982</td>\n",
              "      <td>0</td>\n",
              "    </tr>\n",
              "    <tr>\n",
              "      <th>566</th>\n",
              "      <td>-26.762857</td>\n",
              "      <td>1.218175</td>\n",
              "      <td>0</td>\n",
              "    </tr>\n",
              "    <tr>\n",
              "      <th>567</th>\n",
              "      <td>-31.804253</td>\n",
              "      <td>-19.305058</td>\n",
              "      <td>0</td>\n",
              "    </tr>\n",
              "    <tr>\n",
              "      <th>568</th>\n",
              "      <td>41.690540</td>\n",
              "      <td>22.358370</td>\n",
              "      <td>1</td>\n",
              "    </tr>\n",
              "  </tbody>\n",
              "</table>\n",
              "<p>569 rows × 3 columns</p>\n",
              "</div>"
            ],
            "text/plain": [
              "             0          1  target\n",
              "0   -33.195515 -22.801258       0\n",
              "1   -30.857653 -21.327475       0\n",
              "2   -30.897354 -16.541481       0\n",
              "3    23.787672  -7.841697       0\n",
              "4   -32.727135 -15.087922       0\n",
              "..         ...        ...     ...\n",
              "564 -29.644602 -22.451839       0\n",
              "565 -31.587837 -17.418982       0\n",
              "566 -26.762857   1.218175       0\n",
              "567 -31.804253 -19.305058       0\n",
              "568  41.690540  22.358370       1\n",
              "\n",
              "[569 rows x 3 columns]"
            ]
          },
          "metadata": {
            "tags": []
          },
          "execution_count": 46
        }
      ]
    },
    {
      "cell_type": "code",
      "metadata": {
        "id": "NJVvI3px6ceB",
        "colab": {
          "base_uri": "https://localhost:8080/",
          "height": 265
        },
        "outputId": "9b4f6d13-9af4-4e6c-eedd-9f45d018b146"
      },
      "source": [
        "plt.scatter(X_comp[:, 0], X_comp[:, 1], c =y ,cmap = plt.cm.coolwarm, s = 20, edgecolor = 'k');"
      ],
      "execution_count": null,
      "outputs": [
        {
          "output_type": "display_data",
          "data": {
            "image/png": "[encoded data removed]",
            "text/plain": [
              "<Figure size 432x288 with 1 Axes>"
            ]
          },
          "metadata": {
            "tags": [],
            "needs_background": "light"
          }
        }
      ]
    },
    {
      "cell_type": "code",
      "metadata": {
        "id": "1ws6Nrmo6gGW"
      },
      "source": [
        "model = KNeighborsClassifier()\n",
        "model.fit(X_comp, y)\n",
        "predict = model.predict(X_comp)"
      ],
      "execution_count": null,
      "outputs": []
    },
    {
      "cell_type": "code",
      "metadata": {
        "colab": {
          "base_uri": "https://localhost:8080/",
          "height": 282
        },
        "id": "RhkdX7e9rnwW",
        "outputId": "3f369de7-d078-436d-d0c5-46e7aa5a07b8"
      },
      "source": [
        "xx, yy = make_meshgrid(X_comp[:, 0], X_comp[:, 1])\n",
        "plot_contours(model, xx,yy, cmap = plt.cm.coolwarm, alpha = 0.8)\n",
        "plt.scatter(X_comp[:, 0], X_comp[:, 1],c = y, cmap = plt.cm.coolwarm, s = 20, edgecolors ='k')"
      ],
      "execution_count": null,
      "outputs": [
        {
          "output_type": "execute_result",
          "data": {
            "text/plain": [
              "<matplotlib.collections.PathCollection at 0x7f41efc070d0>"
            ]
          },
          "metadata": {
            "tags": []
          },
          "execution_count": 50
        },
        {
          "output_type": "display_data",
          "data": {
            "image/png": "[encoded data removed]",
            "text/plain": [
              "<Figure size 432x288 with 1 Axes>"
            ]
          },
          "metadata": {
            "tags": [],
            "needs_background": "light"
          }
        }
      ]
    },
    {
      "cell_type": "markdown",
      "metadata": {
        "id": "jlCDgpuWu9kU"
      },
      "source": [
        "# **와인 데이터**"
      ]
    },
    {
      "cell_type": "code",
      "metadata": {
        "id": "4_CzL7stu6OC"
      },
      "source": [
        "wine = load_wine()"
      ],
      "execution_count": null,
      "outputs": []
    },
    {
      "cell_type": "code",
      "metadata": {
        "id": "azpLx1uIu6OD"
      },
      "source": [
        "wine_df = pd.DataFrame(data = wine.data , columns = wine.feature_names)\n",
        "wine_df['Target']=  wine.target"
      ],
      "execution_count": null,
      "outputs": []
    },
    {
      "cell_type": "code",
      "metadata": {
        "colab": {
          "base_uri": "https://localhost:8080/",
          "height": 437
        },
        "id": "hs0hA0Jsu6OD",
        "outputId": "ef8cd363-0506-4e9c-b90c-f535e545260f"
      },
      "source": [
        "wine_df   "
      ],
      "execution_count": null,
      "outputs": [
        {
          "output_type": "execute_result",
          "data": {
            "text/html": [
              "<div>\n",
              "<style scoped>\n",
              "    .dataframe tbody tr th:only-of-type {\n",
              "        vertical-align: middle;\n",
              "    }\n",
              "\n",
              "    .dataframe tbody tr th {\n",
              "        vertical-align: top;\n",
              "    }\n",
              "\n",
              "    .dataframe thead th {\n",
              "        text-align: right;\n",
              "    }\n",
              "</style>\n",
              "<table border=\"1\" class=\"dataframe\">\n",
              "  <thead>\n",
              "    <tr style=\"text-align: right;\">\n",
              "      <th></th>\n",
              "      <th>alcohol</th>\n",
              "      <th>malic_acid</th>\n",
              "      <th>ash</th>\n",
              "      <th>alcalinity_of_ash</th>\n",
              "      <th>magnesium</th>\n",
              "      <th>total_phenols</th>\n",
              "      <th>flavanoids</th>\n",
              "      <th>nonflavanoid_phenols</th>\n",
              "      <th>proanthocyanins</th>\n",
              "      <th>color_intensity</th>\n",
              "      <th>hue</th>\n",
              "      <th>od280/od315_of_diluted_wines</th>\n",
              "      <th>proline</th>\n",
              "      <th>Target</th>\n",
              "    </tr>\n",
              "  </thead>\n",
              "  <tbody>\n",
              "    <tr>\n",
              "      <th>0</th>\n",
              "      <td>14.23</td>\n",
              "      <td>1.71</td>\n",
              "      <td>2.43</td>\n",
              "      <td>15.6</td>\n",
              "      <td>127.0</td>\n",
              "      <td>2.80</td>\n",
              "      <td>3.06</td>\n",
              "      <td>0.28</td>\n",
              "      <td>2.29</td>\n",
              "      <td>5.64</td>\n",
              "      <td>1.04</td>\n",
              "      <td>3.92</td>\n",
              "      <td>1065.0</td>\n",
              "      <td>0</td>\n",
              "    </tr>\n",
              "    <tr>\n",
              "      <th>1</th>\n",
              "      <td>13.20</td>\n",
              "      <td>1.78</td>\n",
              "      <td>2.14</td>\n",
              "      <td>11.2</td>\n",
              "      <td>100.0</td>\n",
              "      <td>2.65</td>\n",
              "      <td>2.76</td>\n",
              "      <td>0.26</td>\n",
              "      <td>1.28</td>\n",
              "      <td>4.38</td>\n",
              "      <td>1.05</td>\n",
              "      <td>3.40</td>\n",
              "      <td>1050.0</td>\n",
              "      <td>0</td>\n",
              "    </tr>\n",
              "    <tr>\n",
              "      <th>2</th>\n",
              "      <td>13.16</td>\n",
              "      <td>2.36</td>\n",
              "      <td>2.67</td>\n",
              "      <td>18.6</td>\n",
              "      <td>101.0</td>\n",
              "      <td>2.80</td>\n",
              "      <td>3.24</td>\n",
              "      <td>0.30</td>\n",
              "      <td>2.81</td>\n",
              "      <td>5.68</td>\n",
              "      <td>1.03</td>\n",
              "      <td>3.17</td>\n",
              "      <td>1185.0</td>\n",
              "      <td>0</td>\n",
              "    </tr>\n",
              "    <tr>\n",
              "      <th>3</th>\n",
              "      <td>14.37</td>\n",
              "      <td>1.95</td>\n",
              "      <td>2.50</td>\n",
              "      <td>16.8</td>\n",
              "      <td>113.0</td>\n",
              "      <td>3.85</td>\n",
              "      <td>3.49</td>\n",
              "      <td>0.24</td>\n",
              "      <td>2.18</td>\n",
              "      <td>7.80</td>\n",
              "      <td>0.86</td>\n",
              "      <td>3.45</td>\n",
              "      <td>1480.0</td>\n",
              "      <td>0</td>\n",
              "    </tr>\n",
              "    <tr>\n",
              "      <th>4</th>\n",
              "      <td>13.24</td>\n",
              "      <td>2.59</td>\n",
              "      <td>2.87</td>\n",
              "      <td>21.0</td>\n",
              "      <td>118.0</td>\n",
              "      <td>2.80</td>\n",
              "      <td>2.69</td>\n",
              "      <td>0.39</td>\n",
              "      <td>1.82</td>\n",
              "      <td>4.32</td>\n",
              "      <td>1.04</td>\n",
              "      <td>2.93</td>\n",
              "      <td>735.0</td>\n",
              "      <td>0</td>\n",
              "    </tr>\n",
              "    <tr>\n",
              "      <th>...</th>\n",
              "      <td>...</td>\n",
              "      <td>...</td>\n",
              "      <td>...</td>\n",
              "      <td>...</td>\n",
              "      <td>...</td>\n",
              "      <td>...</td>\n",
              "      <td>...</td>\n",
              "      <td>...</td>\n",
              "      <td>...</td>\n",
              "      <td>...</td>\n",
              "      <td>...</td>\n",
              "      <td>...</td>\n",
              "      <td>...</td>\n",
              "      <td>...</td>\n",
              "    </tr>\n",
              "    <tr>\n",
              "      <th>173</th>\n",
              "      <td>13.71</td>\n",
              "      <td>5.65</td>\n",
              "      <td>2.45</td>\n",
              "      <td>20.5</td>\n",
              "      <td>95.0</td>\n",
              "      <td>1.68</td>\n",
              "      <td>0.61</td>\n",
              "      <td>0.52</td>\n",
              "      <td>1.06</td>\n",
              "      <td>7.70</td>\n",
              "      <td>0.64</td>\n",
              "      <td>1.74</td>\n",
              "      <td>740.0</td>\n",
              "      <td>2</td>\n",
              "    </tr>\n",
              "    <tr>\n",
              "      <th>174</th>\n",
              "      <td>13.40</td>\n",
              "      <td>3.91</td>\n",
              "      <td>2.48</td>\n",
              "      <td>23.0</td>\n",
              "      <td>102.0</td>\n",
              "      <td>1.80</td>\n",
              "      <td>0.75</td>\n",
              "      <td>0.43</td>\n",
              "      <td>1.41</td>\n",
              "      <td>7.30</td>\n",
              "      <td>0.70</td>\n",
              "      <td>1.56</td>\n",
              "      <td>750.0</td>\n",
              "      <td>2</td>\n",
              "    </tr>\n",
              "    <tr>\n",
              "      <th>175</th>\n",
              "      <td>13.27</td>\n",
              "      <td>4.28</td>\n",
              "      <td>2.26</td>\n",
              "      <td>20.0</td>\n",
              "      <td>120.0</td>\n",
              "      <td>1.59</td>\n",
              "      <td>0.69</td>\n",
              "      <td>0.43</td>\n",
              "      <td>1.35</td>\n",
              "      <td>10.20</td>\n",
              "      <td>0.59</td>\n",
              "      <td>1.56</td>\n",
              "      <td>835.0</td>\n",
              "      <td>2</td>\n",
              "    </tr>\n",
              "    <tr>\n",
              "      <th>176</th>\n",
              "      <td>13.17</td>\n",
              "      <td>2.59</td>\n",
              "      <td>2.37</td>\n",
              "      <td>20.0</td>\n",
              "      <td>120.0</td>\n",
              "      <td>1.65</td>\n",
              "      <td>0.68</td>\n",
              "      <td>0.53</td>\n",
              "      <td>1.46</td>\n",
              "      <td>9.30</td>\n",
              "      <td>0.60</td>\n",
              "      <td>1.62</td>\n",
              "      <td>840.0</td>\n",
              "      <td>2</td>\n",
              "    </tr>\n",
              "    <tr>\n",
              "      <th>177</th>\n",
              "      <td>14.13</td>\n",
              "      <td>4.10</td>\n",
              "      <td>2.74</td>\n",
              "      <td>24.5</td>\n",
              "      <td>96.0</td>\n",
              "      <td>2.05</td>\n",
              "      <td>0.76</td>\n",
              "      <td>0.56</td>\n",
              "      <td>1.35</td>\n",
              "      <td>9.20</td>\n",
              "      <td>0.61</td>\n",
              "      <td>1.60</td>\n",
              "      <td>560.0</td>\n",
              "      <td>2</td>\n",
              "    </tr>\n",
              "  </tbody>\n",
              "</table>\n",
              "<p>178 rows × 14 columns</p>\n",
              "</div>"
            ],
            "text/plain": [
              "     alcohol  malic_acid   ash  ...  od280/od315_of_diluted_wines  proline  Target\n",
              "0      14.23        1.71  2.43  ...                          3.92   1065.0       0\n",
              "1      13.20        1.78  2.14  ...                          3.40   1050.0       0\n",
              "2      13.16        2.36  2.67  ...                          3.17   1185.0       0\n",
              "3      14.37        1.95  2.50  ...                          3.45   1480.0       0\n",
              "4      13.24        2.59  2.87  ...                          2.93    735.0       0\n",
              "..       ...         ...   ...  ...                           ...      ...     ...\n",
              "173    13.71        5.65  2.45  ...                          1.74    740.0       2\n",
              "174    13.40        3.91  2.48  ...                          1.56    750.0       2\n",
              "175    13.27        4.28  2.26  ...                          1.56    835.0       2\n",
              "176    13.17        2.59  2.37  ...                          1.62    840.0       2\n",
              "177    14.13        4.10  2.74  ...                          1.60    560.0       2\n",
              "\n",
              "[178 rows x 14 columns]"
            ]
          },
          "metadata": {
            "tags": []
          },
          "execution_count": 57
        }
      ]
    },
    {
      "cell_type": "code",
      "metadata": {
        "id": "RtZLgwUau6OD"
      },
      "source": [
        "X, y = wine.data , wine.target"
      ],
      "execution_count": null,
      "outputs": []
    },
    {
      "cell_type": "code",
      "metadata": {
        "id": "6JQLwOwlu6OD"
      },
      "source": [
        "X_train, X_test, y_train, y_test = train_test_split(X,y , test_size = 0.2)"
      ],
      "execution_count": null,
      "outputs": []
    },
    {
      "cell_type": "code",
      "metadata": {
        "colab": {
          "base_uri": "https://localhost:8080/",
          "height": 470
        },
        "id": "9sGZ0GlTu6OE",
        "outputId": "098cddfe-9362-43b4-f1c5-05d25b5cb2b2"
      },
      "source": [
        "wine_train_df = pd.DataFrame(data = X_train, columns = wine.feature_names)\n",
        "wine_train_df['target']  = y_train\n",
        "wine_train_df"
      ],
      "execution_count": null,
      "outputs": [
        {
          "output_type": "execute_result",
          "data": {
            "text/html": [
              "<div>\n",
              "<style scoped>\n",
              "    .dataframe tbody tr th:only-of-type {\n",
              "        vertical-align: middle;\n",
              "    }\n",
              "\n",
              "    .dataframe tbody tr th {\n",
              "        vertical-align: top;\n",
              "    }\n",
              "\n",
              "    .dataframe thead th {\n",
              "        text-align: right;\n",
              "    }\n",
              "</style>\n",
              "<table border=\"1\" class=\"dataframe\">\n",
              "  <thead>\n",
              "    <tr style=\"text-align: right;\">\n",
              "      <th></th>\n",
              "      <th>mean radius</th>\n",
              "      <th>mean texture</th>\n",
              "      <th>mean perimeter</th>\n",
              "      <th>mean area</th>\n",
              "      <th>mean smoothness</th>\n",
              "      <th>mean compactness</th>\n",
              "      <th>mean concavity</th>\n",
              "      <th>mean concave points</th>\n",
              "      <th>mean symmetry</th>\n",
              "      <th>mean fractal dimension</th>\n",
              "      <th>radius error</th>\n",
              "      <th>texture error</th>\n",
              "      <th>perimeter error</th>\n",
              "      <th>area error</th>\n",
              "      <th>smoothness error</th>\n",
              "      <th>compactness error</th>\n",
              "      <th>concavity error</th>\n",
              "      <th>concave points error</th>\n",
              "      <th>symmetry error</th>\n",
              "      <th>fractal dimension error</th>\n",
              "      <th>worst radius</th>\n",
              "      <th>worst texture</th>\n",
              "      <th>worst perimeter</th>\n",
              "      <th>worst area</th>\n",
              "      <th>worst smoothness</th>\n",
              "      <th>worst compactness</th>\n",
              "      <th>worst concavity</th>\n",
              "      <th>worst concave points</th>\n",
              "      <th>worst symmetry</th>\n",
              "      <th>worst fractal dimension</th>\n",
              "      <th>target</th>\n",
              "    </tr>\n",
              "  </thead>\n",
              "  <tbody>\n",
              "    <tr>\n",
              "      <th>0</th>\n",
              "      <td>9.738</td>\n",
              "      <td>11.97</td>\n",
              "      <td>61.24</td>\n",
              "      <td>288.5</td>\n",
              "      <td>0.09250</td>\n",
              "      <td>0.04102</td>\n",
              "      <td>0.00000</td>\n",
              "      <td>0.000000</td>\n",
              "      <td>0.1903</td>\n",
              "      <td>0.06422</td>\n",
              "      <td>0.1988</td>\n",
              "      <td>0.4960</td>\n",
              "      <td>1.218</td>\n",
              "      <td>12.260</td>\n",
              "      <td>0.006040</td>\n",
              "      <td>0.005656</td>\n",
              "      <td>0.00000</td>\n",
              "      <td>0.000000</td>\n",
              "      <td>0.02277</td>\n",
              "      <td>0.003220</td>\n",
              "      <td>10.620</td>\n",
              "      <td>14.10</td>\n",
              "      <td>66.53</td>\n",
              "      <td>342.9</td>\n",
              "      <td>0.1234</td>\n",
              "      <td>0.07204</td>\n",
              "      <td>0.0000</td>\n",
              "      <td>0.00000</td>\n",
              "      <td>0.3105</td>\n",
              "      <td>0.08151</td>\n",
              "      <td>1</td>\n",
              "    </tr>\n",
              "    <tr>\n",
              "      <th>1</th>\n",
              "      <td>12.540</td>\n",
              "      <td>16.32</td>\n",
              "      <td>81.25</td>\n",
              "      <td>476.3</td>\n",
              "      <td>0.11580</td>\n",
              "      <td>0.10850</td>\n",
              "      <td>0.05928</td>\n",
              "      <td>0.032790</td>\n",
              "      <td>0.1943</td>\n",
              "      <td>0.06612</td>\n",
              "      <td>0.2577</td>\n",
              "      <td>1.0950</td>\n",
              "      <td>1.566</td>\n",
              "      <td>18.490</td>\n",
              "      <td>0.009702</td>\n",
              "      <td>0.015670</td>\n",
              "      <td>0.02575</td>\n",
              "      <td>0.011610</td>\n",
              "      <td>0.02801</td>\n",
              "      <td>0.002480</td>\n",
              "      <td>13.570</td>\n",
              "      <td>21.40</td>\n",
              "      <td>86.67</td>\n",
              "      <td>552.0</td>\n",
              "      <td>0.1580</td>\n",
              "      <td>0.17510</td>\n",
              "      <td>0.1889</td>\n",
              "      <td>0.08411</td>\n",
              "      <td>0.3155</td>\n",
              "      <td>0.07538</td>\n",
              "      <td>1</td>\n",
              "    </tr>\n",
              "    <tr>\n",
              "      <th>2</th>\n",
              "      <td>8.618</td>\n",
              "      <td>11.79</td>\n",
              "      <td>54.34</td>\n",
              "      <td>224.5</td>\n",
              "      <td>0.09752</td>\n",
              "      <td>0.05272</td>\n",
              "      <td>0.02061</td>\n",
              "      <td>0.007799</td>\n",
              "      <td>0.1683</td>\n",
              "      <td>0.07187</td>\n",
              "      <td>0.1559</td>\n",
              "      <td>0.5796</td>\n",
              "      <td>1.046</td>\n",
              "      <td>8.322</td>\n",
              "      <td>0.010110</td>\n",
              "      <td>0.010550</td>\n",
              "      <td>0.01981</td>\n",
              "      <td>0.005742</td>\n",
              "      <td>0.02090</td>\n",
              "      <td>0.002788</td>\n",
              "      <td>9.507</td>\n",
              "      <td>15.40</td>\n",
              "      <td>59.90</td>\n",
              "      <td>274.9</td>\n",
              "      <td>0.1733</td>\n",
              "      <td>0.12390</td>\n",
              "      <td>0.1168</td>\n",
              "      <td>0.04419</td>\n",
              "      <td>0.3220</td>\n",
              "      <td>0.09026</td>\n",
              "      <td>1</td>\n",
              "    </tr>\n",
              "    <tr>\n",
              "      <th>3</th>\n",
              "      <td>18.250</td>\n",
              "      <td>19.98</td>\n",
              "      <td>119.60</td>\n",
              "      <td>1040.0</td>\n",
              "      <td>0.09463</td>\n",
              "      <td>0.10900</td>\n",
              "      <td>0.11270</td>\n",
              "      <td>0.074000</td>\n",
              "      <td>0.1794</td>\n",
              "      <td>0.05742</td>\n",
              "      <td>0.4467</td>\n",
              "      <td>0.7732</td>\n",
              "      <td>3.180</td>\n",
              "      <td>53.910</td>\n",
              "      <td>0.004314</td>\n",
              "      <td>0.013820</td>\n",
              "      <td>0.02254</td>\n",
              "      <td>0.010390</td>\n",
              "      <td>0.01369</td>\n",
              "      <td>0.002179</td>\n",
              "      <td>22.880</td>\n",
              "      <td>27.66</td>\n",
              "      <td>153.20</td>\n",
              "      <td>1606.0</td>\n",
              "      <td>0.1442</td>\n",
              "      <td>0.25760</td>\n",
              "      <td>0.3784</td>\n",
              "      <td>0.19320</td>\n",
              "      <td>0.3063</td>\n",
              "      <td>0.08368</td>\n",
              "      <td>0</td>\n",
              "    </tr>\n",
              "    <tr>\n",
              "      <th>4</th>\n",
              "      <td>8.671</td>\n",
              "      <td>14.45</td>\n",
              "      <td>54.42</td>\n",
              "      <td>227.2</td>\n",
              "      <td>0.09138</td>\n",
              "      <td>0.04276</td>\n",
              "      <td>0.00000</td>\n",
              "      <td>0.000000</td>\n",
              "      <td>0.1722</td>\n",
              "      <td>0.06724</td>\n",
              "      <td>0.2204</td>\n",
              "      <td>0.7873</td>\n",
              "      <td>1.435</td>\n",
              "      <td>11.360</td>\n",
              "      <td>0.009172</td>\n",
              "      <td>0.008007</td>\n",
              "      <td>0.00000</td>\n",
              "      <td>0.000000</td>\n",
              "      <td>0.02711</td>\n",
              "      <td>0.003399</td>\n",
              "      <td>9.262</td>\n",
              "      <td>17.04</td>\n",
              "      <td>58.36</td>\n",
              "      <td>259.2</td>\n",
              "      <td>0.1162</td>\n",
              "      <td>0.07057</td>\n",
              "      <td>0.0000</td>\n",
              "      <td>0.00000</td>\n",
              "      <td>0.2592</td>\n",
              "      <td>0.07848</td>\n",
              "      <td>1</td>\n",
              "    </tr>\n",
              "    <tr>\n",
              "      <th>...</th>\n",
              "      <td>...</td>\n",
              "      <td>...</td>\n",
              "      <td>...</td>\n",
              "      <td>...</td>\n",
              "      <td>...</td>\n",
              "      <td>...</td>\n",
              "      <td>...</td>\n",
              "      <td>...</td>\n",
              "      <td>...</td>\n",
              "      <td>...</td>\n",
              "      <td>...</td>\n",
              "      <td>...</td>\n",
              "      <td>...</td>\n",
              "      <td>...</td>\n",
              "      <td>...</td>\n",
              "      <td>...</td>\n",
              "      <td>...</td>\n",
              "      <td>...</td>\n",
              "      <td>...</td>\n",
              "      <td>...</td>\n",
              "      <td>...</td>\n",
              "      <td>...</td>\n",
              "      <td>...</td>\n",
              "      <td>...</td>\n",
              "      <td>...</td>\n",
              "      <td>...</td>\n",
              "      <td>...</td>\n",
              "      <td>...</td>\n",
              "      <td>...</td>\n",
              "      <td>...</td>\n",
              "      <td>...</td>\n",
              "    </tr>\n",
              "    <tr>\n",
              "      <th>450</th>\n",
              "      <td>12.910</td>\n",
              "      <td>16.33</td>\n",
              "      <td>82.53</td>\n",
              "      <td>516.4</td>\n",
              "      <td>0.07941</td>\n",
              "      <td>0.05366</td>\n",
              "      <td>0.03873</td>\n",
              "      <td>0.023770</td>\n",
              "      <td>0.1829</td>\n",
              "      <td>0.05667</td>\n",
              "      <td>0.1942</td>\n",
              "      <td>0.9086</td>\n",
              "      <td>1.493</td>\n",
              "      <td>15.750</td>\n",
              "      <td>0.005298</td>\n",
              "      <td>0.015870</td>\n",
              "      <td>0.02321</td>\n",
              "      <td>0.008420</td>\n",
              "      <td>0.01853</td>\n",
              "      <td>0.002152</td>\n",
              "      <td>13.880</td>\n",
              "      <td>22.00</td>\n",
              "      <td>90.81</td>\n",
              "      <td>600.6</td>\n",
              "      <td>0.1097</td>\n",
              "      <td>0.15060</td>\n",
              "      <td>0.1764</td>\n",
              "      <td>0.08235</td>\n",
              "      <td>0.3024</td>\n",
              "      <td>0.06949</td>\n",
              "      <td>1</td>\n",
              "    </tr>\n",
              "    <tr>\n",
              "      <th>451</th>\n",
              "      <td>17.190</td>\n",
              "      <td>22.07</td>\n",
              "      <td>111.60</td>\n",
              "      <td>928.3</td>\n",
              "      <td>0.09726</td>\n",
              "      <td>0.08995</td>\n",
              "      <td>0.09061</td>\n",
              "      <td>0.065270</td>\n",
              "      <td>0.1867</td>\n",
              "      <td>0.05580</td>\n",
              "      <td>0.4203</td>\n",
              "      <td>0.7383</td>\n",
              "      <td>2.819</td>\n",
              "      <td>45.420</td>\n",
              "      <td>0.004493</td>\n",
              "      <td>0.012060</td>\n",
              "      <td>0.02048</td>\n",
              "      <td>0.009875</td>\n",
              "      <td>0.01144</td>\n",
              "      <td>0.001575</td>\n",
              "      <td>21.580</td>\n",
              "      <td>29.33</td>\n",
              "      <td>140.50</td>\n",
              "      <td>1436.0</td>\n",
              "      <td>0.1558</td>\n",
              "      <td>0.25670</td>\n",
              "      <td>0.3889</td>\n",
              "      <td>0.19840</td>\n",
              "      <td>0.3216</td>\n",
              "      <td>0.07570</td>\n",
              "      <td>0</td>\n",
              "    </tr>\n",
              "    <tr>\n",
              "      <th>452</th>\n",
              "      <td>11.710</td>\n",
              "      <td>17.19</td>\n",
              "      <td>74.68</td>\n",
              "      <td>420.3</td>\n",
              "      <td>0.09774</td>\n",
              "      <td>0.06141</td>\n",
              "      <td>0.03809</td>\n",
              "      <td>0.032390</td>\n",
              "      <td>0.1516</td>\n",
              "      <td>0.06095</td>\n",
              "      <td>0.2451</td>\n",
              "      <td>0.7655</td>\n",
              "      <td>1.742</td>\n",
              "      <td>17.860</td>\n",
              "      <td>0.006905</td>\n",
              "      <td>0.008704</td>\n",
              "      <td>0.01978</td>\n",
              "      <td>0.011850</td>\n",
              "      <td>0.01897</td>\n",
              "      <td>0.001671</td>\n",
              "      <td>13.010</td>\n",
              "      <td>21.39</td>\n",
              "      <td>84.42</td>\n",
              "      <td>521.5</td>\n",
              "      <td>0.1323</td>\n",
              "      <td>0.10400</td>\n",
              "      <td>0.1521</td>\n",
              "      <td>0.10990</td>\n",
              "      <td>0.2572</td>\n",
              "      <td>0.07097</td>\n",
              "      <td>1</td>\n",
              "    </tr>\n",
              "    <tr>\n",
              "      <th>453</th>\n",
              "      <td>17.270</td>\n",
              "      <td>25.42</td>\n",
              "      <td>112.40</td>\n",
              "      <td>928.8</td>\n",
              "      <td>0.08331</td>\n",
              "      <td>0.11090</td>\n",
              "      <td>0.12040</td>\n",
              "      <td>0.057360</td>\n",
              "      <td>0.1467</td>\n",
              "      <td>0.05407</td>\n",
              "      <td>0.5100</td>\n",
              "      <td>1.6790</td>\n",
              "      <td>3.283</td>\n",
              "      <td>58.380</td>\n",
              "      <td>0.008109</td>\n",
              "      <td>0.043080</td>\n",
              "      <td>0.04942</td>\n",
              "      <td>0.017420</td>\n",
              "      <td>0.01594</td>\n",
              "      <td>0.003739</td>\n",
              "      <td>20.380</td>\n",
              "      <td>35.46</td>\n",
              "      <td>132.80</td>\n",
              "      <td>1284.0</td>\n",
              "      <td>0.1436</td>\n",
              "      <td>0.41220</td>\n",
              "      <td>0.5036</td>\n",
              "      <td>0.17390</td>\n",
              "      <td>0.2500</td>\n",
              "      <td>0.07944</td>\n",
              "      <td>0</td>\n",
              "    </tr>\n",
              "    <tr>\n",
              "      <th>454</th>\n",
              "      <td>11.290</td>\n",
              "      <td>13.04</td>\n",
              "      <td>72.23</td>\n",
              "      <td>388.0</td>\n",
              "      <td>0.09834</td>\n",
              "      <td>0.07608</td>\n",
              "      <td>0.03265</td>\n",
              "      <td>0.027550</td>\n",
              "      <td>0.1769</td>\n",
              "      <td>0.06270</td>\n",
              "      <td>0.1904</td>\n",
              "      <td>0.5293</td>\n",
              "      <td>1.164</td>\n",
              "      <td>13.170</td>\n",
              "      <td>0.006472</td>\n",
              "      <td>0.011220</td>\n",
              "      <td>0.01282</td>\n",
              "      <td>0.008849</td>\n",
              "      <td>0.01692</td>\n",
              "      <td>0.002817</td>\n",
              "      <td>12.320</td>\n",
              "      <td>16.18</td>\n",
              "      <td>78.27</td>\n",
              "      <td>457.5</td>\n",
              "      <td>0.1358</td>\n",
              "      <td>0.15070</td>\n",
              "      <td>0.1275</td>\n",
              "      <td>0.08750</td>\n",
              "      <td>0.2733</td>\n",
              "      <td>0.08022</td>\n",
              "      <td>1</td>\n",
              "    </tr>\n",
              "  </tbody>\n",
              "</table>\n",
              "<p>455 rows × 31 columns</p>\n",
              "</div>"
            ],
            "text/plain": [
              "     mean radius  mean texture  ...  worst fractal dimension  target\n",
              "0          9.738         11.97  ...                  0.08151       1\n",
              "1         12.540         16.32  ...                  0.07538       1\n",
              "2          8.618         11.79  ...                  0.09026       1\n",
              "3         18.250         19.98  ...                  0.08368       0\n",
              "4          8.671         14.45  ...                  0.07848       1\n",
              "..           ...           ...  ...                      ...     ...\n",
              "450       12.910         16.33  ...                  0.06949       1\n",
              "451       17.190         22.07  ...                  0.07570       0\n",
              "452       11.710         17.19  ...                  0.07097       1\n",
              "453       17.270         25.42  ...                  0.07944       0\n",
              "454       11.290         13.04  ...                  0.08022       1\n",
              "\n",
              "[455 rows x 31 columns]"
            ]
          },
          "metadata": {
            "tags": []
          },
          "execution_count": 29
        }
      ]
    },
    {
      "cell_type": "code",
      "metadata": {
        "colab": {
          "base_uri": "https://localhost:8080/",
          "height": 1000
        },
        "collapsed": true,
        "id": "NEB2BeUHu6OE",
        "outputId": "403e6581-a1f0-4874-9f9f-dca00178f8ca"
      },
      "source": [
        "wine_test_df = pd.DataFrame(data = X_test, columns = wine.feature_names)\n",
        "wine_test_df['target']  = y_test\n",
        "wine_test_df"
      ],
      "execution_count": null,
      "outputs": [
        {
          "output_type": "execute_result",
          "data": {
            "text/html": [
              "<div>\n",
              "<style scoped>\n",
              "    .dataframe tbody tr th:only-of-type {\n",
              "        vertical-align: middle;\n",
              "    }\n",
              "\n",
              "    .dataframe tbody tr th {\n",
              "        vertical-align: top;\n",
              "    }\n",
              "\n",
              "    .dataframe thead th {\n",
              "        text-align: right;\n",
              "    }\n",
              "</style>\n",
              "<table border=\"1\" class=\"dataframe\">\n",
              "  <thead>\n",
              "    <tr style=\"text-align: right;\">\n",
              "      <th></th>\n",
              "      <th>alcohol</th>\n",
              "      <th>malic_acid</th>\n",
              "      <th>ash</th>\n",
              "      <th>alcalinity_of_ash</th>\n",
              "      <th>magnesium</th>\n",
              "      <th>total_phenols</th>\n",
              "      <th>flavanoids</th>\n",
              "      <th>nonflavanoid_phenols</th>\n",
              "      <th>proanthocyanins</th>\n",
              "      <th>color_intensity</th>\n",
              "      <th>hue</th>\n",
              "      <th>od280/od315_of_diluted_wines</th>\n",
              "      <th>proline</th>\n",
              "      <th>target</th>\n",
              "    </tr>\n",
              "  </thead>\n",
              "  <tbody>\n",
              "    <tr>\n",
              "      <th>0</th>\n",
              "      <td>13.71</td>\n",
              "      <td>5.65</td>\n",
              "      <td>2.45</td>\n",
              "      <td>20.5</td>\n",
              "      <td>95.0</td>\n",
              "      <td>1.68</td>\n",
              "      <td>0.61</td>\n",
              "      <td>0.52</td>\n",
              "      <td>1.06</td>\n",
              "      <td>7.70</td>\n",
              "      <td>0.64</td>\n",
              "      <td>1.74</td>\n",
              "      <td>740.0</td>\n",
              "      <td>2</td>\n",
              "    </tr>\n",
              "    <tr>\n",
              "      <th>1</th>\n",
              "      <td>13.39</td>\n",
              "      <td>1.77</td>\n",
              "      <td>2.62</td>\n",
              "      <td>16.1</td>\n",
              "      <td>93.0</td>\n",
              "      <td>2.85</td>\n",
              "      <td>2.94</td>\n",
              "      <td>0.34</td>\n",
              "      <td>1.45</td>\n",
              "      <td>4.80</td>\n",
              "      <td>0.92</td>\n",
              "      <td>3.22</td>\n",
              "      <td>1195.0</td>\n",
              "      <td>0</td>\n",
              "    </tr>\n",
              "    <tr>\n",
              "      <th>2</th>\n",
              "      <td>11.87</td>\n",
              "      <td>4.31</td>\n",
              "      <td>2.39</td>\n",
              "      <td>21.0</td>\n",
              "      <td>82.0</td>\n",
              "      <td>2.86</td>\n",
              "      <td>3.03</td>\n",
              "      <td>0.21</td>\n",
              "      <td>2.91</td>\n",
              "      <td>2.80</td>\n",
              "      <td>0.75</td>\n",
              "      <td>3.64</td>\n",
              "      <td>380.0</td>\n",
              "      <td>1</td>\n",
              "    </tr>\n",
              "    <tr>\n",
              "      <th>3</th>\n",
              "      <td>13.49</td>\n",
              "      <td>3.59</td>\n",
              "      <td>2.19</td>\n",
              "      <td>19.5</td>\n",
              "      <td>88.0</td>\n",
              "      <td>1.62</td>\n",
              "      <td>0.48</td>\n",
              "      <td>0.58</td>\n",
              "      <td>0.88</td>\n",
              "      <td>5.70</td>\n",
              "      <td>0.81</td>\n",
              "      <td>1.82</td>\n",
              "      <td>580.0</td>\n",
              "      <td>2</td>\n",
              "    </tr>\n",
              "    <tr>\n",
              "      <th>4</th>\n",
              "      <td>13.32</td>\n",
              "      <td>3.24</td>\n",
              "      <td>2.38</td>\n",
              "      <td>21.5</td>\n",
              "      <td>92.0</td>\n",
              "      <td>1.93</td>\n",
              "      <td>0.76</td>\n",
              "      <td>0.45</td>\n",
              "      <td>1.25</td>\n",
              "      <td>8.42</td>\n",
              "      <td>0.55</td>\n",
              "      <td>1.62</td>\n",
              "      <td>650.0</td>\n",
              "      <td>2</td>\n",
              "    </tr>\n",
              "    <tr>\n",
              "      <th>5</th>\n",
              "      <td>13.05</td>\n",
              "      <td>3.86</td>\n",
              "      <td>2.32</td>\n",
              "      <td>22.5</td>\n",
              "      <td>85.0</td>\n",
              "      <td>1.65</td>\n",
              "      <td>1.59</td>\n",
              "      <td>0.61</td>\n",
              "      <td>1.62</td>\n",
              "      <td>4.80</td>\n",
              "      <td>0.84</td>\n",
              "      <td>2.01</td>\n",
              "      <td>515.0</td>\n",
              "      <td>1</td>\n",
              "    </tr>\n",
              "    <tr>\n",
              "      <th>6</th>\n",
              "      <td>12.42</td>\n",
              "      <td>2.55</td>\n",
              "      <td>2.27</td>\n",
              "      <td>22.0</td>\n",
              "      <td>90.0</td>\n",
              "      <td>1.68</td>\n",
              "      <td>1.84</td>\n",
              "      <td>0.66</td>\n",
              "      <td>1.42</td>\n",
              "      <td>2.70</td>\n",
              "      <td>0.86</td>\n",
              "      <td>3.30</td>\n",
              "      <td>315.0</td>\n",
              "      <td>1</td>\n",
              "    </tr>\n",
              "    <tr>\n",
              "      <th>7</th>\n",
              "      <td>14.38</td>\n",
              "      <td>3.59</td>\n",
              "      <td>2.28</td>\n",
              "      <td>16.0</td>\n",
              "      <td>102.0</td>\n",
              "      <td>3.25</td>\n",
              "      <td>3.17</td>\n",
              "      <td>0.27</td>\n",
              "      <td>2.19</td>\n",
              "      <td>4.90</td>\n",
              "      <td>1.04</td>\n",
              "      <td>3.44</td>\n",
              "      <td>1065.0</td>\n",
              "      <td>0</td>\n",
              "    </tr>\n",
              "    <tr>\n",
              "      <th>8</th>\n",
              "      <td>13.45</td>\n",
              "      <td>3.70</td>\n",
              "      <td>2.60</td>\n",
              "      <td>23.0</td>\n",
              "      <td>111.0</td>\n",
              "      <td>1.70</td>\n",
              "      <td>0.92</td>\n",
              "      <td>0.43</td>\n",
              "      <td>1.46</td>\n",
              "      <td>10.68</td>\n",
              "      <td>0.85</td>\n",
              "      <td>1.56</td>\n",
              "      <td>695.0</td>\n",
              "      <td>2</td>\n",
              "    </tr>\n",
              "    <tr>\n",
              "      <th>9</th>\n",
              "      <td>13.41</td>\n",
              "      <td>3.84</td>\n",
              "      <td>2.12</td>\n",
              "      <td>18.8</td>\n",
              "      <td>90.0</td>\n",
              "      <td>2.45</td>\n",
              "      <td>2.68</td>\n",
              "      <td>0.27</td>\n",
              "      <td>1.48</td>\n",
              "      <td>4.28</td>\n",
              "      <td>0.91</td>\n",
              "      <td>3.00</td>\n",
              "      <td>1035.0</td>\n",
              "      <td>0</td>\n",
              "    </tr>\n",
              "    <tr>\n",
              "      <th>10</th>\n",
              "      <td>12.37</td>\n",
              "      <td>0.94</td>\n",
              "      <td>1.36</td>\n",
              "      <td>10.6</td>\n",
              "      <td>88.0</td>\n",
              "      <td>1.98</td>\n",
              "      <td>0.57</td>\n",
              "      <td>0.28</td>\n",
              "      <td>0.42</td>\n",
              "      <td>1.95</td>\n",
              "      <td>1.05</td>\n",
              "      <td>1.82</td>\n",
              "      <td>520.0</td>\n",
              "      <td>1</td>\n",
              "    </tr>\n",
              "    <tr>\n",
              "      <th>11</th>\n",
              "      <td>14.38</td>\n",
              "      <td>1.87</td>\n",
              "      <td>2.38</td>\n",
              "      <td>12.0</td>\n",
              "      <td>102.0</td>\n",
              "      <td>3.30</td>\n",
              "      <td>3.64</td>\n",
              "      <td>0.29</td>\n",
              "      <td>2.96</td>\n",
              "      <td>7.50</td>\n",
              "      <td>1.20</td>\n",
              "      <td>3.00</td>\n",
              "      <td>1547.0</td>\n",
              "      <td>0</td>\n",
              "    </tr>\n",
              "    <tr>\n",
              "      <th>12</th>\n",
              "      <td>12.37</td>\n",
              "      <td>1.13</td>\n",
              "      <td>2.16</td>\n",
              "      <td>19.0</td>\n",
              "      <td>87.0</td>\n",
              "      <td>3.50</td>\n",
              "      <td>3.10</td>\n",
              "      <td>0.19</td>\n",
              "      <td>1.87</td>\n",
              "      <td>4.45</td>\n",
              "      <td>1.22</td>\n",
              "      <td>2.87</td>\n",
              "      <td>420.0</td>\n",
              "      <td>1</td>\n",
              "    </tr>\n",
              "    <tr>\n",
              "      <th>13</th>\n",
              "      <td>12.45</td>\n",
              "      <td>3.03</td>\n",
              "      <td>2.64</td>\n",
              "      <td>27.0</td>\n",
              "      <td>97.0</td>\n",
              "      <td>1.90</td>\n",
              "      <td>0.58</td>\n",
              "      <td>0.63</td>\n",
              "      <td>1.14</td>\n",
              "      <td>7.50</td>\n",
              "      <td>0.67</td>\n",
              "      <td>1.73</td>\n",
              "      <td>880.0</td>\n",
              "      <td>2</td>\n",
              "    </tr>\n",
              "    <tr>\n",
              "      <th>14</th>\n",
              "      <td>12.52</td>\n",
              "      <td>2.43</td>\n",
              "      <td>2.17</td>\n",
              "      <td>21.0</td>\n",
              "      <td>88.0</td>\n",
              "      <td>2.55</td>\n",
              "      <td>2.27</td>\n",
              "      <td>0.26</td>\n",
              "      <td>1.22</td>\n",
              "      <td>2.00</td>\n",
              "      <td>0.90</td>\n",
              "      <td>2.78</td>\n",
              "      <td>325.0</td>\n",
              "      <td>1</td>\n",
              "    </tr>\n",
              "    <tr>\n",
              "      <th>15</th>\n",
              "      <td>13.05</td>\n",
              "      <td>2.05</td>\n",
              "      <td>3.22</td>\n",
              "      <td>25.0</td>\n",
              "      <td>124.0</td>\n",
              "      <td>2.63</td>\n",
              "      <td>2.68</td>\n",
              "      <td>0.47</td>\n",
              "      <td>1.92</td>\n",
              "      <td>3.58</td>\n",
              "      <td>1.13</td>\n",
              "      <td>3.20</td>\n",
              "      <td>830.0</td>\n",
              "      <td>0</td>\n",
              "    </tr>\n",
              "    <tr>\n",
              "      <th>16</th>\n",
              "      <td>11.65</td>\n",
              "      <td>1.67</td>\n",
              "      <td>2.62</td>\n",
              "      <td>26.0</td>\n",
              "      <td>88.0</td>\n",
              "      <td>1.92</td>\n",
              "      <td>1.61</td>\n",
              "      <td>0.40</td>\n",
              "      <td>1.34</td>\n",
              "      <td>2.60</td>\n",
              "      <td>1.36</td>\n",
              "      <td>3.21</td>\n",
              "      <td>562.0</td>\n",
              "      <td>1</td>\n",
              "    </tr>\n",
              "    <tr>\n",
              "      <th>17</th>\n",
              "      <td>13.82</td>\n",
              "      <td>1.75</td>\n",
              "      <td>2.42</td>\n",
              "      <td>14.0</td>\n",
              "      <td>111.0</td>\n",
              "      <td>3.88</td>\n",
              "      <td>3.74</td>\n",
              "      <td>0.32</td>\n",
              "      <td>1.87</td>\n",
              "      <td>7.05</td>\n",
              "      <td>1.01</td>\n",
              "      <td>3.26</td>\n",
              "      <td>1190.0</td>\n",
              "      <td>0</td>\n",
              "    </tr>\n",
              "    <tr>\n",
              "      <th>18</th>\n",
              "      <td>14.02</td>\n",
              "      <td>1.68</td>\n",
              "      <td>2.21</td>\n",
              "      <td>16.0</td>\n",
              "      <td>96.0</td>\n",
              "      <td>2.65</td>\n",
              "      <td>2.33</td>\n",
              "      <td>0.26</td>\n",
              "      <td>1.98</td>\n",
              "      <td>4.70</td>\n",
              "      <td>1.04</td>\n",
              "      <td>3.59</td>\n",
              "      <td>1035.0</td>\n",
              "      <td>0</td>\n",
              "    </tr>\n",
              "    <tr>\n",
              "      <th>19</th>\n",
              "      <td>13.40</td>\n",
              "      <td>3.91</td>\n",
              "      <td>2.48</td>\n",
              "      <td>23.0</td>\n",
              "      <td>102.0</td>\n",
              "      <td>1.80</td>\n",
              "      <td>0.75</td>\n",
              "      <td>0.43</td>\n",
              "      <td>1.41</td>\n",
              "      <td>7.30</td>\n",
              "      <td>0.70</td>\n",
              "      <td>1.56</td>\n",
              "      <td>750.0</td>\n",
              "      <td>2</td>\n",
              "    </tr>\n",
              "    <tr>\n",
              "      <th>20</th>\n",
              "      <td>13.69</td>\n",
              "      <td>3.26</td>\n",
              "      <td>2.54</td>\n",
              "      <td>20.0</td>\n",
              "      <td>107.0</td>\n",
              "      <td>1.83</td>\n",
              "      <td>0.56</td>\n",
              "      <td>0.50</td>\n",
              "      <td>0.80</td>\n",
              "      <td>5.88</td>\n",
              "      <td>0.96</td>\n",
              "      <td>1.82</td>\n",
              "      <td>680.0</td>\n",
              "      <td>2</td>\n",
              "    </tr>\n",
              "    <tr>\n",
              "      <th>21</th>\n",
              "      <td>12.67</td>\n",
              "      <td>0.98</td>\n",
              "      <td>2.24</td>\n",
              "      <td>18.0</td>\n",
              "      <td>99.0</td>\n",
              "      <td>2.20</td>\n",
              "      <td>1.94</td>\n",
              "      <td>0.30</td>\n",
              "      <td>1.46</td>\n",
              "      <td>2.62</td>\n",
              "      <td>1.23</td>\n",
              "      <td>3.16</td>\n",
              "      <td>450.0</td>\n",
              "      <td>1</td>\n",
              "    </tr>\n",
              "    <tr>\n",
              "      <th>22</th>\n",
              "      <td>11.82</td>\n",
              "      <td>1.47</td>\n",
              "      <td>1.99</td>\n",
              "      <td>20.8</td>\n",
              "      <td>86.0</td>\n",
              "      <td>1.98</td>\n",
              "      <td>1.60</td>\n",
              "      <td>0.30</td>\n",
              "      <td>1.53</td>\n",
              "      <td>1.95</td>\n",
              "      <td>0.95</td>\n",
              "      <td>3.33</td>\n",
              "      <td>495.0</td>\n",
              "      <td>1</td>\n",
              "    </tr>\n",
              "    <tr>\n",
              "      <th>23</th>\n",
              "      <td>13.11</td>\n",
              "      <td>1.01</td>\n",
              "      <td>1.70</td>\n",
              "      <td>15.0</td>\n",
              "      <td>78.0</td>\n",
              "      <td>2.98</td>\n",
              "      <td>3.18</td>\n",
              "      <td>0.26</td>\n",
              "      <td>2.28</td>\n",
              "      <td>5.30</td>\n",
              "      <td>1.12</td>\n",
              "      <td>3.18</td>\n",
              "      <td>502.0</td>\n",
              "      <td>1</td>\n",
              "    </tr>\n",
              "    <tr>\n",
              "      <th>24</th>\n",
              "      <td>12.29</td>\n",
              "      <td>1.41</td>\n",
              "      <td>1.98</td>\n",
              "      <td>16.0</td>\n",
              "      <td>85.0</td>\n",
              "      <td>2.55</td>\n",
              "      <td>2.50</td>\n",
              "      <td>0.29</td>\n",
              "      <td>1.77</td>\n",
              "      <td>2.90</td>\n",
              "      <td>1.23</td>\n",
              "      <td>2.74</td>\n",
              "      <td>428.0</td>\n",
              "      <td>1</td>\n",
              "    </tr>\n",
              "    <tr>\n",
              "      <th>25</th>\n",
              "      <td>11.46</td>\n",
              "      <td>3.74</td>\n",
              "      <td>1.82</td>\n",
              "      <td>19.5</td>\n",
              "      <td>107.0</td>\n",
              "      <td>3.18</td>\n",
              "      <td>2.58</td>\n",
              "      <td>0.24</td>\n",
              "      <td>3.58</td>\n",
              "      <td>2.90</td>\n",
              "      <td>0.75</td>\n",
              "      <td>2.81</td>\n",
              "      <td>562.0</td>\n",
              "      <td>1</td>\n",
              "    </tr>\n",
              "    <tr>\n",
              "      <th>26</th>\n",
              "      <td>12.99</td>\n",
              "      <td>1.67</td>\n",
              "      <td>2.60</td>\n",
              "      <td>30.0</td>\n",
              "      <td>139.0</td>\n",
              "      <td>3.30</td>\n",
              "      <td>2.89</td>\n",
              "      <td>0.21</td>\n",
              "      <td>1.96</td>\n",
              "      <td>3.35</td>\n",
              "      <td>1.31</td>\n",
              "      <td>3.50</td>\n",
              "      <td>985.0</td>\n",
              "      <td>1</td>\n",
              "    </tr>\n",
              "    <tr>\n",
              "      <th>27</th>\n",
              "      <td>12.08</td>\n",
              "      <td>1.83</td>\n",
              "      <td>2.32</td>\n",
              "      <td>18.5</td>\n",
              "      <td>81.0</td>\n",
              "      <td>1.60</td>\n",
              "      <td>1.50</td>\n",
              "      <td>0.52</td>\n",
              "      <td>1.64</td>\n",
              "      <td>2.40</td>\n",
              "      <td>1.08</td>\n",
              "      <td>2.27</td>\n",
              "      <td>480.0</td>\n",
              "      <td>1</td>\n",
              "    </tr>\n",
              "    <tr>\n",
              "      <th>28</th>\n",
              "      <td>12.20</td>\n",
              "      <td>3.03</td>\n",
              "      <td>2.32</td>\n",
              "      <td>19.0</td>\n",
              "      <td>96.0</td>\n",
              "      <td>1.25</td>\n",
              "      <td>0.49</td>\n",
              "      <td>0.40</td>\n",
              "      <td>0.73</td>\n",
              "      <td>5.50</td>\n",
              "      <td>0.66</td>\n",
              "      <td>1.83</td>\n",
              "      <td>510.0</td>\n",
              "      <td>2</td>\n",
              "    </tr>\n",
              "    <tr>\n",
              "      <th>29</th>\n",
              "      <td>13.52</td>\n",
              "      <td>3.17</td>\n",
              "      <td>2.72</td>\n",
              "      <td>23.5</td>\n",
              "      <td>97.0</td>\n",
              "      <td>1.55</td>\n",
              "      <td>0.52</td>\n",
              "      <td>0.50</td>\n",
              "      <td>0.55</td>\n",
              "      <td>4.35</td>\n",
              "      <td>0.89</td>\n",
              "      <td>2.06</td>\n",
              "      <td>520.0</td>\n",
              "      <td>2</td>\n",
              "    </tr>\n",
              "    <tr>\n",
              "      <th>30</th>\n",
              "      <td>12.93</td>\n",
              "      <td>2.81</td>\n",
              "      <td>2.70</td>\n",
              "      <td>21.0</td>\n",
              "      <td>96.0</td>\n",
              "      <td>1.54</td>\n",
              "      <td>0.50</td>\n",
              "      <td>0.53</td>\n",
              "      <td>0.75</td>\n",
              "      <td>4.60</td>\n",
              "      <td>0.77</td>\n",
              "      <td>2.31</td>\n",
              "      <td>600.0</td>\n",
              "      <td>2</td>\n",
              "    </tr>\n",
              "    <tr>\n",
              "      <th>31</th>\n",
              "      <td>12.70</td>\n",
              "      <td>3.87</td>\n",
              "      <td>2.40</td>\n",
              "      <td>23.0</td>\n",
              "      <td>101.0</td>\n",
              "      <td>2.83</td>\n",
              "      <td>2.55</td>\n",
              "      <td>0.43</td>\n",
              "      <td>1.95</td>\n",
              "      <td>2.57</td>\n",
              "      <td>1.19</td>\n",
              "      <td>3.13</td>\n",
              "      <td>463.0</td>\n",
              "      <td>1</td>\n",
              "    </tr>\n",
              "    <tr>\n",
              "      <th>32</th>\n",
              "      <td>12.08</td>\n",
              "      <td>1.33</td>\n",
              "      <td>2.30</td>\n",
              "      <td>23.6</td>\n",
              "      <td>70.0</td>\n",
              "      <td>2.20</td>\n",
              "      <td>1.59</td>\n",
              "      <td>0.42</td>\n",
              "      <td>1.38</td>\n",
              "      <td>1.74</td>\n",
              "      <td>1.07</td>\n",
              "      <td>3.21</td>\n",
              "      <td>625.0</td>\n",
              "      <td>1</td>\n",
              "    </tr>\n",
              "    <tr>\n",
              "      <th>33</th>\n",
              "      <td>12.42</td>\n",
              "      <td>1.61</td>\n",
              "      <td>2.19</td>\n",
              "      <td>22.5</td>\n",
              "      <td>108.0</td>\n",
              "      <td>2.00</td>\n",
              "      <td>2.09</td>\n",
              "      <td>0.34</td>\n",
              "      <td>1.61</td>\n",
              "      <td>2.06</td>\n",
              "      <td>1.06</td>\n",
              "      <td>2.96</td>\n",
              "      <td>345.0</td>\n",
              "      <td>1</td>\n",
              "    </tr>\n",
              "    <tr>\n",
              "      <th>34</th>\n",
              "      <td>12.08</td>\n",
              "      <td>1.13</td>\n",
              "      <td>2.51</td>\n",
              "      <td>24.0</td>\n",
              "      <td>78.0</td>\n",
              "      <td>2.00</td>\n",
              "      <td>1.58</td>\n",
              "      <td>0.40</td>\n",
              "      <td>1.40</td>\n",
              "      <td>2.20</td>\n",
              "      <td>1.31</td>\n",
              "      <td>2.72</td>\n",
              "      <td>630.0</td>\n",
              "      <td>1</td>\n",
              "    </tr>\n",
              "    <tr>\n",
              "      <th>35</th>\n",
              "      <td>12.00</td>\n",
              "      <td>0.92</td>\n",
              "      <td>2.00</td>\n",
              "      <td>19.0</td>\n",
              "      <td>86.0</td>\n",
              "      <td>2.42</td>\n",
              "      <td>2.26</td>\n",
              "      <td>0.30</td>\n",
              "      <td>1.43</td>\n",
              "      <td>2.50</td>\n",
              "      <td>1.38</td>\n",
              "      <td>3.12</td>\n",
              "      <td>278.0</td>\n",
              "      <td>1</td>\n",
              "    </tr>\n",
              "  </tbody>\n",
              "</table>\n",
              "</div>"
            ],
            "text/plain": [
              "    alcohol  malic_acid   ash  ...  od280/od315_of_diluted_wines  proline  target\n",
              "0     13.71        5.65  2.45  ...                          1.74    740.0       2\n",
              "1     13.39        1.77  2.62  ...                          3.22   1195.0       0\n",
              "2     11.87        4.31  2.39  ...                          3.64    380.0       1\n",
              "3     13.49        3.59  2.19  ...                          1.82    580.0       2\n",
              "4     13.32        3.24  2.38  ...                          1.62    650.0       2\n",
              "5     13.05        3.86  2.32  ...                          2.01    515.0       1\n",
              "6     12.42        2.55  2.27  ...                          3.30    315.0       1\n",
              "7     14.38        3.59  2.28  ...                          3.44   1065.0       0\n",
              "8     13.45        3.70  2.60  ...                          1.56    695.0       2\n",
              "9     13.41        3.84  2.12  ...                          3.00   1035.0       0\n",
              "10    12.37        0.94  1.36  ...                          1.82    520.0       1\n",
              "11    14.38        1.87  2.38  ...                          3.00   1547.0       0\n",
              "12    12.37        1.13  2.16  ...                          2.87    420.0       1\n",
              "13    12.45        3.03  2.64  ...                          1.73    880.0       2\n",
              "14    12.52        2.43  2.17  ...                          2.78    325.0       1\n",
              "15    13.05        2.05  3.22  ...                          3.20    830.0       0\n",
              "16    11.65        1.67  2.62  ...                          3.21    562.0       1\n",
              "17    13.82        1.75  2.42  ...                          3.26   1190.0       0\n",
              "18    14.02        1.68  2.21  ...                          3.59   1035.0       0\n",
              "19    13.40        3.91  2.48  ...                          1.56    750.0       2\n",
              "20    13.69        3.26  2.54  ...                          1.82    680.0       2\n",
              "21    12.67        0.98  2.24  ...                          3.16    450.0       1\n",
              "22    11.82        1.47  1.99  ...                          3.33    495.0       1\n",
              "23    13.11        1.01  1.70  ...                          3.18    502.0       1\n",
              "24    12.29        1.41  1.98  ...                          2.74    428.0       1\n",
              "25    11.46        3.74  1.82  ...                          2.81    562.0       1\n",
              "26    12.99        1.67  2.60  ...                          3.50    985.0       1\n",
              "27    12.08        1.83  2.32  ...                          2.27    480.0       1\n",
              "28    12.20        3.03  2.32  ...                          1.83    510.0       2\n",
              "29    13.52        3.17  2.72  ...                          2.06    520.0       2\n",
              "30    12.93        2.81  2.70  ...                          2.31    600.0       2\n",
              "31    12.70        3.87  2.40  ...                          3.13    463.0       1\n",
              "32    12.08        1.33  2.30  ...                          3.21    625.0       1\n",
              "33    12.42        1.61  2.19  ...                          2.96    345.0       1\n",
              "34    12.08        1.13  2.51  ...                          2.72    630.0       1\n",
              "35    12.00        0.92  2.00  ...                          3.12    278.0       1\n",
              "\n",
              "[36 rows x 14 columns]"
            ]
          },
          "metadata": {
            "tags": []
          },
          "execution_count": 60
        }
      ]
    },
    {
      "cell_type": "code",
      "metadata": {
        "id": "6sw59gaAu6OF"
      },
      "source": [
        "scaler = StandardScaler()\n",
        "X_train_scaled = scaler.fit_transform(X_train)\n",
        "X_test_scaled = scaler.transform(X_test)"
      ],
      "execution_count": null,
      "outputs": []
    },
    {
      "cell_type": "code",
      "metadata": {
        "colab": {
          "base_uri": "https://localhost:8080/"
        },
        "id": "bwfOSdEou6OF",
        "outputId": "73f59bf9-0e9c-4486-8c1b-5db3b807fda0"
      },
      "source": [
        "model = KNeighborsClassifier()\n",
        "model.fit(X_train, y_train)"
      ],
      "execution_count": null,
      "outputs": [
        {
          "output_type": "execute_result",
          "data": {
            "text/plain": [
              "KNeighborsClassifier(algorithm='auto', leaf_size=30, metric='minkowski',\n",
              "                     metric_params=None, n_jobs=None, n_neighbors=5, p=2,\n",
              "                     weights='uniform')"
            ]
          },
          "metadata": {
            "tags": []
          },
          "execution_count": 63
        }
      ]
    },
    {
      "cell_type": "code",
      "metadata": {
        "colab": {
          "base_uri": "https://localhost:8080/"
        },
        "id": "JqhEn1giu6OF",
        "outputId": "f2eddfc3-4f78-43cc-c7e1-da3bf2570a77"
      },
      "source": [
        "print('학습 데이터 점수: {}'.format(model.score(X_train,y_train)))\n",
        "print('평가 데이터 점수: {}'.format(model.score(X_test,y_test)))"
      ],
      "execution_count": null,
      "outputs": [
        {
          "output_type": "stream",
          "text": [
            "학습 데이터 점수: 0.7746478873239436\n",
            "평가 데이터 점수: 0.6666666666666666\n"
          ],
          "name": "stdout"
        }
      ]
    },
    {
      "cell_type": "code",
      "metadata": {
        "colab": {
          "base_uri": "https://localhost:8080/"
        },
        "id": "NJHcfvERu6OG",
        "outputId": "52702f2f-8735-4a5a-a37f-606770aaa150"
      },
      "source": [
        "model.fit(X_train_scaled, y_train)"
      ],
      "execution_count": null,
      "outputs": [
        {
          "output_type": "execute_result",
          "data": {
            "text/plain": [
              "KNeighborsClassifier(algorithm='auto', leaf_size=30, metric='minkowski',\n",
              "                     metric_params=None, n_jobs=None, n_neighbors=5, p=2,\n",
              "                     weights='uniform')"
            ]
          },
          "metadata": {
            "tags": []
          },
          "execution_count": 65
        }
      ]
    },
    {
      "cell_type": "code",
      "metadata": {
        "colab": {
          "base_uri": "https://localhost:8080/"
        },
        "id": "dGIBnqLVu6OG",
        "outputId": "7248ba30-5753-4365-8196-4fe95b305d3d"
      },
      "source": [
        "print('학습 데이터 점수: {}'.format(model.score(X_train_scaled,y_train)))\n",
        "print('평가 데이터 점수: {}'.format(model.score(X_test_scaled,y_test)))"
      ],
      "execution_count": null,
      "outputs": [
        {
          "output_type": "stream",
          "text": [
            "학습 데이터 점수: 0.9859154929577465\n",
            "평가 데이터 점수: 0.9444444444444444\n"
          ],
          "name": "stdout"
        }
      ]
    },
    {
      "cell_type": "code",
      "metadata": {
        "id": "XyzgDgy8u6OG"
      },
      "source": [
        "estimator = make_pipeline(\n",
        "    StandardScaler(),\n",
        "    KNeighborsClassifier()\n",
        ")"
      ],
      "execution_count": null,
      "outputs": []
    },
    {
      "cell_type": "code",
      "metadata": {
        "colab": {
          "base_uri": "https://localhost:8080/"
        },
        "id": "LfPN3HGZu6OH",
        "outputId": "716d10c6-c199-49c4-ba71-d88642afd5d1"
      },
      "source": [
        "cross_validate(\n",
        "    estimator = estimator,\n",
        "    X= X, y= y,\n",
        "    cv = 5,\n",
        "    n_jobs = multiprocessing.cpu_count(),\n",
        "    verbose= True\n",
        ")"
      ],
      "execution_count": null,
      "outputs": [
        {
          "output_type": "stream",
          "text": [
            "[Parallel(n_jobs=2)]: Using backend LokyBackend with 2 concurrent workers.\n",
            "[Parallel(n_jobs=2)]: Done   5 out of   5 | elapsed:    0.9s finished\n"
          ],
          "name": "stderr"
        },
        {
          "output_type": "execute_result",
          "data": {
            "text/plain": [
              "{'fit_time': array([0.0029819 , 0.00199485, 0.00212884, 0.00208735, 0.00207281]),\n",
              " 'score_time': array([0.00384498, 0.00237489, 0.00403666, 0.00346518, 0.0034709 ]),\n",
              " 'test_score': array([0.94444444, 0.94444444, 0.97222222, 1.        , 0.88571429])}"
            ]
          },
          "metadata": {
            "tags": []
          },
          "execution_count": 68
        }
      ]
    },
    {
      "cell_type": "code",
      "metadata": {
        "id": "dQyggT_Au6OH"
      },
      "source": [
        "pipe = Pipeline(\n",
        "    [('scaler', StandardScaler()),\n",
        "     ('model', KNeighborsClassifier())]\n",
        ")"
      ],
      "execution_count": null,
      "outputs": []
    },
    {
      "cell_type": "code",
      "metadata": {
        "id": "DjWGaM92u6OH"
      },
      "source": [
        "pipe2 = make_pipeline(\n",
        "    StandardScaler(),\n",
        "    KNeighborsClassifier()\n",
        ")"
      ],
      "execution_count": null,
      "outputs": []
    },
    {
      "cell_type": "code",
      "metadata": {
        "id": "tO60VXElu6OH"
      },
      "source": [
        "param_grid = [{'model__n_neighbors': [3,5,7],\n",
        "               'model__weights': ['uniform', 'distance'],\n",
        "               'model__algorithm': ['ball_tree', 'kd_tree',' brute']}]"
      ],
      "execution_count": null,
      "outputs": []
    },
    {
      "cell_type": "code",
      "metadata": {
        "id": "uwakk-ztxdK7"
      },
      "source": [
        "param_grid2 = {'n_neighbors': [3,5,7],\n",
        "               'weights': ['uniform', 'distance'],\n",
        "               'algorithm': ['ball_tree', 'kd_tree',' brute']}"
      ],
      "execution_count": null,
      "outputs": []
    },
    {
      "cell_type": "code",
      "metadata": {
        "id": "buYkeqqLu6OH"
      },
      "source": [
        "gs = GridSearchCV(\n",
        "    estimator = pipe,\n",
        "    param_grid = param_grid,\n",
        "    n_jobs = multiprocessing.cpu_count(),\n",
        "    verbose = True\n",
        ")"
      ],
      "execution_count": null,
      "outputs": []
    },
    {
      "cell_type": "code",
      "metadata": {
        "colab": {
          "base_uri": "https://localhost:8080/"
        },
        "id": "lDn1pgW5u6OH",
        "outputId": "77bbea77-f860-4a29-8e47-a4044d67748f"
      },
      "source": [
        "gs.fit(X,y)"
      ],
      "execution_count": null,
      "outputs": [
        {
          "output_type": "stream",
          "text": [
            "Fitting 5 folds for each of 18 candidates, totalling 90 fits\n"
          ],
          "name": "stdout"
        },
        {
          "output_type": "stream",
          "text": [
            "[Parallel(n_jobs=2)]: Using backend LokyBackend with 2 concurrent workers.\n",
            "[Parallel(n_jobs=2)]: Done  90 out of  90 | elapsed:    1.1s finished\n"
          ],
          "name": "stderr"
        },
        {
          "output_type": "execute_result",
          "data": {
            "text/plain": [
              "GridSearchCV(cv=None, error_score=nan,\n",
              "             estimator=Pipeline(memory=None,\n",
              "                                steps=[('scaler',\n",
              "                                        StandardScaler(copy=True,\n",
              "                                                       with_mean=True,\n",
              "                                                       with_std=True)),\n",
              "                                       ('model',\n",
              "                                        KNeighborsClassifier(algorithm='auto',\n",
              "                                                             leaf_size=30,\n",
              "                                                             metric='minkowski',\n",
              "                                                             metric_params=None,\n",
              "                                                             n_jobs=None,\n",
              "                                                             n_neighbors=5, p=2,\n",
              "                                                             weights='uniform'))],\n",
              "                                verbose=False),\n",
              "             iid='deprecated', n_jobs=2,\n",
              "             param_grid=[{'model__algorithm': ['ball_tree', 'kd_tree',\n",
              "                                               ' brute'],\n",
              "                          'model__n_neighbors': [3, 5, 7],\n",
              "                          'model__weights': ['uniform', 'distance']}],\n",
              "             pre_dispatch='2*n_jobs', refit=True, return_train_score=False,\n",
              "             scoring=None, verbose=True)"
            ]
          },
          "metadata": {
            "tags": []
          },
          "execution_count": 98
        }
      ]
    },
    {
      "cell_type": "code",
      "metadata": {
        "colab": {
          "base_uri": "https://localhost:8080/"
        },
        "id": "VvaS2JS5xQ4z",
        "outputId": "33ea0b27-92cd-426c-b1dd-b1ab8711e009"
      },
      "source": [
        "gs.best_estimator_"
      ],
      "execution_count": null,
      "outputs": [
        {
          "output_type": "execute_result",
          "data": {
            "text/plain": [
              "Pipeline(memory=None,\n",
              "         steps=[('scaler',\n",
              "                 StandardScaler(copy=True, with_mean=True, with_std=True)),\n",
              "                ('model',\n",
              "                 KNeighborsClassifier(algorithm='ball_tree', leaf_size=30,\n",
              "                                      metric='minkowski', metric_params=None,\n",
              "                                      n_jobs=None, n_neighbors=7, p=2,\n",
              "                                      weights='uniform'))],\n",
              "         verbose=False)"
            ]
          },
          "metadata": {
            "tags": []
          },
          "execution_count": 86
        }
      ]
    },
    {
      "cell_type": "code",
      "metadata": {
        "colab": {
          "base_uri": "https://localhost:8080/"
        },
        "id": "yfBO1GXmu6OH",
        "outputId": "e520c8f4-532f-4dd5-905b-c8e4e14213c3"
      },
      "source": [
        "print('GridSearchCV best score: {}'.format(gs.best_score_))"
      ],
      "execution_count": null,
      "outputs": [
        {
          "output_type": "stream",
          "text": [
            "GridSearchCV best score: 0.9665079365079364\n"
          ],
          "name": "stdout"
        }
      ]
    },
    {
      "cell_type": "code",
      "metadata": {
        "id": "Rb9yI-4Au6OH"
      },
      "source": [
        "tsne = TSNE(n_components=2)\n",
        "X_comp = tsne.fit_transform(X)"
      ],
      "execution_count": null,
      "outputs": []
    },
    {
      "cell_type": "code",
      "metadata": {
        "id": "N4IZnvRBu6OI"
      },
      "source": [
        "wine_comp_df = pd.DataFrame(data = X_comp)\n",
        "wine_comp_df['target'] = y"
      ],
      "execution_count": null,
      "outputs": []
    },
    {
      "cell_type": "code",
      "metadata": {
        "colab": {
          "base_uri": "https://localhost:8080/",
          "height": 417
        },
        "id": "BNar292Lu6OI",
        "outputId": "0c8f4d57-e4ee-4159-b7e7-233d58fcc4c3"
      },
      "source": [
        "wine_comp_df"
      ],
      "execution_count": null,
      "outputs": [
        {
          "output_type": "execute_result",
          "data": {
            "text/html": [
              "<div>\n",
              "<style scoped>\n",
              "    .dataframe tbody tr th:only-of-type {\n",
              "        vertical-align: middle;\n",
              "    }\n",
              "\n",
              "    .dataframe tbody tr th {\n",
              "        vertical-align: top;\n",
              "    }\n",
              "\n",
              "    .dataframe thead th {\n",
              "        text-align: right;\n",
              "    }\n",
              "</style>\n",
              "<table border=\"1\" class=\"dataframe\">\n",
              "  <thead>\n",
              "    <tr style=\"text-align: right;\">\n",
              "      <th></th>\n",
              "      <th>0</th>\n",
              "      <th>1</th>\n",
              "      <th>target</th>\n",
              "    </tr>\n",
              "  </thead>\n",
              "  <tbody>\n",
              "    <tr>\n",
              "      <th>0</th>\n",
              "      <td>8.561275</td>\n",
              "      <td>-7.224578</td>\n",
              "      <td>0</td>\n",
              "    </tr>\n",
              "    <tr>\n",
              "      <th>1</th>\n",
              "      <td>7.866157</td>\n",
              "      <td>-7.553763</td>\n",
              "      <td>0</td>\n",
              "    </tr>\n",
              "    <tr>\n",
              "      <th>2</th>\n",
              "      <td>10.133144</td>\n",
              "      <td>-8.802083</td>\n",
              "      <td>0</td>\n",
              "    </tr>\n",
              "    <tr>\n",
              "      <th>3</th>\n",
              "      <td>12.580465</td>\n",
              "      <td>-10.324155</td>\n",
              "      <td>0</td>\n",
              "    </tr>\n",
              "    <tr>\n",
              "      <th>4</th>\n",
              "      <td>1.455803</td>\n",
              "      <td>-2.201658</td>\n",
              "      <td>0</td>\n",
              "    </tr>\n",
              "    <tr>\n",
              "      <th>...</th>\n",
              "      <td>...</td>\n",
              "      <td>...</td>\n",
              "      <td>...</td>\n",
              "    </tr>\n",
              "    <tr>\n",
              "      <th>173</th>\n",
              "      <td>1.721552</td>\n",
              "      <td>-1.862438</td>\n",
              "      <td>2</td>\n",
              "    </tr>\n",
              "    <tr>\n",
              "      <th>174</th>\n",
              "      <td>2.012697</td>\n",
              "      <td>-2.180604</td>\n",
              "      <td>2</td>\n",
              "    </tr>\n",
              "    <tr>\n",
              "      <th>175</th>\n",
              "      <td>3.895034</td>\n",
              "      <td>-3.969045</td>\n",
              "      <td>2</td>\n",
              "    </tr>\n",
              "    <tr>\n",
              "      <th>176</th>\n",
              "      <td>3.932693</td>\n",
              "      <td>-4.191133</td>\n",
              "      <td>2</td>\n",
              "    </tr>\n",
              "    <tr>\n",
              "      <th>177</th>\n",
              "      <td>-5.145647</td>\n",
              "      <td>4.234982</td>\n",
              "      <td>2</td>\n",
              "    </tr>\n",
              "  </tbody>\n",
              "</table>\n",
              "<p>178 rows × 3 columns</p>\n",
              "</div>"
            ],
            "text/plain": [
              "             0          1  target\n",
              "0     8.561275  -7.224578       0\n",
              "1     7.866157  -7.553763       0\n",
              "2    10.133144  -8.802083       0\n",
              "3    12.580465 -10.324155       0\n",
              "4     1.455803  -2.201658       0\n",
              "..         ...        ...     ...\n",
              "173   1.721552  -1.862438       2\n",
              "174   2.012697  -2.180604       2\n",
              "175   3.895034  -3.969045       2\n",
              "176   3.932693  -4.191133       2\n",
              "177  -5.145647   4.234982       2\n",
              "\n",
              "[178 rows x 3 columns]"
            ]
          },
          "metadata": {
            "tags": []
          },
          "execution_count": 101
        }
      ]
    },
    {
      "cell_type": "code",
      "metadata": {
        "colab": {
          "base_uri": "https://localhost:8080/",
          "height": 265
        },
        "id": "nJUMr1x5u6OI",
        "outputId": "4b7a2151-5d28-4486-8787-ad31347f77e8"
      },
      "source": [
        "plt.scatter(X_comp[:, 0], X_comp[:, 1], c =y ,cmap = plt.cm.coolwarm, s = 20, edgecolor = 'k');"
      ],
      "execution_count": null,
      "outputs": [
        {
          "output_type": "display_data",
          "data": {
            "image/png": "[encoded data removed]",
            "text/plain": [
              "<Figure size 432x288 with 1 Axes>"
            ]
          },
          "metadata": {
            "tags": [],
            "needs_background": "light"
          }
        }
      ]
    },
    {
      "cell_type": "code",
      "metadata": {
        "id": "8LYgnEgPvEMd"
      },
      "source": [
        "model = KNeighborsClassifier()\n",
        "model.fit(X_comp, y)\n",
        "predict = model.predict(X_comp)"
      ],
      "execution_count": null,
      "outputs": []
    },
    {
      "cell_type": "code",
      "metadata": {
        "colab": {
          "base_uri": "https://localhost:8080/",
          "height": 282
        },
        "id": "VD99FBKzvEMd",
        "outputId": "0aa01e4c-e4d4-4399-dd0b-30faa4e8a2b9"
      },
      "source": [
        "xx, yy = make_meshgrid(X_comp[:, 0], X_comp[:, 1])\n",
        "plot_contours(model, xx,yy, cmap = plt.cm.coolwarm, alpha = 0.8)\n",
        "plt.scatter(X_comp[:, 0], X_comp[:, 1],c = y, cmap = plt.cm.coolwarm, s = 20, edgecolors ='k')"
      ],
      "execution_count": null,
      "outputs": [
        {
          "output_type": "execute_result",
          "data": {
            "text/plain": [
              "<matplotlib.collections.PathCollection at 0x7f41ef931b50>"
            ]
          },
          "metadata": {
            "tags": []
          },
          "execution_count": 104
        },
        {
          "output_type": "display_data",
          "data": {
            "image/png": "[encoded data removed]",
            "text/plain": [
              "<Figure size 432x288 with 1 Axes>"
            ]
          },
          "metadata": {
            "tags": [],
            "needs_background": "light"
          }
        }
      ]
    },
    {
      "cell_type": "markdown",
      "metadata": {
        "id": "YE7NMnwI7QGz"
      },
      "source": [
        "## k 최근접 이웃 회귀\n",
        "\n",
        "* k 최근접 이웃 분류와 마찬가지로 예측에 이웃 데이터 포인트 사용\n",
        "* 이웃 데이터 포인트의 평균이 예측 결과"
      ]
    },
    {
      "cell_type": "markdown",
      "metadata": {
        "id": "L5pfum_T7WZ5"
      },
      "source": [
        "### 보스턴 주택 가격 데이터"
      ]
    },
    {
      "cell_type": "code",
      "metadata": {
        "id": "Cyx9kp2q8iMe"
      },
      "source": [
        "boston = load_boston()"
      ],
      "execution_count": null,
      "outputs": []
    },
    {
      "cell_type": "code",
      "metadata": {
        "id": "izbZUMVS8lnN",
        "colab": {
          "base_uri": "https://localhost:8080/",
          "height": 417
        },
        "outputId": "920e20ca-fff1-4393-d54c-34109f86a78d"
      },
      "source": [
        "boston_df = pd.DataFrame(data = boston.data , columns = boston.feature_names)\n",
        "boston_df['TARGET'] = boston.target\n",
        "boston_df"
      ],
      "execution_count": null,
      "outputs": [
        {
          "output_type": "execute_result",
          "data": {
            "text/html": [
              "<div>\n",
              "<style scoped>\n",
              "    .dataframe tbody tr th:only-of-type {\n",
              "        vertical-align: middle;\n",
              "    }\n",
              "\n",
              "    .dataframe tbody tr th {\n",
              "        vertical-align: top;\n",
              "    }\n",
              "\n",
              "    .dataframe thead th {\n",
              "        text-align: right;\n",
              "    }\n",
              "</style>\n",
              "<table border=\"1\" class=\"dataframe\">\n",
              "  <thead>\n",
              "    <tr style=\"text-align: right;\">\n",
              "      <th></th>\n",
              "      <th>CRIM</th>\n",
              "      <th>ZN</th>\n",
              "      <th>INDUS</th>\n",
              "      <th>CHAS</th>\n",
              "      <th>NOX</th>\n",
              "      <th>RM</th>\n",
              "      <th>AGE</th>\n",
              "      <th>DIS</th>\n",
              "      <th>RAD</th>\n",
              "      <th>TAX</th>\n",
              "      <th>PTRATIO</th>\n",
              "      <th>B</th>\n",
              "      <th>LSTAT</th>\n",
              "      <th>TARGET</th>\n",
              "    </tr>\n",
              "  </thead>\n",
              "  <tbody>\n",
              "    <tr>\n",
              "      <th>0</th>\n",
              "      <td>0.00632</td>\n",
              "      <td>18.0</td>\n",
              "      <td>2.31</td>\n",
              "      <td>0.0</td>\n",
              "      <td>0.538</td>\n",
              "      <td>6.575</td>\n",
              "      <td>65.2</td>\n",
              "      <td>4.0900</td>\n",
              "      <td>1.0</td>\n",
              "      <td>296.0</td>\n",
              "      <td>15.3</td>\n",
              "      <td>396.90</td>\n",
              "      <td>4.98</td>\n",
              "      <td>24.0</td>\n",
              "    </tr>\n",
              "    <tr>\n",
              "      <th>1</th>\n",
              "      <td>0.02731</td>\n",
              "      <td>0.0</td>\n",
              "      <td>7.07</td>\n",
              "      <td>0.0</td>\n",
              "      <td>0.469</td>\n",
              "      <td>6.421</td>\n",
              "      <td>78.9</td>\n",
              "      <td>4.9671</td>\n",
              "      <td>2.0</td>\n",
              "      <td>242.0</td>\n",
              "      <td>17.8</td>\n",
              "      <td>396.90</td>\n",
              "      <td>9.14</td>\n",
              "      <td>21.6</td>\n",
              "    </tr>\n",
              "    <tr>\n",
              "      <th>2</th>\n",
              "      <td>0.02729</td>\n",
              "      <td>0.0</td>\n",
              "      <td>7.07</td>\n",
              "      <td>0.0</td>\n",
              "      <td>0.469</td>\n",
              "      <td>7.185</td>\n",
              "      <td>61.1</td>\n",
              "      <td>4.9671</td>\n",
              "      <td>2.0</td>\n",
              "      <td>242.0</td>\n",
              "      <td>17.8</td>\n",
              "      <td>392.83</td>\n",
              "      <td>4.03</td>\n",
              "      <td>34.7</td>\n",
              "    </tr>\n",
              "    <tr>\n",
              "      <th>3</th>\n",
              "      <td>0.03237</td>\n",
              "      <td>0.0</td>\n",
              "      <td>2.18</td>\n",
              "      <td>0.0</td>\n",
              "      <td>0.458</td>\n",
              "      <td>6.998</td>\n",
              "      <td>45.8</td>\n",
              "      <td>6.0622</td>\n",
              "      <td>3.0</td>\n",
              "      <td>222.0</td>\n",
              "      <td>18.7</td>\n",
              "      <td>394.63</td>\n",
              "      <td>2.94</td>\n",
              "      <td>33.4</td>\n",
              "    </tr>\n",
              "    <tr>\n",
              "      <th>4</th>\n",
              "      <td>0.06905</td>\n",
              "      <td>0.0</td>\n",
              "      <td>2.18</td>\n",
              "      <td>0.0</td>\n",
              "      <td>0.458</td>\n",
              "      <td>7.147</td>\n",
              "      <td>54.2</td>\n",
              "      <td>6.0622</td>\n",
              "      <td>3.0</td>\n",
              "      <td>222.0</td>\n",
              "      <td>18.7</td>\n",
              "      <td>396.90</td>\n",
              "      <td>5.33</td>\n",
              "      <td>36.2</td>\n",
              "    </tr>\n",
              "    <tr>\n",
              "      <th>...</th>\n",
              "      <td>...</td>\n",
              "      <td>...</td>\n",
              "      <td>...</td>\n",
              "      <td>...</td>\n",
              "      <td>...</td>\n",
              "      <td>...</td>\n",
              "      <td>...</td>\n",
              "      <td>...</td>\n",
              "      <td>...</td>\n",
              "      <td>...</td>\n",
              "      <td>...</td>\n",
              "      <td>...</td>\n",
              "      <td>...</td>\n",
              "      <td>...</td>\n",
              "    </tr>\n",
              "    <tr>\n",
              "      <th>501</th>\n",
              "      <td>0.06263</td>\n",
              "      <td>0.0</td>\n",
              "      <td>11.93</td>\n",
              "      <td>0.0</td>\n",
              "      <td>0.573</td>\n",
              "      <td>6.593</td>\n",
              "      <td>69.1</td>\n",
              "      <td>2.4786</td>\n",
              "      <td>1.0</td>\n",
              "      <td>273.0</td>\n",
              "      <td>21.0</td>\n",
              "      <td>391.99</td>\n",
              "      <td>9.67</td>\n",
              "      <td>22.4</td>\n",
              "    </tr>\n",
              "    <tr>\n",
              "      <th>502</th>\n",
              "      <td>0.04527</td>\n",
              "      <td>0.0</td>\n",
              "      <td>11.93</td>\n",
              "      <td>0.0</td>\n",
              "      <td>0.573</td>\n",
              "      <td>6.120</td>\n",
              "      <td>76.7</td>\n",
              "      <td>2.2875</td>\n",
              "      <td>1.0</td>\n",
              "      <td>273.0</td>\n",
              "      <td>21.0</td>\n",
              "      <td>396.90</td>\n",
              "      <td>9.08</td>\n",
              "      <td>20.6</td>\n",
              "    </tr>\n",
              "    <tr>\n",
              "      <th>503</th>\n",
              "      <td>0.06076</td>\n",
              "      <td>0.0</td>\n",
              "      <td>11.93</td>\n",
              "      <td>0.0</td>\n",
              "      <td>0.573</td>\n",
              "      <td>6.976</td>\n",
              "      <td>91.0</td>\n",
              "      <td>2.1675</td>\n",
              "      <td>1.0</td>\n",
              "      <td>273.0</td>\n",
              "      <td>21.0</td>\n",
              "      <td>396.90</td>\n",
              "      <td>5.64</td>\n",
              "      <td>23.9</td>\n",
              "    </tr>\n",
              "    <tr>\n",
              "      <th>504</th>\n",
              "      <td>0.10959</td>\n",
              "      <td>0.0</td>\n",
              "      <td>11.93</td>\n",
              "      <td>0.0</td>\n",
              "      <td>0.573</td>\n",
              "      <td>6.794</td>\n",
              "      <td>89.3</td>\n",
              "      <td>2.3889</td>\n",
              "      <td>1.0</td>\n",
              "      <td>273.0</td>\n",
              "      <td>21.0</td>\n",
              "      <td>393.45</td>\n",
              "      <td>6.48</td>\n",
              "      <td>22.0</td>\n",
              "    </tr>\n",
              "    <tr>\n",
              "      <th>505</th>\n",
              "      <td>0.04741</td>\n",
              "      <td>0.0</td>\n",
              "      <td>11.93</td>\n",
              "      <td>0.0</td>\n",
              "      <td>0.573</td>\n",
              "      <td>6.030</td>\n",
              "      <td>80.8</td>\n",
              "      <td>2.5050</td>\n",
              "      <td>1.0</td>\n",
              "      <td>273.0</td>\n",
              "      <td>21.0</td>\n",
              "      <td>396.90</td>\n",
              "      <td>7.88</td>\n",
              "      <td>11.9</td>\n",
              "    </tr>\n",
              "  </tbody>\n",
              "</table>\n",
              "<p>506 rows × 14 columns</p>\n",
              "</div>"
            ],
            "text/plain": [
              "        CRIM    ZN  INDUS  CHAS    NOX  ...    TAX  PTRATIO       B  LSTAT  TARGET\n",
              "0    0.00632  18.0   2.31   0.0  0.538  ...  296.0     15.3  396.90   4.98    24.0\n",
              "1    0.02731   0.0   7.07   0.0  0.469  ...  242.0     17.8  396.90   9.14    21.6\n",
              "2    0.02729   0.0   7.07   0.0  0.469  ...  242.0     17.8  392.83   4.03    34.7\n",
              "3    0.03237   0.0   2.18   0.0  0.458  ...  222.0     18.7  394.63   2.94    33.4\n",
              "4    0.06905   0.0   2.18   0.0  0.458  ...  222.0     18.7  396.90   5.33    36.2\n",
              "..       ...   ...    ...   ...    ...  ...    ...      ...     ...    ...     ...\n",
              "501  0.06263   0.0  11.93   0.0  0.573  ...  273.0     21.0  391.99   9.67    22.4\n",
              "502  0.04527   0.0  11.93   0.0  0.573  ...  273.0     21.0  396.90   9.08    20.6\n",
              "503  0.06076   0.0  11.93   0.0  0.573  ...  273.0     21.0  396.90   5.64    23.9\n",
              "504  0.10959   0.0  11.93   0.0  0.573  ...  273.0     21.0  393.45   6.48    22.0\n",
              "505  0.04741   0.0  11.93   0.0  0.573  ...  273.0     21.0  396.90   7.88    11.9\n",
              "\n",
              "[506 rows x 14 columns]"
            ]
          },
          "metadata": {
            "tags": []
          },
          "execution_count": 107
        }
      ]
    },
    {
      "cell_type": "code",
      "metadata": {
        "id": "iHws6emj81kp"
      },
      "source": [
        "X , y = load_boston(return_X_y= True)\n",
        "X_train, X_test, y_train, y_test = train_test_split(X,y, test_size = 0.2)"
      ],
      "execution_count": null,
      "outputs": []
    },
    {
      "cell_type": "code",
      "metadata": {
        "id": "Cp-WqutF9kjF",
        "colab": {
          "base_uri": "https://localhost:8080/",
          "height": 417
        },
        "outputId": "85fb665b-c92d-4a5c-e990-0d0c59ecf700"
      },
      "source": [
        "boston_train_df =  pd.DataFrame(data = X_train , columns = boston.feature_names)\n",
        "boston_train_df['TARGET'] = y_train\n",
        "boston_train_df"
      ],
      "execution_count": null,
      "outputs": [
        {
          "output_type": "execute_result",
          "data": {
            "text/html": [
              "<div>\n",
              "<style scoped>\n",
              "    .dataframe tbody tr th:only-of-type {\n",
              "        vertical-align: middle;\n",
              "    }\n",
              "\n",
              "    .dataframe tbody tr th {\n",
              "        vertical-align: top;\n",
              "    }\n",
              "\n",
              "    .dataframe thead th {\n",
              "        text-align: right;\n",
              "    }\n",
              "</style>\n",
              "<table border=\"1\" class=\"dataframe\">\n",
              "  <thead>\n",
              "    <tr style=\"text-align: right;\">\n",
              "      <th></th>\n",
              "      <th>CRIM</th>\n",
              "      <th>ZN</th>\n",
              "      <th>INDUS</th>\n",
              "      <th>CHAS</th>\n",
              "      <th>NOX</th>\n",
              "      <th>RM</th>\n",
              "      <th>AGE</th>\n",
              "      <th>DIS</th>\n",
              "      <th>RAD</th>\n",
              "      <th>TAX</th>\n",
              "      <th>PTRATIO</th>\n",
              "      <th>B</th>\n",
              "      <th>LSTAT</th>\n",
              "      <th>TARGET</th>\n",
              "    </tr>\n",
              "  </thead>\n",
              "  <tbody>\n",
              "    <tr>\n",
              "      <th>0</th>\n",
              "      <td>6.44405</td>\n",
              "      <td>0.0</td>\n",
              "      <td>18.10</td>\n",
              "      <td>0.0</td>\n",
              "      <td>0.584</td>\n",
              "      <td>6.425</td>\n",
              "      <td>74.8</td>\n",
              "      <td>2.2004</td>\n",
              "      <td>24.0</td>\n",
              "      <td>666.0</td>\n",
              "      <td>20.2</td>\n",
              "      <td>97.95</td>\n",
              "      <td>12.03</td>\n",
              "      <td>16.1</td>\n",
              "    </tr>\n",
              "    <tr>\n",
              "      <th>1</th>\n",
              "      <td>0.08387</td>\n",
              "      <td>0.0</td>\n",
              "      <td>12.83</td>\n",
              "      <td>0.0</td>\n",
              "      <td>0.437</td>\n",
              "      <td>5.874</td>\n",
              "      <td>36.6</td>\n",
              "      <td>4.5026</td>\n",
              "      <td>5.0</td>\n",
              "      <td>398.0</td>\n",
              "      <td>18.7</td>\n",
              "      <td>396.06</td>\n",
              "      <td>9.10</td>\n",
              "      <td>20.3</td>\n",
              "    </tr>\n",
              "    <tr>\n",
              "      <th>2</th>\n",
              "      <td>2.37857</td>\n",
              "      <td>0.0</td>\n",
              "      <td>18.10</td>\n",
              "      <td>0.0</td>\n",
              "      <td>0.583</td>\n",
              "      <td>5.871</td>\n",
              "      <td>41.9</td>\n",
              "      <td>3.7240</td>\n",
              "      <td>24.0</td>\n",
              "      <td>666.0</td>\n",
              "      <td>20.2</td>\n",
              "      <td>370.73</td>\n",
              "      <td>13.34</td>\n",
              "      <td>20.6</td>\n",
              "    </tr>\n",
              "    <tr>\n",
              "      <th>3</th>\n",
              "      <td>0.08308</td>\n",
              "      <td>0.0</td>\n",
              "      <td>2.46</td>\n",
              "      <td>0.0</td>\n",
              "      <td>0.488</td>\n",
              "      <td>5.604</td>\n",
              "      <td>89.8</td>\n",
              "      <td>2.9879</td>\n",
              "      <td>3.0</td>\n",
              "      <td>193.0</td>\n",
              "      <td>17.8</td>\n",
              "      <td>391.00</td>\n",
              "      <td>13.98</td>\n",
              "      <td>26.4</td>\n",
              "    </tr>\n",
              "    <tr>\n",
              "      <th>4</th>\n",
              "      <td>0.09266</td>\n",
              "      <td>34.0</td>\n",
              "      <td>6.09</td>\n",
              "      <td>0.0</td>\n",
              "      <td>0.433</td>\n",
              "      <td>6.495</td>\n",
              "      <td>18.4</td>\n",
              "      <td>5.4917</td>\n",
              "      <td>7.0</td>\n",
              "      <td>329.0</td>\n",
              "      <td>16.1</td>\n",
              "      <td>383.61</td>\n",
              "      <td>8.67</td>\n",
              "      <td>26.4</td>\n",
              "    </tr>\n",
              "    <tr>\n",
              "      <th>...</th>\n",
              "      <td>...</td>\n",
              "      <td>...</td>\n",
              "      <td>...</td>\n",
              "      <td>...</td>\n",
              "      <td>...</td>\n",
              "      <td>...</td>\n",
              "      <td>...</td>\n",
              "      <td>...</td>\n",
              "      <td>...</td>\n",
              "      <td>...</td>\n",
              "      <td>...</td>\n",
              "      <td>...</td>\n",
              "      <td>...</td>\n",
              "      <td>...</td>\n",
              "    </tr>\n",
              "    <tr>\n",
              "      <th>399</th>\n",
              "      <td>4.26131</td>\n",
              "      <td>0.0</td>\n",
              "      <td>18.10</td>\n",
              "      <td>0.0</td>\n",
              "      <td>0.770</td>\n",
              "      <td>6.112</td>\n",
              "      <td>81.3</td>\n",
              "      <td>2.5091</td>\n",
              "      <td>24.0</td>\n",
              "      <td>666.0</td>\n",
              "      <td>20.2</td>\n",
              "      <td>390.74</td>\n",
              "      <td>12.67</td>\n",
              "      <td>22.6</td>\n",
              "    </tr>\n",
              "    <tr>\n",
              "      <th>400</th>\n",
              "      <td>1.62864</td>\n",
              "      <td>0.0</td>\n",
              "      <td>21.89</td>\n",
              "      <td>0.0</td>\n",
              "      <td>0.624</td>\n",
              "      <td>5.019</td>\n",
              "      <td>100.0</td>\n",
              "      <td>1.4394</td>\n",
              "      <td>4.0</td>\n",
              "      <td>437.0</td>\n",
              "      <td>21.2</td>\n",
              "      <td>396.90</td>\n",
              "      <td>34.41</td>\n",
              "      <td>14.4</td>\n",
              "    </tr>\n",
              "    <tr>\n",
              "      <th>401</th>\n",
              "      <td>0.10574</td>\n",
              "      <td>0.0</td>\n",
              "      <td>27.74</td>\n",
              "      <td>0.0</td>\n",
              "      <td>0.609</td>\n",
              "      <td>5.983</td>\n",
              "      <td>98.8</td>\n",
              "      <td>1.8681</td>\n",
              "      <td>4.0</td>\n",
              "      <td>711.0</td>\n",
              "      <td>20.1</td>\n",
              "      <td>390.11</td>\n",
              "      <td>18.07</td>\n",
              "      <td>13.6</td>\n",
              "    </tr>\n",
              "    <tr>\n",
              "      <th>402</th>\n",
              "      <td>8.26725</td>\n",
              "      <td>0.0</td>\n",
              "      <td>18.10</td>\n",
              "      <td>1.0</td>\n",
              "      <td>0.668</td>\n",
              "      <td>5.875</td>\n",
              "      <td>89.6</td>\n",
              "      <td>1.1296</td>\n",
              "      <td>24.0</td>\n",
              "      <td>666.0</td>\n",
              "      <td>20.2</td>\n",
              "      <td>347.88</td>\n",
              "      <td>8.88</td>\n",
              "      <td>50.0</td>\n",
              "    </tr>\n",
              "    <tr>\n",
              "      <th>403</th>\n",
              "      <td>1.23247</td>\n",
              "      <td>0.0</td>\n",
              "      <td>8.14</td>\n",
              "      <td>0.0</td>\n",
              "      <td>0.538</td>\n",
              "      <td>6.142</td>\n",
              "      <td>91.7</td>\n",
              "      <td>3.9769</td>\n",
              "      <td>4.0</td>\n",
              "      <td>307.0</td>\n",
              "      <td>21.0</td>\n",
              "      <td>396.90</td>\n",
              "      <td>18.72</td>\n",
              "      <td>15.2</td>\n",
              "    </tr>\n",
              "  </tbody>\n",
              "</table>\n",
              "<p>404 rows × 14 columns</p>\n",
              "</div>"
            ],
            "text/plain": [
              "        CRIM    ZN  INDUS  CHAS    NOX  ...    TAX  PTRATIO       B  LSTAT  TARGET\n",
              "0    6.44405   0.0  18.10   0.0  0.584  ...  666.0     20.2   97.95  12.03    16.1\n",
              "1    0.08387   0.0  12.83   0.0  0.437  ...  398.0     18.7  396.06   9.10    20.3\n",
              "2    2.37857   0.0  18.10   0.0  0.583  ...  666.0     20.2  370.73  13.34    20.6\n",
              "3    0.08308   0.0   2.46   0.0  0.488  ...  193.0     17.8  391.00  13.98    26.4\n",
              "4    0.09266  34.0   6.09   0.0  0.433  ...  329.0     16.1  383.61   8.67    26.4\n",
              "..       ...   ...    ...   ...    ...  ...    ...      ...     ...    ...     ...\n",
              "399  4.26131   0.0  18.10   0.0  0.770  ...  666.0     20.2  390.74  12.67    22.6\n",
              "400  1.62864   0.0  21.89   0.0  0.624  ...  437.0     21.2  396.90  34.41    14.4\n",
              "401  0.10574   0.0  27.74   0.0  0.609  ...  711.0     20.1  390.11  18.07    13.6\n",
              "402  8.26725   0.0  18.10   1.0  0.668  ...  666.0     20.2  347.88   8.88    50.0\n",
              "403  1.23247   0.0   8.14   0.0  0.538  ...  307.0     21.0  396.90  18.72    15.2\n",
              "\n",
              "[404 rows x 14 columns]"
            ]
          },
          "metadata": {
            "tags": []
          },
          "execution_count": 111
        }
      ]
    },
    {
      "cell_type": "code",
      "metadata": {
        "id": "nUQDbwd692qF",
        "colab": {
          "base_uri": "https://localhost:8080/",
          "height": 437
        },
        "outputId": "69cc9df8-0ecf-4d26-9ac7-b7563c35316f"
      },
      "source": [
        "boston_test_df =  pd.DataFrame(data = X_test , columns = boston.feature_names)\n",
        "boston_test_df['TARGET'] = y_test\n",
        "boston_test_df"
      ],
      "execution_count": null,
      "outputs": [
        {
          "output_type": "execute_result",
          "data": {
            "text/html": [
              "<div>\n",
              "<style scoped>\n",
              "    .dataframe tbody tr th:only-of-type {\n",
              "        vertical-align: middle;\n",
              "    }\n",
              "\n",
              "    .dataframe tbody tr th {\n",
              "        vertical-align: top;\n",
              "    }\n",
              "\n",
              "    .dataframe thead th {\n",
              "        text-align: right;\n",
              "    }\n",
              "</style>\n",
              "<table border=\"1\" class=\"dataframe\">\n",
              "  <thead>\n",
              "    <tr style=\"text-align: right;\">\n",
              "      <th></th>\n",
              "      <th>CRIM</th>\n",
              "      <th>ZN</th>\n",
              "      <th>INDUS</th>\n",
              "      <th>CHAS</th>\n",
              "      <th>NOX</th>\n",
              "      <th>RM</th>\n",
              "      <th>AGE</th>\n",
              "      <th>DIS</th>\n",
              "      <th>RAD</th>\n",
              "      <th>TAX</th>\n",
              "      <th>PTRATIO</th>\n",
              "      <th>B</th>\n",
              "      <th>LSTAT</th>\n",
              "      <th>TARGET</th>\n",
              "    </tr>\n",
              "  </thead>\n",
              "  <tbody>\n",
              "    <tr>\n",
              "      <th>0</th>\n",
              "      <td>0.16760</td>\n",
              "      <td>0.0</td>\n",
              "      <td>7.38</td>\n",
              "      <td>0.0</td>\n",
              "      <td>0.493</td>\n",
              "      <td>6.426</td>\n",
              "      <td>52.3</td>\n",
              "      <td>4.5404</td>\n",
              "      <td>5.0</td>\n",
              "      <td>287.0</td>\n",
              "      <td>19.6</td>\n",
              "      <td>396.90</td>\n",
              "      <td>7.20</td>\n",
              "      <td>23.8</td>\n",
              "    </tr>\n",
              "    <tr>\n",
              "      <th>1</th>\n",
              "      <td>0.13914</td>\n",
              "      <td>0.0</td>\n",
              "      <td>4.05</td>\n",
              "      <td>0.0</td>\n",
              "      <td>0.510</td>\n",
              "      <td>5.572</td>\n",
              "      <td>88.5</td>\n",
              "      <td>2.5961</td>\n",
              "      <td>5.0</td>\n",
              "      <td>296.0</td>\n",
              "      <td>16.6</td>\n",
              "      <td>396.90</td>\n",
              "      <td>14.69</td>\n",
              "      <td>23.1</td>\n",
              "    </tr>\n",
              "    <tr>\n",
              "      <th>2</th>\n",
              "      <td>0.35114</td>\n",
              "      <td>0.0</td>\n",
              "      <td>7.38</td>\n",
              "      <td>0.0</td>\n",
              "      <td>0.493</td>\n",
              "      <td>6.041</td>\n",
              "      <td>49.9</td>\n",
              "      <td>4.7211</td>\n",
              "      <td>5.0</td>\n",
              "      <td>287.0</td>\n",
              "      <td>19.6</td>\n",
              "      <td>396.90</td>\n",
              "      <td>7.70</td>\n",
              "      <td>20.4</td>\n",
              "    </tr>\n",
              "    <tr>\n",
              "      <th>3</th>\n",
              "      <td>0.25915</td>\n",
              "      <td>0.0</td>\n",
              "      <td>21.89</td>\n",
              "      <td>0.0</td>\n",
              "      <td>0.624</td>\n",
              "      <td>5.693</td>\n",
              "      <td>96.0</td>\n",
              "      <td>1.7883</td>\n",
              "      <td>4.0</td>\n",
              "      <td>437.0</td>\n",
              "      <td>21.2</td>\n",
              "      <td>392.11</td>\n",
              "      <td>17.19</td>\n",
              "      <td>16.2</td>\n",
              "    </tr>\n",
              "    <tr>\n",
              "      <th>4</th>\n",
              "      <td>4.89822</td>\n",
              "      <td>0.0</td>\n",
              "      <td>18.10</td>\n",
              "      <td>0.0</td>\n",
              "      <td>0.631</td>\n",
              "      <td>4.970</td>\n",
              "      <td>100.0</td>\n",
              "      <td>1.3325</td>\n",
              "      <td>24.0</td>\n",
              "      <td>666.0</td>\n",
              "      <td>20.2</td>\n",
              "      <td>375.52</td>\n",
              "      <td>3.26</td>\n",
              "      <td>50.0</td>\n",
              "    </tr>\n",
              "    <tr>\n",
              "      <th>...</th>\n",
              "      <td>...</td>\n",
              "      <td>...</td>\n",
              "      <td>...</td>\n",
              "      <td>...</td>\n",
              "      <td>...</td>\n",
              "      <td>...</td>\n",
              "      <td>...</td>\n",
              "      <td>...</td>\n",
              "      <td>...</td>\n",
              "      <td>...</td>\n",
              "      <td>...</td>\n",
              "      <td>...</td>\n",
              "      <td>...</td>\n",
              "      <td>...</td>\n",
              "    </tr>\n",
              "    <tr>\n",
              "      <th>97</th>\n",
              "      <td>3.16360</td>\n",
              "      <td>0.0</td>\n",
              "      <td>18.10</td>\n",
              "      <td>0.0</td>\n",
              "      <td>0.655</td>\n",
              "      <td>5.759</td>\n",
              "      <td>48.2</td>\n",
              "      <td>3.0665</td>\n",
              "      <td>24.0</td>\n",
              "      <td>666.0</td>\n",
              "      <td>20.2</td>\n",
              "      <td>334.40</td>\n",
              "      <td>14.13</td>\n",
              "      <td>19.9</td>\n",
              "    </tr>\n",
              "    <tr>\n",
              "      <th>98</th>\n",
              "      <td>0.07875</td>\n",
              "      <td>45.0</td>\n",
              "      <td>3.44</td>\n",
              "      <td>0.0</td>\n",
              "      <td>0.437</td>\n",
              "      <td>6.782</td>\n",
              "      <td>41.1</td>\n",
              "      <td>3.7886</td>\n",
              "      <td>5.0</td>\n",
              "      <td>398.0</td>\n",
              "      <td>15.2</td>\n",
              "      <td>393.87</td>\n",
              "      <td>6.68</td>\n",
              "      <td>32.0</td>\n",
              "    </tr>\n",
              "    <tr>\n",
              "      <th>99</th>\n",
              "      <td>1.20742</td>\n",
              "      <td>0.0</td>\n",
              "      <td>19.58</td>\n",
              "      <td>0.0</td>\n",
              "      <td>0.605</td>\n",
              "      <td>5.875</td>\n",
              "      <td>94.6</td>\n",
              "      <td>2.4259</td>\n",
              "      <td>5.0</td>\n",
              "      <td>403.0</td>\n",
              "      <td>14.7</td>\n",
              "      <td>292.29</td>\n",
              "      <td>14.43</td>\n",
              "      <td>17.4</td>\n",
              "    </tr>\n",
              "    <tr>\n",
              "      <th>100</th>\n",
              "      <td>3.69695</td>\n",
              "      <td>0.0</td>\n",
              "      <td>18.10</td>\n",
              "      <td>0.0</td>\n",
              "      <td>0.718</td>\n",
              "      <td>4.963</td>\n",
              "      <td>91.4</td>\n",
              "      <td>1.7523</td>\n",
              "      <td>24.0</td>\n",
              "      <td>666.0</td>\n",
              "      <td>20.2</td>\n",
              "      <td>316.03</td>\n",
              "      <td>14.00</td>\n",
              "      <td>21.9</td>\n",
              "    </tr>\n",
              "    <tr>\n",
              "      <th>101</th>\n",
              "      <td>41.52920</td>\n",
              "      <td>0.0</td>\n",
              "      <td>18.10</td>\n",
              "      <td>0.0</td>\n",
              "      <td>0.693</td>\n",
              "      <td>5.531</td>\n",
              "      <td>85.4</td>\n",
              "      <td>1.6074</td>\n",
              "      <td>24.0</td>\n",
              "      <td>666.0</td>\n",
              "      <td>20.2</td>\n",
              "      <td>329.46</td>\n",
              "      <td>27.38</td>\n",
              "      <td>8.5</td>\n",
              "    </tr>\n",
              "  </tbody>\n",
              "</table>\n",
              "<p>102 rows × 14 columns</p>\n",
              "</div>"
            ],
            "text/plain": [
              "         CRIM    ZN  INDUS  CHAS    NOX  ...    TAX  PTRATIO       B  LSTAT  TARGET\n",
              "0     0.16760   0.0   7.38   0.0  0.493  ...  287.0     19.6  396.90   7.20    23.8\n",
              "1     0.13914   0.0   4.05   0.0  0.510  ...  296.0     16.6  396.90  14.69    23.1\n",
              "2     0.35114   0.0   7.38   0.0  0.493  ...  287.0     19.6  396.90   7.70    20.4\n",
              "3     0.25915   0.0  21.89   0.0  0.624  ...  437.0     21.2  392.11  17.19    16.2\n",
              "4     4.89822   0.0  18.10   0.0  0.631  ...  666.0     20.2  375.52   3.26    50.0\n",
              "..        ...   ...    ...   ...    ...  ...    ...      ...     ...    ...     ...\n",
              "97    3.16360   0.0  18.10   0.0  0.655  ...  666.0     20.2  334.40  14.13    19.9\n",
              "98    0.07875  45.0   3.44   0.0  0.437  ...  398.0     15.2  393.87   6.68    32.0\n",
              "99    1.20742   0.0  19.58   0.0  0.605  ...  403.0     14.7  292.29  14.43    17.4\n",
              "100   3.69695   0.0  18.10   0.0  0.718  ...  666.0     20.2  316.03  14.00    21.9\n",
              "101  41.52920   0.0  18.10   0.0  0.693  ...  666.0     20.2  329.46  27.38     8.5\n",
              "\n",
              "[102 rows x 14 columns]"
            ]
          },
          "metadata": {
            "tags": []
          },
          "execution_count": 113
        }
      ]
    },
    {
      "cell_type": "code",
      "metadata": {
        "id": "VpdP6eeW_KFB"
      },
      "source": [
        "scaler = StandardScaler()"
      ],
      "execution_count": null,
      "outputs": []
    },
    {
      "cell_type": "code",
      "metadata": {
        "id": "cSKGUaSp_VaT"
      },
      "source": [
        "X_train_scale = scaler.fit_transform(X_train)\n",
        "X_test_scale = scaler.transform(X_test)"
      ],
      "execution_count": null,
      "outputs": []
    },
    {
      "cell_type": "code",
      "metadata": {
        "id": "UYzm6TnO_e2H",
        "colab": {
          "base_uri": "https://localhost:8080/"
        },
        "outputId": "cc4560fc-102f-4bcc-e549-8944ab9e20ff"
      },
      "source": [
        "model = KNeighborsRegressor()\n",
        "model.fit(X_train, y_train)"
      ],
      "execution_count": null,
      "outputs": [
        {
          "output_type": "execute_result",
          "data": {
            "text/plain": [
              "KNeighborsRegressor(algorithm='auto', leaf_size=30, metric='minkowski',\n",
              "                    metric_params=None, n_jobs=None, n_neighbors=5, p=2,\n",
              "                    weights='uniform')"
            ]
          },
          "metadata": {
            "tags": []
          },
          "execution_count": 116
        }
      ]
    },
    {
      "cell_type": "code",
      "metadata": {
        "id": "zPeGHLed_jup",
        "colab": {
          "base_uri": "https://localhost:8080/"
        },
        "outputId": "da590288-0d9b-4443-b964-e1e07b04ee73"
      },
      "source": [
        "print(\"학습데이터 점수: {}\".format(model.score(X_train, y_train)))\n",
        "print(\"평가 데이터 점수: {}\".format(model.score(X_test, y_test)))"
      ],
      "execution_count": null,
      "outputs": [
        {
          "output_type": "stream",
          "text": [
            "학습데이터 점수: 0.6670189851304187\n",
            "평가 데이터 점수: 0.513942687820848\n"
          ],
          "name": "stdout"
        }
      ]
    },
    {
      "cell_type": "code",
      "metadata": {
        "id": "_FFenXKu_oSZ",
        "colab": {
          "base_uri": "https://localhost:8080/"
        },
        "outputId": "b4ce9651-6c9d-4983-9475-10bed104374b"
      },
      "source": [
        "model = KNeighborsRegressor()\n",
        "model.fit(X_train_scale, y_train)"
      ],
      "execution_count": null,
      "outputs": [
        {
          "output_type": "execute_result",
          "data": {
            "text/plain": [
              "KNeighborsRegressor(algorithm='auto', leaf_size=30, metric='minkowski',\n",
              "                    metric_params=None, n_jobs=None, n_neighbors=5, p=2,\n",
              "                    weights='uniform')"
            ]
          },
          "metadata": {
            "tags": []
          },
          "execution_count": 118
        }
      ]
    },
    {
      "cell_type": "code",
      "metadata": {
        "id": "NarjBlyh_8EA",
        "colab": {
          "base_uri": "https://localhost:8080/"
        },
        "outputId": "b4b4ec3f-c36a-458e-b6b1-b74c88ecdac9"
      },
      "source": [
        "print(\"학습데이터 점수: {}\".format(model.score(X_train_scale, y_train)))\n",
        "print(\"평가 데이터 점수: {}\".format(model.score(X_test_scale, y_test)))"
      ],
      "execution_count": null,
      "outputs": [
        {
          "output_type": "stream",
          "text": [
            "학습데이터 점수: 0.8375170972144208\n",
            "평가 데이터 점수: 0.7004898101604413\n"
          ],
          "name": "stdout"
        }
      ]
    },
    {
      "cell_type": "code",
      "metadata": {
        "id": "TJnxWFUQ2mUi"
      },
      "source": [
        "estimator = make_pipeline(\n",
        "    StandardScaler(),\n",
        "    KNeighborsRegressor()\n",
        ")"
      ],
      "execution_count": null,
      "outputs": []
    },
    {
      "cell_type": "code",
      "metadata": {
        "colab": {
          "base_uri": "https://localhost:8080/"
        },
        "id": "qR0FzN232mUj",
        "outputId": "3d329974-b8d6-417b-caa2-aafd78561221"
      },
      "source": [
        "cross_validate(\n",
        "    estimator = estimator,\n",
        "    X= X, y= y,\n",
        "    cv = 5,\n",
        "    n_jobs = multiprocessing.cpu_count(),\n",
        "    verbose= True\n",
        ")"
      ],
      "execution_count": null,
      "outputs": [
        {
          "output_type": "stream",
          "text": [
            "[Parallel(n_jobs=2)]: Using backend LokyBackend with 2 concurrent workers.\n",
            "[Parallel(n_jobs=2)]: Done   5 out of   5 | elapsed:    0.0s finished\n"
          ],
          "name": "stderr"
        },
        {
          "output_type": "execute_result",
          "data": {
            "text/plain": [
              "{'fit_time': array([0.00255418, 0.00245237, 0.0025928 , 0.00206065, 0.00230527]),\n",
              " 'score_time': array([0.00332093, 0.00307465, 0.00288486, 0.00305104, 0.00154877]),\n",
              " 'test_score': array([0.56089547, 0.61917359, 0.48661916, 0.46986886, 0.23133037])}"
            ]
          },
          "metadata": {
            "tags": []
          },
          "execution_count": 124
        }
      ]
    },
    {
      "cell_type": "code",
      "metadata": {
        "id": "l3WLHNG42mUj"
      },
      "source": [
        "pipe = Pipeline(\n",
        "    [('scaler', StandardScaler()),\n",
        "     ('model', KNeighborsRegressor())]\n",
        ")"
      ],
      "execution_count": null,
      "outputs": []
    },
    {
      "cell_type": "code",
      "metadata": {
        "id": "5_Vy4fs_2mUj"
      },
      "source": [
        "param_grid = [{'model__n_neighbors': [3,5,7],\n",
        "               'model__weights': ['uniform', 'distance'],\n",
        "               'model__algorithm': ['ball_tree', 'kd_tree',' brute']}]"
      ],
      "execution_count": null,
      "outputs": []
    },
    {
      "cell_type": "code",
      "metadata": {
        "id": "luXK4Awm2mUj"
      },
      "source": [
        "gs = GridSearchCV(\n",
        "    estimator = pipe,\n",
        "    param_grid = param_grid,\n",
        "    n_jobs = multiprocessing.cpu_count(),\n",
        "    verbose = True\n",
        ")"
      ],
      "execution_count": null,
      "outputs": []
    },
    {
      "cell_type": "code",
      "metadata": {
        "colab": {
          "base_uri": "https://localhost:8080/"
        },
        "id": "AX6YfSh22mUj",
        "outputId": "2038760f-12f5-4994-ae87-67943df93996"
      },
      "source": [
        "gs.fit(X,y)"
      ],
      "execution_count": null,
      "outputs": [
        {
          "output_type": "stream",
          "text": [
            "Fitting 5 folds for each of 18 candidates, totalling 90 fits\n"
          ],
          "name": "stdout"
        },
        {
          "output_type": "stream",
          "text": [
            "[Parallel(n_jobs=2)]: Using backend LokyBackend with 2 concurrent workers.\n",
            "[Parallel(n_jobs=2)]: Done  90 out of  90 | elapsed:    0.4s finished\n"
          ],
          "name": "stderr"
        },
        {
          "output_type": "execute_result",
          "data": {
            "text/plain": [
              "GridSearchCV(cv=None, error_score=nan,\n",
              "             estimator=Pipeline(memory=None,\n",
              "                                steps=[('scaler',\n",
              "                                        StandardScaler(copy=True,\n",
              "                                                       with_mean=True,\n",
              "                                                       with_std=True)),\n",
              "                                       ('model',\n",
              "                                        KNeighborsRegressor(algorithm='auto',\n",
              "                                                            leaf_size=30,\n",
              "                                                            metric='minkowski',\n",
              "                                                            metric_params=None,\n",
              "                                                            n_jobs=None,\n",
              "                                                            n_neighbors=5, p=2,\n",
              "                                                            weights='uniform'))],\n",
              "                                verbose=False),\n",
              "             iid='deprecated', n_jobs=2,\n",
              "             param_grid=[{'model__algorithm': ['ball_tree', 'kd_tree',\n",
              "                                               ' brute'],\n",
              "                          'model__n_neighbors': [3, 5, 7],\n",
              "                          'model__weights': ['uniform', 'distance']}],\n",
              "             pre_dispatch='2*n_jobs', refit=True, return_train_score=False,\n",
              "             scoring=None, verbose=True)"
            ]
          },
          "metadata": {
            "tags": []
          },
          "execution_count": 129
        }
      ]
    },
    {
      "cell_type": "code",
      "metadata": {
        "colab": {
          "base_uri": "https://localhost:8080/"
        },
        "id": "v_pBgBzd2mUk",
        "outputId": "553c75f7-95a0-4f91-d366-30a8ed5e3359"
      },
      "source": [
        "gs.best_estimator_"
      ],
      "execution_count": null,
      "outputs": [
        {
          "output_type": "execute_result",
          "data": {
            "text/plain": [
              "Pipeline(memory=None,\n",
              "         steps=[('scaler',\n",
              "                 StandardScaler(copy=True, with_mean=True, with_std=True)),\n",
              "                ('model',\n",
              "                 KNeighborsRegressor(algorithm='ball_tree', leaf_size=30,\n",
              "                                     metric='minkowski', metric_params=None,\n",
              "                                     n_jobs=None, n_neighbors=7, p=2,\n",
              "                                     weights='distance'))],\n",
              "         verbose=False)"
            ]
          },
          "metadata": {
            "tags": []
          },
          "execution_count": 130
        }
      ]
    },
    {
      "cell_type": "code",
      "metadata": {
        "colab": {
          "base_uri": "https://localhost:8080/"
        },
        "id": "iS5KNcLj2mUk",
        "outputId": "252334ce-4b84-421f-b651-7d3f197d7eef"
      },
      "source": [
        "print('GridSearchCV best score: {}'.format(gs.best_score_))"
      ],
      "execution_count": null,
      "outputs": [
        {
          "output_type": "stream",
          "text": [
            "GridSearchCV best score: 0.4973060611762845\n"
          ],
          "name": "stdout"
        }
      ]
    },
    {
      "cell_type": "code",
      "metadata": {
        "id": "QZjgSkBh2mUk"
      },
      "source": [
        "tsne = TSNE(n_components=1)\n",
        "X_comp = tsne.fit_transform(X)"
      ],
      "execution_count": null,
      "outputs": []
    },
    {
      "cell_type": "code",
      "metadata": {
        "id": "I6ky3Fh12mUk"
      },
      "source": [
        "boston_comp_df = pd.DataFrame(data = X_comp)\n",
        "boston_comp_df['target'] = y"
      ],
      "execution_count": null,
      "outputs": []
    },
    {
      "cell_type": "code",
      "metadata": {
        "colab": {
          "base_uri": "https://localhost:8080/",
          "height": 417
        },
        "id": "oojlAYBK2mUk",
        "outputId": "8123648a-973b-4075-f3da-ef36ea371b58"
      },
      "source": [
        "boston_comp_df"
      ],
      "execution_count": null,
      "outputs": [
        {
          "output_type": "execute_result",
          "data": {
            "text/html": [
              "<div>\n",
              "<style scoped>\n",
              "    .dataframe tbody tr th:only-of-type {\n",
              "        vertical-align: middle;\n",
              "    }\n",
              "\n",
              "    .dataframe tbody tr th {\n",
              "        vertical-align: top;\n",
              "    }\n",
              "\n",
              "    .dataframe thead th {\n",
              "        text-align: right;\n",
              "    }\n",
              "</style>\n",
              "<table border=\"1\" class=\"dataframe\">\n",
              "  <thead>\n",
              "    <tr style=\"text-align: right;\">\n",
              "      <th></th>\n",
              "      <th>0</th>\n",
              "      <th>target</th>\n",
              "    </tr>\n",
              "  </thead>\n",
              "  <tbody>\n",
              "    <tr>\n",
              "      <th>0</th>\n",
              "      <td>-3.866137</td>\n",
              "      <td>24.0</td>\n",
              "    </tr>\n",
              "    <tr>\n",
              "      <th>1</th>\n",
              "      <td>13.221082</td>\n",
              "      <td>21.6</td>\n",
              "    </tr>\n",
              "    <tr>\n",
              "      <th>2</th>\n",
              "      <td>14.027377</td>\n",
              "      <td>34.7</td>\n",
              "    </tr>\n",
              "    <tr>\n",
              "      <th>3</th>\n",
              "      <td>15.513114</td>\n",
              "      <td>33.4</td>\n",
              "    </tr>\n",
              "    <tr>\n",
              "      <th>4</th>\n",
              "      <td>15.651469</td>\n",
              "      <td>36.2</td>\n",
              "    </tr>\n",
              "    <tr>\n",
              "      <th>...</th>\n",
              "      <td>...</td>\n",
              "      <td>...</td>\n",
              "    </tr>\n",
              "    <tr>\n",
              "      <th>501</th>\n",
              "      <td>-0.630778</td>\n",
              "      <td>22.4</td>\n",
              "    </tr>\n",
              "    <tr>\n",
              "      <th>502</th>\n",
              "      <td>0.068607</td>\n",
              "      <td>20.6</td>\n",
              "    </tr>\n",
              "    <tr>\n",
              "      <th>503</th>\n",
              "      <td>0.884785</td>\n",
              "      <td>23.9</td>\n",
              "    </tr>\n",
              "    <tr>\n",
              "      <th>504</th>\n",
              "      <td>0.838245</td>\n",
              "      <td>22.0</td>\n",
              "    </tr>\n",
              "    <tr>\n",
              "      <th>505</th>\n",
              "      <td>0.359532</td>\n",
              "      <td>11.9</td>\n",
              "    </tr>\n",
              "  </tbody>\n",
              "</table>\n",
              "<p>506 rows × 2 columns</p>\n",
              "</div>"
            ],
            "text/plain": [
              "             0  target\n",
              "0    -3.866137    24.0\n",
              "1    13.221082    21.6\n",
              "2    14.027377    34.7\n",
              "3    15.513114    33.4\n",
              "4    15.651469    36.2\n",
              "..         ...     ...\n",
              "501  -0.630778    22.4\n",
              "502   0.068607    20.6\n",
              "503   0.884785    23.9\n",
              "504   0.838245    22.0\n",
              "505   0.359532    11.9\n",
              "\n",
              "[506 rows x 2 columns]"
            ]
          },
          "metadata": {
            "tags": []
          },
          "execution_count": 139
        }
      ]
    },
    {
      "cell_type": "code",
      "metadata": {
        "colab": {
          "base_uri": "https://localhost:8080/",
          "height": 265
        },
        "id": "vBOsIAwt2mUk",
        "outputId": "ab3a93fa-9154-46db-f597-da2fb59c1075"
      },
      "source": [
        "plt.scatter(X_comp, y, c ='b' ,cmap = plt.cm.coolwarm, s = 20, edgecolor = 'k');"
      ],
      "execution_count": null,
      "outputs": [
        {
          "output_type": "display_data",
          "data": {
            "image/png": "[encoded data removed]",
            "text/plain": [
              "<Figure size 432x288 with 1 Axes>"
            ]
          },
          "metadata": {
            "tags": [],
            "needs_background": "light"
          }
        }
      ]
    },
    {
      "cell_type": "code",
      "metadata": {
        "id": "6y8nDe2x2mUk"
      },
      "source": [
        "model = KNeighborsRegressor()\n",
        "model.fit(X_comp, y)\n",
        "predict = model.predict(X_comp)"
      ],
      "execution_count": null,
      "outputs": []
    },
    {
      "cell_type": "code",
      "metadata": {
        "colab": {
          "base_uri": "https://localhost:8080/",
          "height": 265
        },
        "id": "KPFo--mV2mUk",
        "outputId": "4cd56f11-1ab1-40d1-f325-748e14fea023"
      },
      "source": [
        "plt.scatter(X_comp, y, c ='b' ,cmap = plt.cm.coolwarm, s = 20, edgecolor = 'k');\n",
        "plt.scatter(X_comp, predict, c ='r' ,cmap = plt.cm.coolwarm, s = 20, edgecolor = 'k');"
      ],
      "execution_count": null,
      "outputs": [
        {
          "output_type": "display_data",
          "data": {
            "image/png": "[encoded data removed]",
            "text/plain": [
              "<Figure size 432x288 with 1 Axes>"
            ]
          },
          "metadata": {
            "tags": [],
            "needs_background": "light"
          }
        }
      ]
    },
    {
      "cell_type": "markdown",
      "metadata": {
        "id": "wiJPOXS37WGG"
      },
      "source": [
        "### 캘리포니아 주택 가격 데이터"
      ]
    },
    {
      "cell_type": "code",
      "metadata": {
        "colab": {
          "base_uri": "https://localhost:8080/"
        },
        "id": "p6E8cFbU4fSb",
        "outputId": "d2da6df3-369f-4a7f-92c0-6fd2fd11c0b1"
      },
      "source": [
        "california = fetch_california_housing()"
      ],
      "execution_count": null,
      "outputs": [
        {
          "output_type": "stream",
          "text": [
            "Downloading Cal. housing from https://ndownloader.figshare.com/files/5976036 to /root/scikit_learn_data\n"
          ],
          "name": "stderr"
        }
      ]
    },
    {
      "cell_type": "code",
      "metadata": {
        "colab": {
          "base_uri": "https://localhost:8080/",
          "height": 417
        },
        "id": "OyUwZyhL4fSb",
        "outputId": "a0df3ec2-779b-4072-8370-19fdec999f4a"
      },
      "source": [
        "california_df = pd.DataFrame(data = california.data , columns = california.feature_names)\n",
        "california_df['TARGET'] = california.target\n",
        "california_df"
      ],
      "execution_count": null,
      "outputs": [
        {
          "output_type": "execute_result",
          "data": {
            "text/html": [
              "<div>\n",
              "<style scoped>\n",
              "    .dataframe tbody tr th:only-of-type {\n",
              "        vertical-align: middle;\n",
              "    }\n",
              "\n",
              "    .dataframe tbody tr th {\n",
              "        vertical-align: top;\n",
              "    }\n",
              "\n",
              "    .dataframe thead th {\n",
              "        text-align: right;\n",
              "    }\n",
              "</style>\n",
              "<table border=\"1\" class=\"dataframe\">\n",
              "  <thead>\n",
              "    <tr style=\"text-align: right;\">\n",
              "      <th></th>\n",
              "      <th>MedInc</th>\n",
              "      <th>HouseAge</th>\n",
              "      <th>AveRooms</th>\n",
              "      <th>AveBedrms</th>\n",
              "      <th>Population</th>\n",
              "      <th>AveOccup</th>\n",
              "      <th>Latitude</th>\n",
              "      <th>Longitude</th>\n",
              "      <th>TARGET</th>\n",
              "    </tr>\n",
              "  </thead>\n",
              "  <tbody>\n",
              "    <tr>\n",
              "      <th>0</th>\n",
              "      <td>8.3252</td>\n",
              "      <td>41.0</td>\n",
              "      <td>6.984127</td>\n",
              "      <td>1.023810</td>\n",
              "      <td>322.0</td>\n",
              "      <td>2.555556</td>\n",
              "      <td>37.88</td>\n",
              "      <td>-122.23</td>\n",
              "      <td>4.526</td>\n",
              "    </tr>\n",
              "    <tr>\n",
              "      <th>1</th>\n",
              "      <td>8.3014</td>\n",
              "      <td>21.0</td>\n",
              "      <td>6.238137</td>\n",
              "      <td>0.971880</td>\n",
              "      <td>2401.0</td>\n",
              "      <td>2.109842</td>\n",
              "      <td>37.86</td>\n",
              "      <td>-122.22</td>\n",
              "      <td>3.585</td>\n",
              "    </tr>\n",
              "    <tr>\n",
              "      <th>2</th>\n",
              "      <td>7.2574</td>\n",
              "      <td>52.0</td>\n",
              "      <td>8.288136</td>\n",
              "      <td>1.073446</td>\n",
              "      <td>496.0</td>\n",
              "      <td>2.802260</td>\n",
              "      <td>37.85</td>\n",
              "      <td>-122.24</td>\n",
              "      <td>3.521</td>\n",
              "    </tr>\n",
              "    <tr>\n",
              "      <th>3</th>\n",
              "      <td>5.6431</td>\n",
              "      <td>52.0</td>\n",
              "      <td>5.817352</td>\n",
              "      <td>1.073059</td>\n",
              "      <td>558.0</td>\n",
              "      <td>2.547945</td>\n",
              "      <td>37.85</td>\n",
              "      <td>-122.25</td>\n",
              "      <td>3.413</td>\n",
              "    </tr>\n",
              "    <tr>\n",
              "      <th>4</th>\n",
              "      <td>3.8462</td>\n",
              "      <td>52.0</td>\n",
              "      <td>6.281853</td>\n",
              "      <td>1.081081</td>\n",
              "      <td>565.0</td>\n",
              "      <td>2.181467</td>\n",
              "      <td>37.85</td>\n",
              "      <td>-122.25</td>\n",
              "      <td>3.422</td>\n",
              "    </tr>\n",
              "    <tr>\n",
              "      <th>...</th>\n",
              "      <td>...</td>\n",
              "      <td>...</td>\n",
              "      <td>...</td>\n",
              "      <td>...</td>\n",
              "      <td>...</td>\n",
              "      <td>...</td>\n",
              "      <td>...</td>\n",
              "      <td>...</td>\n",
              "      <td>...</td>\n",
              "    </tr>\n",
              "    <tr>\n",
              "      <th>20635</th>\n",
              "      <td>1.5603</td>\n",
              "      <td>25.0</td>\n",
              "      <td>5.045455</td>\n",
              "      <td>1.133333</td>\n",
              "      <td>845.0</td>\n",
              "      <td>2.560606</td>\n",
              "      <td>39.48</td>\n",
              "      <td>-121.09</td>\n",
              "      <td>0.781</td>\n",
              "    </tr>\n",
              "    <tr>\n",
              "      <th>20636</th>\n",
              "      <td>2.5568</td>\n",
              "      <td>18.0</td>\n",
              "      <td>6.114035</td>\n",
              "      <td>1.315789</td>\n",
              "      <td>356.0</td>\n",
              "      <td>3.122807</td>\n",
              "      <td>39.49</td>\n",
              "      <td>-121.21</td>\n",
              "      <td>0.771</td>\n",
              "    </tr>\n",
              "    <tr>\n",
              "      <th>20637</th>\n",
              "      <td>1.7000</td>\n",
              "      <td>17.0</td>\n",
              "      <td>5.205543</td>\n",
              "      <td>1.120092</td>\n",
              "      <td>1007.0</td>\n",
              "      <td>2.325635</td>\n",
              "      <td>39.43</td>\n",
              "      <td>-121.22</td>\n",
              "      <td>0.923</td>\n",
              "    </tr>\n",
              "    <tr>\n",
              "      <th>20638</th>\n",
              "      <td>1.8672</td>\n",
              "      <td>18.0</td>\n",
              "      <td>5.329513</td>\n",
              "      <td>1.171920</td>\n",
              "      <td>741.0</td>\n",
              "      <td>2.123209</td>\n",
              "      <td>39.43</td>\n",
              "      <td>-121.32</td>\n",
              "      <td>0.847</td>\n",
              "    </tr>\n",
              "    <tr>\n",
              "      <th>20639</th>\n",
              "      <td>2.3886</td>\n",
              "      <td>16.0</td>\n",
              "      <td>5.254717</td>\n",
              "      <td>1.162264</td>\n",
              "      <td>1387.0</td>\n",
              "      <td>2.616981</td>\n",
              "      <td>39.37</td>\n",
              "      <td>-121.24</td>\n",
              "      <td>0.894</td>\n",
              "    </tr>\n",
              "  </tbody>\n",
              "</table>\n",
              "<p>20640 rows × 9 columns</p>\n",
              "</div>"
            ],
            "text/plain": [
              "       MedInc  HouseAge  AveRooms  ...  Latitude  Longitude  TARGET\n",
              "0      8.3252      41.0  6.984127  ...     37.88    -122.23   4.526\n",
              "1      8.3014      21.0  6.238137  ...     37.86    -122.22   3.585\n",
              "2      7.2574      52.0  8.288136  ...     37.85    -122.24   3.521\n",
              "3      5.6431      52.0  5.817352  ...     37.85    -122.25   3.413\n",
              "4      3.8462      52.0  6.281853  ...     37.85    -122.25   3.422\n",
              "...       ...       ...       ...  ...       ...        ...     ...\n",
              "20635  1.5603      25.0  5.045455  ...     39.48    -121.09   0.781\n",
              "20636  2.5568      18.0  6.114035  ...     39.49    -121.21   0.771\n",
              "20637  1.7000      17.0  5.205543  ...     39.43    -121.22   0.923\n",
              "20638  1.8672      18.0  5.329513  ...     39.43    -121.32   0.847\n",
              "20639  2.3886      16.0  5.254717  ...     39.37    -121.24   0.894\n",
              "\n",
              "[20640 rows x 9 columns]"
            ]
          },
          "metadata": {
            "tags": []
          },
          "execution_count": 144
        }
      ]
    },
    {
      "cell_type": "code",
      "metadata": {
        "id": "7RYPDYUN4fSb"
      },
      "source": [
        "X , y = california.data, california.target\n",
        "X_train, X_test, y_train, y_test = train_test_split(X,y, test_size = 0.2)"
      ],
      "execution_count": null,
      "outputs": []
    },
    {
      "cell_type": "code",
      "metadata": {
        "colab": {
          "base_uri": "https://localhost:8080/",
          "height": 417
        },
        "id": "ghNNaA6A4fSb",
        "outputId": "cfc8da35-fae0-4ae8-aeb4-abf52d61b84c"
      },
      "source": [
        "california_train_df =  pd.DataFrame(data = X_train , columns = california.feature_names)\n",
        "california_train_df['TARGET'] = y_train\n",
        "california_train_df"
      ],
      "execution_count": null,
      "outputs": [
        {
          "output_type": "execute_result",
          "data": {
            "text/html": [
              "<div>\n",
              "<style scoped>\n",
              "    .dataframe tbody tr th:only-of-type {\n",
              "        vertical-align: middle;\n",
              "    }\n",
              "\n",
              "    .dataframe tbody tr th {\n",
              "        vertical-align: top;\n",
              "    }\n",
              "\n",
              "    .dataframe thead th {\n",
              "        text-align: right;\n",
              "    }\n",
              "</style>\n",
              "<table border=\"1\" class=\"dataframe\">\n",
              "  <thead>\n",
              "    <tr style=\"text-align: right;\">\n",
              "      <th></th>\n",
              "      <th>MedInc</th>\n",
              "      <th>HouseAge</th>\n",
              "      <th>AveRooms</th>\n",
              "      <th>AveBedrms</th>\n",
              "      <th>Population</th>\n",
              "      <th>AveOccup</th>\n",
              "      <th>Latitude</th>\n",
              "      <th>Longitude</th>\n",
              "      <th>TARGET</th>\n",
              "    </tr>\n",
              "  </thead>\n",
              "  <tbody>\n",
              "    <tr>\n",
              "      <th>0</th>\n",
              "      <td>3.7143</td>\n",
              "      <td>49.0</td>\n",
              "      <td>6.201087</td>\n",
              "      <td>1.298913</td>\n",
              "      <td>505.0</td>\n",
              "      <td>2.744565</td>\n",
              "      <td>38.53</td>\n",
              "      <td>-122.94</td>\n",
              "      <td>1.488</td>\n",
              "    </tr>\n",
              "    <tr>\n",
              "      <th>1</th>\n",
              "      <td>3.7986</td>\n",
              "      <td>38.0</td>\n",
              "      <td>5.357995</td>\n",
              "      <td>1.059666</td>\n",
              "      <td>1540.0</td>\n",
              "      <td>3.675418</td>\n",
              "      <td>34.01</td>\n",
              "      <td>-118.07</td>\n",
              "      <td>1.710</td>\n",
              "    </tr>\n",
              "    <tr>\n",
              "      <th>2</th>\n",
              "      <td>3.8958</td>\n",
              "      <td>4.0</td>\n",
              "      <td>6.631769</td>\n",
              "      <td>1.036101</td>\n",
              "      <td>934.0</td>\n",
              "      <td>3.371841</td>\n",
              "      <td>33.23</td>\n",
              "      <td>-117.35</td>\n",
              "      <td>1.898</td>\n",
              "    </tr>\n",
              "    <tr>\n",
              "      <th>3</th>\n",
              "      <td>2.4038</td>\n",
              "      <td>46.0</td>\n",
              "      <td>3.612654</td>\n",
              "      <td>1.084877</td>\n",
              "      <td>2371.0</td>\n",
              "      <td>3.658951</td>\n",
              "      <td>34.07</td>\n",
              "      <td>-118.26</td>\n",
              "      <td>1.817</td>\n",
              "    </tr>\n",
              "    <tr>\n",
              "      <th>4</th>\n",
              "      <td>2.6091</td>\n",
              "      <td>21.0</td>\n",
              "      <td>3.783954</td>\n",
              "      <td>1.136963</td>\n",
              "      <td>5546.0</td>\n",
              "      <td>3.178223</td>\n",
              "      <td>33.90</td>\n",
              "      <td>-118.33</td>\n",
              "      <td>1.639</td>\n",
              "    </tr>\n",
              "    <tr>\n",
              "      <th>...</th>\n",
              "      <td>...</td>\n",
              "      <td>...</td>\n",
              "      <td>...</td>\n",
              "      <td>...</td>\n",
              "      <td>...</td>\n",
              "      <td>...</td>\n",
              "      <td>...</td>\n",
              "      <td>...</td>\n",
              "      <td>...</td>\n",
              "    </tr>\n",
              "    <tr>\n",
              "      <th>16507</th>\n",
              "      <td>7.1050</td>\n",
              "      <td>13.0</td>\n",
              "      <td>5.942959</td>\n",
              "      <td>1.007130</td>\n",
              "      <td>2240.0</td>\n",
              "      <td>3.992870</td>\n",
              "      <td>37.39</td>\n",
              "      <td>-121.88</td>\n",
              "      <td>2.739</td>\n",
              "    </tr>\n",
              "    <tr>\n",
              "      <th>16508</th>\n",
              "      <td>2.7222</td>\n",
              "      <td>25.0</td>\n",
              "      <td>5.528302</td>\n",
              "      <td>1.254717</td>\n",
              "      <td>1117.0</td>\n",
              "      <td>2.634434</td>\n",
              "      <td>41.86</td>\n",
              "      <td>-123.26</td>\n",
              "      <td>0.646</td>\n",
              "    </tr>\n",
              "    <tr>\n",
              "      <th>16509</th>\n",
              "      <td>3.1677</td>\n",
              "      <td>39.0</td>\n",
              "      <td>4.228938</td>\n",
              "      <td>0.963370</td>\n",
              "      <td>870.0</td>\n",
              "      <td>1.593407</td>\n",
              "      <td>34.07</td>\n",
              "      <td>-118.37</td>\n",
              "      <td>4.534</td>\n",
              "    </tr>\n",
              "    <tr>\n",
              "      <th>16510</th>\n",
              "      <td>7.8407</td>\n",
              "      <td>36.0</td>\n",
              "      <td>7.274671</td>\n",
              "      <td>1.039474</td>\n",
              "      <td>1719.0</td>\n",
              "      <td>2.827303</td>\n",
              "      <td>37.23</td>\n",
              "      <td>-121.96</td>\n",
              "      <td>4.764</td>\n",
              "    </tr>\n",
              "    <tr>\n",
              "      <th>16511</th>\n",
              "      <td>3.3750</td>\n",
              "      <td>30.0</td>\n",
              "      <td>5.800866</td>\n",
              "      <td>1.056277</td>\n",
              "      <td>631.0</td>\n",
              "      <td>2.731602</td>\n",
              "      <td>37.50</td>\n",
              "      <td>-120.83</td>\n",
              "      <td>1.185</td>\n",
              "    </tr>\n",
              "  </tbody>\n",
              "</table>\n",
              "<p>16512 rows × 9 columns</p>\n",
              "</div>"
            ],
            "text/plain": [
              "       MedInc  HouseAge  AveRooms  ...  Latitude  Longitude  TARGET\n",
              "0      3.7143      49.0  6.201087  ...     38.53    -122.94   1.488\n",
              "1      3.7986      38.0  5.357995  ...     34.01    -118.07   1.710\n",
              "2      3.8958       4.0  6.631769  ...     33.23    -117.35   1.898\n",
              "3      2.4038      46.0  3.612654  ...     34.07    -118.26   1.817\n",
              "4      2.6091      21.0  3.783954  ...     33.90    -118.33   1.639\n",
              "...       ...       ...       ...  ...       ...        ...     ...\n",
              "16507  7.1050      13.0  5.942959  ...     37.39    -121.88   2.739\n",
              "16508  2.7222      25.0  5.528302  ...     41.86    -123.26   0.646\n",
              "16509  3.1677      39.0  4.228938  ...     34.07    -118.37   4.534\n",
              "16510  7.8407      36.0  7.274671  ...     37.23    -121.96   4.764\n",
              "16511  3.3750      30.0  5.800866  ...     37.50    -120.83   1.185\n",
              "\n",
              "[16512 rows x 9 columns]"
            ]
          },
          "metadata": {
            "tags": []
          },
          "execution_count": 146
        }
      ]
    },
    {
      "cell_type": "code",
      "metadata": {
        "colab": {
          "base_uri": "https://localhost:8080/",
          "height": 417
        },
        "id": "r6PXPR1T4fSb",
        "outputId": "bdad08c1-debb-4502-ca71-cd2959b0d90e"
      },
      "source": [
        "california_test_df =  pd.DataFrame(data = X_test , columns = california.feature_names)\n",
        "california_test_df['TARGET'] = y_test\n",
        "california_test_df"
      ],
      "execution_count": null,
      "outputs": [
        {
          "output_type": "execute_result",
          "data": {
            "text/html": [
              "<div>\n",
              "<style scoped>\n",
              "    .dataframe tbody tr th:only-of-type {\n",
              "        vertical-align: middle;\n",
              "    }\n",
              "\n",
              "    .dataframe tbody tr th {\n",
              "        vertical-align: top;\n",
              "    }\n",
              "\n",
              "    .dataframe thead th {\n",
              "        text-align: right;\n",
              "    }\n",
              "</style>\n",
              "<table border=\"1\" class=\"dataframe\">\n",
              "  <thead>\n",
              "    <tr style=\"text-align: right;\">\n",
              "      <th></th>\n",
              "      <th>MedInc</th>\n",
              "      <th>HouseAge</th>\n",
              "      <th>AveRooms</th>\n",
              "      <th>AveBedrms</th>\n",
              "      <th>Population</th>\n",
              "      <th>AveOccup</th>\n",
              "      <th>Latitude</th>\n",
              "      <th>Longitude</th>\n",
              "      <th>TARGET</th>\n",
              "    </tr>\n",
              "  </thead>\n",
              "  <tbody>\n",
              "    <tr>\n",
              "      <th>0</th>\n",
              "      <td>3.1553</td>\n",
              "      <td>17.0</td>\n",
              "      <td>5.900990</td>\n",
              "      <td>1.067327</td>\n",
              "      <td>1531.0</td>\n",
              "      <td>3.031683</td>\n",
              "      <td>33.20</td>\n",
              "      <td>-116.99</td>\n",
              "      <td>2.50000</td>\n",
              "    </tr>\n",
              "    <tr>\n",
              "      <th>1</th>\n",
              "      <td>4.3693</td>\n",
              "      <td>44.0</td>\n",
              "      <td>5.619718</td>\n",
              "      <td>0.994718</td>\n",
              "      <td>1439.0</td>\n",
              "      <td>2.533451</td>\n",
              "      <td>37.01</td>\n",
              "      <td>-121.58</td>\n",
              "      <td>2.34000</td>\n",
              "    </tr>\n",
              "    <tr>\n",
              "      <th>2</th>\n",
              "      <td>1.8801</td>\n",
              "      <td>38.0</td>\n",
              "      <td>4.650273</td>\n",
              "      <td>1.038251</td>\n",
              "      <td>1191.0</td>\n",
              "      <td>3.254098</td>\n",
              "      <td>35.37</td>\n",
              "      <td>-119.01</td>\n",
              "      <td>0.57800</td>\n",
              "    </tr>\n",
              "    <tr>\n",
              "      <th>3</th>\n",
              "      <td>3.5959</td>\n",
              "      <td>9.0</td>\n",
              "      <td>5.241603</td>\n",
              "      <td>0.996750</td>\n",
              "      <td>2460.0</td>\n",
              "      <td>2.665222</td>\n",
              "      <td>37.77</td>\n",
              "      <td>-120.87</td>\n",
              "      <td>1.42700</td>\n",
              "    </tr>\n",
              "    <tr>\n",
              "      <th>4</th>\n",
              "      <td>3.8333</td>\n",
              "      <td>15.0</td>\n",
              "      <td>9.053571</td>\n",
              "      <td>1.750000</td>\n",
              "      <td>918.0</td>\n",
              "      <td>2.732143</td>\n",
              "      <td>38.89</td>\n",
              "      <td>-120.03</td>\n",
              "      <td>1.18800</td>\n",
              "    </tr>\n",
              "    <tr>\n",
              "      <th>...</th>\n",
              "      <td>...</td>\n",
              "      <td>...</td>\n",
              "      <td>...</td>\n",
              "      <td>...</td>\n",
              "      <td>...</td>\n",
              "      <td>...</td>\n",
              "      <td>...</td>\n",
              "      <td>...</td>\n",
              "      <td>...</td>\n",
              "    </tr>\n",
              "    <tr>\n",
              "      <th>4123</th>\n",
              "      <td>4.5399</td>\n",
              "      <td>52.0</td>\n",
              "      <td>4.898601</td>\n",
              "      <td>1.087413</td>\n",
              "      <td>954.0</td>\n",
              "      <td>1.667832</td>\n",
              "      <td>37.80</td>\n",
              "      <td>-122.43</td>\n",
              "      <td>5.00001</td>\n",
              "    </tr>\n",
              "    <tr>\n",
              "      <th>4124</th>\n",
              "      <td>2.8438</td>\n",
              "      <td>34.0</td>\n",
              "      <td>4.620968</td>\n",
              "      <td>1.069892</td>\n",
              "      <td>1444.0</td>\n",
              "      <td>3.881720</td>\n",
              "      <td>33.82</td>\n",
              "      <td>-118.21</td>\n",
              "      <td>1.39300</td>\n",
              "    </tr>\n",
              "    <tr>\n",
              "      <th>4125</th>\n",
              "      <td>6.0488</td>\n",
              "      <td>26.0</td>\n",
              "      <td>5.826797</td>\n",
              "      <td>0.973856</td>\n",
              "      <td>1048.0</td>\n",
              "      <td>3.424837</td>\n",
              "      <td>33.82</td>\n",
              "      <td>-117.88</td>\n",
              "      <td>2.32000</td>\n",
              "    </tr>\n",
              "    <tr>\n",
              "      <th>4126</th>\n",
              "      <td>2.6964</td>\n",
              "      <td>14.0</td>\n",
              "      <td>4.718693</td>\n",
              "      <td>1.015426</td>\n",
              "      <td>3221.0</td>\n",
              "      <td>2.922868</td>\n",
              "      <td>37.65</td>\n",
              "      <td>-120.95</td>\n",
              "      <td>1.07000</td>\n",
              "    </tr>\n",
              "    <tr>\n",
              "      <th>4127</th>\n",
              "      <td>3.5270</td>\n",
              "      <td>17.0</td>\n",
              "      <td>3.592995</td>\n",
              "      <td>1.169082</td>\n",
              "      <td>1453.0</td>\n",
              "      <td>1.754831</td>\n",
              "      <td>37.72</td>\n",
              "      <td>-122.54</td>\n",
              "      <td>3.18900</td>\n",
              "    </tr>\n",
              "  </tbody>\n",
              "</table>\n",
              "<p>4128 rows × 9 columns</p>\n",
              "</div>"
            ],
            "text/plain": [
              "      MedInc  HouseAge  AveRooms  ...  Latitude  Longitude   TARGET\n",
              "0     3.1553      17.0  5.900990  ...     33.20    -116.99  2.50000\n",
              "1     4.3693      44.0  5.619718  ...     37.01    -121.58  2.34000\n",
              "2     1.8801      38.0  4.650273  ...     35.37    -119.01  0.57800\n",
              "3     3.5959       9.0  5.241603  ...     37.77    -120.87  1.42700\n",
              "4     3.8333      15.0  9.053571  ...     38.89    -120.03  1.18800\n",
              "...      ...       ...       ...  ...       ...        ...      ...\n",
              "4123  4.5399      52.0  4.898601  ...     37.80    -122.43  5.00001\n",
              "4124  2.8438      34.0  4.620968  ...     33.82    -118.21  1.39300\n",
              "4125  6.0488      26.0  5.826797  ...     33.82    -117.88  2.32000\n",
              "4126  2.6964      14.0  4.718693  ...     37.65    -120.95  1.07000\n",
              "4127  3.5270      17.0  3.592995  ...     37.72    -122.54  3.18900\n",
              "\n",
              "[4128 rows x 9 columns]"
            ]
          },
          "metadata": {
            "tags": []
          },
          "execution_count": 147
        }
      ]
    },
    {
      "cell_type": "code",
      "metadata": {
        "id": "P1CKNE6_4fSc"
      },
      "source": [
        "scaler = StandardScaler()"
      ],
      "execution_count": null,
      "outputs": []
    },
    {
      "cell_type": "code",
      "metadata": {
        "id": "62lKDAOj4fSc"
      },
      "source": [
        "X_train_scale = scaler.fit_transform(X_train)\n",
        "X_test_scale = scaler.transform(X_test)"
      ],
      "execution_count": null,
      "outputs": []
    },
    {
      "cell_type": "code",
      "metadata": {
        "colab": {
          "base_uri": "https://localhost:8080/"
        },
        "id": "bAyNDtFY4fSc",
        "outputId": "617e53e9-f195-45c5-bc86-8aa625082a46"
      },
      "source": [
        "model = KNeighborsRegressor()\n",
        "model.fit(X_train, y_train)"
      ],
      "execution_count": null,
      "outputs": [
        {
          "output_type": "execute_result",
          "data": {
            "text/plain": [
              "KNeighborsRegressor(algorithm='auto', leaf_size=30, metric='minkowski',\n",
              "                    metric_params=None, n_jobs=None, n_neighbors=5, p=2,\n",
              "                    weights='uniform')"
            ]
          },
          "metadata": {
            "tags": []
          },
          "execution_count": 150
        }
      ]
    },
    {
      "cell_type": "code",
      "metadata": {
        "colab": {
          "base_uri": "https://localhost:8080/"
        },
        "id": "WhMkVZQ64fSc",
        "outputId": "0cad329d-7af3-4a75-c6e5-3f327775aa6d"
      },
      "source": [
        "print(\"학습데이터 점수: {}\".format(model.score(X_train, y_train)))\n",
        "print(\"평가 데이터 점수: {}\".format(model.score(X_test, y_test)))"
      ],
      "execution_count": null,
      "outputs": [
        {
          "output_type": "stream",
          "text": [
            "학습데이터 점수: 0.4450189314468243\n",
            "평가 데이터 점수: 0.18350713331715815\n"
          ],
          "name": "stdout"
        }
      ]
    },
    {
      "cell_type": "code",
      "metadata": {
        "colab": {
          "base_uri": "https://localhost:8080/"
        },
        "id": "8vcQBrbH4fSc",
        "outputId": "f06b00a6-7999-42c8-cc5e-9e2f159b039b"
      },
      "source": [
        "model = KNeighborsRegressor()\n",
        "model.fit(X_train_scale, y_train)"
      ],
      "execution_count": null,
      "outputs": [
        {
          "output_type": "execute_result",
          "data": {
            "text/plain": [
              "KNeighborsRegressor(algorithm='auto', leaf_size=30, metric='minkowski',\n",
              "                    metric_params=None, n_jobs=None, n_neighbors=5, p=2,\n",
              "                    weights='uniform')"
            ]
          },
          "metadata": {
            "tags": []
          },
          "execution_count": 152
        }
      ]
    },
    {
      "cell_type": "code",
      "metadata": {
        "colab": {
          "base_uri": "https://localhost:8080/"
        },
        "id": "7SFyjtey4fSc",
        "outputId": "fd028084-4665-4f6e-de1c-ec14f0d5cfc6"
      },
      "source": [
        "print(\"학습데이터 점수: {}\".format(model.score(X_train_scale, y_train)))\n",
        "print(\"평가 데이터 점수: {}\".format(model.score(X_test_scale, y_test)))"
      ],
      "execution_count": null,
      "outputs": [
        {
          "output_type": "stream",
          "text": [
            "학습데이터 점수: 0.7903072556557899\n",
            "평가 데이터 점수: 0.6890531830787964\n"
          ],
          "name": "stdout"
        }
      ]
    },
    {
      "cell_type": "code",
      "metadata": {
        "id": "Dh8-HS8N4fSc"
      },
      "source": [
        "estimator = make_pipeline(\n",
        "    StandardScaler(),\n",
        "    KNeighborsRegressor()\n",
        ")"
      ],
      "execution_count": null,
      "outputs": []
    },
    {
      "cell_type": "code",
      "metadata": {
        "colab": {
          "base_uri": "https://localhost:8080/"
        },
        "id": "rLwwZ1NH4fSc",
        "outputId": "87e613df-9505-4aaf-c194-0d8e4c72b95b"
      },
      "source": [
        "cross_validate(\n",
        "    estimator = estimator,\n",
        "    X= X, y= y,\n",
        "    cv = 5,\n",
        "    n_jobs = multiprocessing.cpu_count(),\n",
        "    verbose= True\n",
        ")"
      ],
      "execution_count": null,
      "outputs": [
        {
          "output_type": "stream",
          "text": [
            "[Parallel(n_jobs=2)]: Using backend LokyBackend with 2 concurrent workers.\n",
            "[Parallel(n_jobs=2)]: Done   5 out of   5 | elapsed:    2.3s finished\n"
          ],
          "name": "stderr"
        },
        {
          "output_type": "execute_result",
          "data": {
            "text/plain": [
              "{'fit_time': array([0.03716135, 0.04078269, 0.03769279, 0.03549528, 0.0392921 ]),\n",
              " 'score_time': array([0.55672097, 0.47166729, 0.49922204, 0.59207869, 0.36997128]),\n",
              " 'test_score': array([0.47879396, 0.4760079 , 0.57624554, 0.50259828, 0.57228584])}"
            ]
          },
          "metadata": {
            "tags": []
          },
          "execution_count": 155
        }
      ]
    },
    {
      "cell_type": "code",
      "metadata": {
        "id": "bcZf9VMt4fSd"
      },
      "source": [
        "pipe = Pipeline(\n",
        "    [('scaler', StandardScaler()),\n",
        "     ('model', KNeighborsRegressor())]\n",
        ")"
      ],
      "execution_count": null,
      "outputs": []
    },
    {
      "cell_type": "code",
      "metadata": {
        "id": "GFQFAZ8z4fSd"
      },
      "source": [
        "param_grid = [{'model__n_neighbors': [3,5,7],\n",
        "               'model__weights': ['uniform', 'distance'],\n",
        "               'model__algorithm': ['ball_tree', 'kd_tree',' brute']}]"
      ],
      "execution_count": null,
      "outputs": []
    },
    {
      "cell_type": "code",
      "metadata": {
        "id": "Z7mYFfCu4fSd"
      },
      "source": [
        "gs = GridSearchCV(\n",
        "    estimator = pipe,\n",
        "    param_grid = param_grid,\n",
        "    n_jobs = multiprocessing.cpu_count(),\n",
        "    verbose = True\n",
        ")"
      ],
      "execution_count": null,
      "outputs": []
    },
    {
      "cell_type": "code",
      "metadata": {
        "colab": {
          "base_uri": "https://localhost:8080/"
        },
        "id": "rHzaUVxD4fSd",
        "outputId": "293bb82b-33ef-4202-aed8-6b49c04e72d2"
      },
      "source": [
        "gs.fit(X,y)"
      ],
      "execution_count": null,
      "outputs": [
        {
          "output_type": "stream",
          "text": [
            "Fitting 5 folds for each of 18 candidates, totalling 90 fits\n"
          ],
          "name": "stdout"
        },
        {
          "output_type": "stream",
          "text": [
            "[Parallel(n_jobs=2)]: Using backend LokyBackend with 2 concurrent workers.\n",
            "[Parallel(n_jobs=2)]: Done  46 tasks      | elapsed:   22.9s\n",
            "[Parallel(n_jobs=2)]: Done  90 out of  90 | elapsed:   27.2s finished\n"
          ],
          "name": "stderr"
        },
        {
          "output_type": "execute_result",
          "data": {
            "text/plain": [
              "GridSearchCV(cv=None, error_score=nan,\n",
              "             estimator=Pipeline(memory=None,\n",
              "                                steps=[('scaler',\n",
              "                                        StandardScaler(copy=True,\n",
              "                                                       with_mean=True,\n",
              "                                                       with_std=True)),\n",
              "                                       ('model',\n",
              "                                        KNeighborsRegressor(algorithm='auto',\n",
              "                                                            leaf_size=30,\n",
              "                                                            metric='minkowski',\n",
              "                                                            metric_params=None,\n",
              "                                                            n_jobs=None,\n",
              "                                                            n_neighbors=5, p=2,\n",
              "                                                            weights='uniform'))],\n",
              "                                verbose=False),\n",
              "             iid='deprecated', n_jobs=2,\n",
              "             param_grid=[{'model__algorithm': ['ball_tree', 'kd_tree',\n",
              "                                               ' brute'],\n",
              "                          'model__n_neighbors': [3, 5, 7],\n",
              "                          'model__weights': ['uniform', 'distance']}],\n",
              "             pre_dispatch='2*n_jobs', refit=True, return_train_score=False,\n",
              "             scoring=None, verbose=True)"
            ]
          },
          "metadata": {
            "tags": []
          },
          "execution_count": 159
        }
      ]
    },
    {
      "cell_type": "code",
      "metadata": {
        "colab": {
          "base_uri": "https://localhost:8080/"
        },
        "id": "5NnOpLIl4fSd",
        "outputId": "bfbca3cd-8905-41aa-e3a5-b109eafb3844"
      },
      "source": [
        "gs.best_estimator_"
      ],
      "execution_count": null,
      "outputs": [
        {
          "output_type": "execute_result",
          "data": {
            "text/plain": [
              "Pipeline(memory=None,\n",
              "         steps=[('scaler',\n",
              "                 StandardScaler(copy=True, with_mean=True, with_std=True)),\n",
              "                ('model',\n",
              "                 KNeighborsRegressor(algorithm='ball_tree', leaf_size=30,\n",
              "                                     metric='minkowski', metric_params=None,\n",
              "                                     n_jobs=None, n_neighbors=7, p=2,\n",
              "                                     weights='distance'))],\n",
              "         verbose=False)"
            ]
          },
          "metadata": {
            "tags": []
          },
          "execution_count": 160
        }
      ]
    },
    {
      "cell_type": "code",
      "metadata": {
        "colab": {
          "base_uri": "https://localhost:8080/"
        },
        "id": "ZxBt9ruZ4fSd",
        "outputId": "ce08ff12-d28f-481f-a23e-0b43f724f4c7"
      },
      "source": [
        "print('GridSearchCV best score: {}'.format(gs.best_score_))"
      ],
      "execution_count": null,
      "outputs": [
        {
          "output_type": "stream",
          "text": [
            "GridSearchCV best score: 0.5376515274379832\n"
          ],
          "name": "stdout"
        }
      ]
    },
    {
      "cell_type": "code",
      "metadata": {
        "id": "faYPp9pA4fSd"
      },
      "source": [
        "tsne = TSNE(n_components=1)\n",
        "X_comp = tsne.fit_transform(X)"
      ],
      "execution_count": null,
      "outputs": []
    },
    {
      "cell_type": "code",
      "metadata": {
        "id": "ygZllYaT4fSd"
      },
      "source": [
        "boston_comp_df = pd.DataFrame(data = X_comp)\n",
        "boston_comp_df['target'] = y"
      ],
      "execution_count": null,
      "outputs": []
    },
    {
      "cell_type": "code",
      "metadata": {
        "colab": {
          "base_uri": "https://localhost:8080/",
          "height": 417
        },
        "id": "M41D-Cfl4fSd",
        "outputId": "d51678b3-f8f1-4330-90b6-b40574d04557"
      },
      "source": [
        "boston_comp_df"
      ],
      "execution_count": null,
      "outputs": [
        {
          "output_type": "execute_result",
          "data": {
            "text/html": [
              "<div>\n",
              "<style scoped>\n",
              "    .dataframe tbody tr th:only-of-type {\n",
              "        vertical-align: middle;\n",
              "    }\n",
              "\n",
              "    .dataframe tbody tr th {\n",
              "        vertical-align: top;\n",
              "    }\n",
              "\n",
              "    .dataframe thead th {\n",
              "        text-align: right;\n",
              "    }\n",
              "</style>\n",
              "<table border=\"1\" class=\"dataframe\">\n",
              "  <thead>\n",
              "    <tr style=\"text-align: right;\">\n",
              "      <th></th>\n",
              "      <th>0</th>\n",
              "      <th>target</th>\n",
              "    </tr>\n",
              "  </thead>\n",
              "  <tbody>\n",
              "    <tr>\n",
              "      <th>0</th>\n",
              "      <td>19.963375</td>\n",
              "      <td>4.526</td>\n",
              "    </tr>\n",
              "    <tr>\n",
              "      <th>1</th>\n",
              "      <td>-78.332390</td>\n",
              "      <td>3.585</td>\n",
              "    </tr>\n",
              "    <tr>\n",
              "      <th>2</th>\n",
              "      <td>45.329979</td>\n",
              "      <td>3.521</td>\n",
              "    </tr>\n",
              "    <tr>\n",
              "      <th>3</th>\n",
              "      <td>40.222668</td>\n",
              "      <td>3.413</td>\n",
              "    </tr>\n",
              "    <tr>\n",
              "      <th>4</th>\n",
              "      <td>39.724522</td>\n",
              "      <td>3.422</td>\n",
              "    </tr>\n",
              "    <tr>\n",
              "      <th>...</th>\n",
              "      <td>...</td>\n",
              "      <td>...</td>\n",
              "    </tr>\n",
              "    <tr>\n",
              "      <th>20635</th>\n",
              "      <td>-88.090981</td>\n",
              "      <td>0.781</td>\n",
              "    </tr>\n",
              "    <tr>\n",
              "      <th>20636</th>\n",
              "      <td>26.728710</td>\n",
              "      <td>0.771</td>\n",
              "    </tr>\n",
              "    <tr>\n",
              "      <th>20637</th>\n",
              "      <td>54.118237</td>\n",
              "      <td>0.923</td>\n",
              "    </tr>\n",
              "    <tr>\n",
              "      <th>20638</th>\n",
              "      <td>-94.696663</td>\n",
              "      <td>0.847</td>\n",
              "    </tr>\n",
              "    <tr>\n",
              "      <th>20639</th>\n",
              "      <td>-4.501445</td>\n",
              "      <td>0.894</td>\n",
              "    </tr>\n",
              "  </tbody>\n",
              "</table>\n",
              "<p>20640 rows × 2 columns</p>\n",
              "</div>"
            ],
            "text/plain": [
              "               0  target\n",
              "0      19.963375   4.526\n",
              "1     -78.332390   3.585\n",
              "2      45.329979   3.521\n",
              "3      40.222668   3.413\n",
              "4      39.724522   3.422\n",
              "...          ...     ...\n",
              "20635 -88.090981   0.781\n",
              "20636  26.728710   0.771\n",
              "20637  54.118237   0.923\n",
              "20638 -94.696663   0.847\n",
              "20639  -4.501445   0.894\n",
              "\n",
              "[20640 rows x 2 columns]"
            ]
          },
          "metadata": {
            "tags": []
          },
          "execution_count": 164
        }
      ]
    },
    {
      "cell_type": "code",
      "metadata": {
        "colab": {
          "base_uri": "https://localhost:8080/",
          "height": 265
        },
        "id": "Ear4fgkI4fSd",
        "outputId": "dc9fbd33-eb69-4abd-9c88-9c4ad30c00a4"
      },
      "source": [
        "plt.scatter(X_comp, y, c ='b' ,cmap = plt.cm.coolwarm, s = 20, edgecolor = 'k');"
      ],
      "execution_count": null,
      "outputs": [
        {
          "output_type": "display_data",
          "data": {
            "image/png": "[encoded data removed]",
            "text/plain": [
              "<Figure size 432x288 with 1 Axes>"
            ]
          },
          "metadata": {
            "tags": [],
            "needs_background": "light"
          }
        }
      ]
    },
    {
      "cell_type": "code",
      "metadata": {
        "id": "Avuvbho74fSe"
      },
      "source": [
        "model = KNeighborsRegressor()\n",
        "model.fit(X_comp, y)\n",
        "predict = model.predict(X_comp)"
      ],
      "execution_count": null,
      "outputs": []
    },
    {
      "cell_type": "code",
      "metadata": {
        "colab": {
          "base_uri": "https://localhost:8080/",
          "height": 265
        },
        "id": "RQGDBRFt4fSe",
        "outputId": "6c97a826-8c60-4616-aa0e-19a83f4c8e0e"
      },
      "source": [
        "plt.scatter(X_comp, y, c ='b' ,cmap = plt.cm.coolwarm, s = 20, edgecolor = 'k');\n",
        "plt.scatter(X_comp, predict, c ='r' ,cmap = plt.cm.coolwarm, s = 20, edgecolor = 'k');"
      ],
      "execution_count": null,
      "outputs": [
        {
          "output_type": "display_data",
          "data": {
            "image/png": "[encoded data removed]",
            "text/plain": [
              "<Figure size 432x288 with 1 Axes>"
            ]
          },
          "metadata": {
            "tags": [],
            "needs_background": "light"
          }
        }
      ]
    }
  ]
}